{
 "cells": [
  {
   "cell_type": "markdown",
   "id": "8f198f79-5cc5-42ca-9f99-b3327f32cb2e",
   "metadata": {},
   "source": [
    "## Setup"
   ]
  },
  {
   "cell_type": "code",
   "execution_count": 1,
   "id": "833c5b46-521d-4762-8213-d4c0e9ee8733",
   "metadata": {
    "tags": []
   },
   "outputs": [
    {
     "name": "stderr",
     "output_type": "stream",
     "text": [
      "\u001b[32m\u001b[1m    Updating\u001b[22m\u001b[39m git-repo `https://github.com/varnerlab/VLQuantitativeFinancePackage.jl.git`\n"
     ]
    },
    {
     "name": "stderr",
     "output_type": "stream",
     "text": [
      "\u001b[32m\u001b[1m   Resolving\u001b[22m\u001b[39m package versions...\n"
     ]
    },
    {
     "name": "stderr",
     "output_type": "stream",
     "text": [
      "\u001b[32m\u001b[1m  No Changes\u001b[22m\u001b[39m to `~/Documents/GitHub/Lab/8/CHEME-5660-Labs-F23/Project.toml`\n",
      "\u001b[32m\u001b[1m  No Changes\u001b[22m\u001b[39m to `~/Documents/GitHub/Lab/8/CHEME-5660-Labs-F23/Manifest.toml`\n"
     ]
    },
    {
     "name": "stderr",
     "output_type": "stream",
     "text": [
      "\u001b[32m\u001b[1m  Activating\u001b[22m\u001b[39m project at `~/Documents/GitHub/Lab/8/CHEME-5660-Labs-F23`\n"
     ]
    },
    {
     "name": "stderr",
     "output_type": "stream",
     "text": [
      "\u001b[32m\u001b[1m  No Changes\u001b[22m\u001b[39m to `~/Documents/GitHub/Lab/8/CHEME-5660-Labs-F23/Project.toml`\n",
      "\u001b[32m\u001b[1m  No Changes\u001b[22m\u001b[39m to `~/Documents/GitHub/Lab/8/CHEME-5660-Labs-F23/Manifest.toml`\n"
     ]
    },
    {
     "name": "stderr",
     "output_type": "stream",
     "text": [
      "\u001b[32m\u001b[1m    Updating\u001b[22m\u001b[39m registry at `~/.julia/registries/General.toml`\n",
      "\u001b[32m\u001b[1m    Updating\u001b[22m\u001b[39m git-repo `https://github.com/varnerlab/VLQuantitativeFinancePackage.jl.git`\n"
     ]
    },
    {
     "name": "stderr",
     "output_type": "stream",
     "text": [
      "\u001b[32m\u001b[1m  No Changes\u001b[22m\u001b[39m to `~/Documents/GitHub/Lab/8/CHEME-5660-Labs-F23/Project.toml`\n",
      "\u001b[32m\u001b[1m  No Changes\u001b[22m\u001b[39m to `~/Documents/GitHub/Lab/8/CHEME-5660-Labs-F23/Manifest.toml`\n"
     ]
    }
   ],
   "source": [
    "include(\"Include.jl\");"
   ]
  },
  {
   "cell_type": "markdown",
   "id": "d6436ca1-7423-42d6-a5a5-b4d52a13de5e",
   "metadata": {
    "jp-MarkdownHeadingCollapsed": true,
    "tags": []
   },
   "source": [
    "## Prerequisites: Load historical dataset, compute expected returns and covariance\n",
    "We gathered a daily open-high-low-close `dataset` for each firm in the [S&P500](https://en.wikipedia.org/wiki/S%26P_500) since `01-03-2018` until `11-17-2023`, along with data for a few exchange traded funds and volatility products during that time. "
   ]
  },
  {
   "cell_type": "code",
   "execution_count": 2,
   "id": "e9f0411d-18c2-40cf-8a14-b61ed16245e4",
   "metadata": {
    "tags": []
   },
   "outputs": [],
   "source": [
    "original_dataset = load(joinpath(_PATH_TO_DATA, \n",
    "        \"SP500-Daily-OHLC-1-3-2018-to-11-17-2023.jld2\")) |> x-> x[\"dataset\"];"
   ]
  },
  {
   "cell_type": "markdown",
   "id": "8bd71c14-a8d6-4526-978d-7566b4cb05da",
   "metadata": {},
   "source": [
    "### Clean the data\n",
    "Not all of the tickers in our dataset have the maximum number of trading days for various reasons, e.g., acquistion or de-listing events. Let's collect only those tickers with the maximum number of trading days.\n",
    "\n",
    "* First, let's compute the number of records for a company that we know has a maximim value, e.g., `AAPL` and save that value in the `maximum_number_trading_days` variable:"
   ]
  },
  {
   "cell_type": "code",
   "execution_count": 3,
   "id": "412a43c3-5994-49a0-9c3c-67e445e7b426",
   "metadata": {
    "tags": []
   },
   "outputs": [],
   "source": [
    "maximum_number_trading_days = original_dataset[\"AAPL\"] |> nrow;"
   ]
  },
  {
   "cell_type": "markdown",
   "id": "8e1a61fb-d581-465b-b547-9d8954703ed3",
   "metadata": {},
   "source": [
    "Now, lets iterate through our data and collect only those tickers that have `maximum_number_trading_days` records. Save that data in the `dataset::Dict{String,DataFrame}` variable:"
   ]
  },
  {
   "cell_type": "code",
   "execution_count": 4,
   "id": "7748dcd0-c56c-45c0-883f-c2f882584a86",
   "metadata": {
    "tags": []
   },
   "outputs": [],
   "source": [
    "dataset = Dict{String,DataFrame}();\n",
    "for (ticker,data) ∈ original_dataset\n",
    "    if (nrow(data) == maximum_number_trading_days)\n",
    "        dataset[ticker] = data;\n",
    "    end\n",
    "end\n",
    "dataset;"
   ]
  },
  {
   "cell_type": "markdown",
   "id": "e1c9b3ac-cc0d-4edd-9071-74d4f5f135c5",
   "metadata": {},
   "source": [
    "Let's get a list of firms that we have in cleaned up `dataset`, and save it in the `all_tickers` array:"
   ]
  },
  {
   "cell_type": "code",
   "execution_count": 5,
   "id": "532f9abd-96c2-4750-96d4-7a62e4520d2b",
   "metadata": {
    "tags": []
   },
   "outputs": [],
   "source": [
    "all_tickers = keys(dataset) |> collect |> sort;\n",
    "K = length(all_tickers);"
   ]
  },
  {
   "cell_type": "markdown",
   "id": "e5424f58-a589-40dc-91a2-69d7e717a51a",
   "metadata": {},
   "source": [
    "### Get the 2023 `SPY` data"
   ]
  },
  {
   "cell_type": "code",
   "execution_count": 6,
   "id": "916e02d1-7e28-40af-9fde-293423a241f2",
   "metadata": {
    "tags": []
   },
   "outputs": [],
   "source": [
    "startdate = Date(2023,01,03);\n",
    "SPY_dataset = dataset[\"SPY\"];\n",
    "SPY_df = filter(:timestamp => x-> x >= startdate, SPY_dataset);"
   ]
  },
  {
   "cell_type": "markdown",
   "id": "68d8f47f-c241-4d0b-9843-85d9a95e47ba",
   "metadata": {
    "tags": []
   },
   "source": [
    "### Compute the covariance and expected yield for all firms in the dataset\n",
    "The expected return $\\mathbb{E}(r_{i})$ and covariance matrix $\\Sigma$ will be used in our calculations, so we'll provide values for both of these items for the entire data set (all `N = 459` tickers), and then you can pick out which tickers you are interested in. \n",
    "\n",
    "* First, we compute the expected (annualized) log return by passing the `dataset` and the entire list of firms we have in the dataset (held in the $N\\times{1}$ `all_array` array) to the `log_return_matrix(...)` method. The result is stored in the `all_firms_return_matrix` variable, a $T-1\\times{N}$ array of log return values. Each row of `all_firms_return_matrix` corresponds to a time-value, while each column corresponds to a firm:"
   ]
  },
  {
   "cell_type": "code",
   "execution_count": 7,
   "id": "351b0634-e284-4bd4-9368-5e6194c75c6a",
   "metadata": {
    "tags": []
   },
   "outputs": [],
   "source": [
    "all_firms_return_matrix = log_return_matrix(dataset, all_tickers, \n",
    "    Δt = (1.0/252.0), risk_free_rate = 0.0);"
   ]
  },
  {
   "cell_type": "code",
   "execution_count": 8,
   "id": "050ebfce-396e-4184-8fdc-6e117aac2d6b",
   "metadata": {
    "tags": []
   },
   "outputs": [],
   "source": [
    "μ = mean(all_firms_return_matrix, dims=1) |> vec;"
   ]
  },
  {
   "cell_type": "markdown",
   "id": "a75860d2-4218-4828-a47f-3231864bada5",
   "metadata": {},
   "source": [
    "### Build single index model approximation of the covariance"
   ]
  },
  {
   "cell_type": "code",
   "execution_count": 37,
   "id": "e0305375-3d70-4696-bcea-ab799683f9df",
   "metadata": {
    "tags": []
   },
   "outputs": [],
   "source": [
    "sims = load(joinpath(_PATH_TO_DATA, \"SIMs-V3-PD1-CHEME-5660-Fall-2023.jld2\")) |> x->x[\"sims\"];"
   ]
  },
  {
   "cell_type": "code",
   "execution_count": 39,
   "id": "ff3dca05-b416-4a83-a92b-0e3c2a7022c5",
   "metadata": {
    "tags": []
   },
   "outputs": [
    {
     "data": {
      "text/plain": [
       "0.08726475731522582"
      ]
     },
     "metadata": {},
     "output_type": "display_data"
    }
   ],
   "source": [
    "index_SPY = findfirst(x->x==\"SPY\", all_tickers);\n",
    "r_SPY = μ[index_SPY]"
   ]
  },
  {
   "cell_type": "markdown",
   "id": "ab82164b-9b16-489a-938b-68a55b22c211",
   "metadata": {},
   "source": [
    "Next let's build the `single index model` version of the covariance array. Substituting the single index model for the excess return of asset $i$ and $j$ into the covariance expression (and simplifying) gives:\n",
    "\n",
    "$$\n",
    "\\begin{equation*}\n",
    "\\text{cov}(R_{i}, R_{j}) = \\begin{cases}\n",
    "\\beta_{i}^{2}\\sigma_{m}^{2}+\\sigma_{\\epsilon_{i}}^{2} & i = j \\\\\n",
    "\\beta_{i}\\beta_{j}\\sigma_{m}^2 & i \\neq j\n",
    "\\end{cases}\n",
    "\\end{equation*}\n",
    "$$\n",
    "\n",
    "where $\\sigma_{m}^2$ denotes the variance of the excess return of the market,  and $\\sigma_{\\epsilon_{i}}^{2}$ denotes the variance of the firm-specific error model."
   ]
  },
  {
   "cell_type": "code",
   "execution_count": 40,
   "id": "777602f8-87be-4b24-b53c-9e23735c08f9",
   "metadata": {
    "tags": []
   },
   "outputs": [
    {
     "data": {
      "text/plain": [
       "2.5414369559913688"
      ]
     },
     "metadata": {},
     "output_type": "display_data"
    }
   ],
   "source": [
    "σₘ = std(all_firms_return_matrix[:, index_SPY])"
   ]
  },
  {
   "cell_type": "markdown",
   "id": "8333a859-2417-4d2b-9dc5-efe8ad5a2d65",
   "metadata": {
    "tags": []
   },
   "source": [
    "We populate the single index covariance array using nested `for` loops:"
   ]
  },
  {
   "cell_type": "code",
   "execution_count": 41,
   "id": "bdd12e1d-5b5c-42ad-99b2-cadbad237e2e",
   "metadata": {
    "tags": []
   },
   "outputs": [],
   "source": [
    "Σ_tmp = Array{Float64,2}(undef, length(μ), length(μ));\n",
    "for i ∈ eachindex(all_tickers)\n",
    "    outer_ticker = all_tickers[i];\n",
    "    sim_outer = sims[outer_ticker];\n",
    "    \n",
    "    for j ∈ eachindex(all_tickers)\n",
    "        \n",
    "        inner_ticker = all_tickers[j];\n",
    "        sim_inner = sims[inner_ticker];\n",
    "        \n",
    "        if (i == j)\n",
    "            βᵢ = sim_outer.β\n",
    "            ϵᵢ = sim_outer.ϵ\n",
    "            σ_ϵᵢ = params(ϵᵢ)[2];\n",
    "            Σ_tmp[i,j] = ((βᵢ)^2)*((σₘ)^2)+(σ_ϵᵢ)^2\n",
    "        else\n",
    "            βᵢ = sim_outer.β\n",
    "            βⱼ = sim_inner.β\n",
    "            Σ_tmp[i,j] = βᵢ*βⱼ*(σₘ)^2\n",
    "        end\n",
    "    end\n",
    "end\n",
    "Σ_sim  = Σ_tmp |> x-> x*(1/252);"
   ]
  },
  {
   "cell_type": "markdown",
   "id": "a5081f65-af79-44cc-956f-99d67742cd6e",
   "metadata": {},
   "source": [
    "## Task 1: Load the Efficient Frontier Collection and Select an Initial Portfolio"
   ]
  },
  {
   "cell_type": "markdown",
   "id": "ba019b3a-7f48-40e1-9ebe-c4aa5964e01b",
   "metadata": {},
   "source": [
    "`TODO`: Specify a value for the `total_initial_budget` variable:"
   ]
  },
  {
   "cell_type": "code",
   "execution_count": 42,
   "id": "017f24ab-dfa7-4b70-9c2d-a6c4c3d104da",
   "metadata": {
    "tags": []
   },
   "outputs": [],
   "source": [
    "total_initial_budget = 75000000.0; "
   ]
  },
  {
   "cell_type": "markdown",
   "id": "8e82cfa9-1eae-47b6-93b6-3b7d97e3c027",
   "metadata": {},
   "source": [
    "`TODO`: Copy your efficient frontier file generated from `THP3/PD1` (or generate it now if you have not done so) into the `data` subdirectory, and update the filename in the expression below:"
   ]
  },
  {
   "cell_type": "code",
   "execution_count": 43,
   "id": "3f803dfa-b3cc-4270-8bc4-028e3a0f4ef5",
   "metadata": {
    "tags": []
   },
   "outputs": [
    {
     "data": {
      "text/html": [
       "<div><div style = \"float: left;\"><span>64×5 DataFrame</span></div><div style = \"float: right;\"><span style = \"font-style: italic;\">39 rows omitted</span></div><div style = \"clear: both;\"></div></div><div class = \"data-frame\" style = \"overflow-x: scroll;\"><table class = \"data-frame\" style = \"margin-bottom: 6px;\"><thead><tr class = \"header\"><th class = \"rowNumber\" style = \"font-weight: bold; text-align: right;\">Row</th><th style = \"text-align: left;\">expected_excess_return</th><th style = \"text-align: left;\">risk</th><th style = \"text-align: left;\">tickers</th><th style = \"text-align: left;\">w</th><th style = \"text-align: left;\">risk_free_rate</th></tr><tr class = \"subheader headerLastRow\"><th class = \"rowNumber\" style = \"font-weight: bold; text-align: right;\"></th><th title = \"Float64\" style = \"text-align: left;\">Float64</th><th title = \"Float64\" style = \"text-align: left;\">Float64</th><th title = \"Vector{String}\" style = \"text-align: left;\">Array…</th><th title = \"Vector{Float64}\" style = \"text-align: left;\">Array…</th><th title = \"Float64\" style = \"text-align: left;\">Float64</th></tr></thead><tbody><tr><td class = \"rowNumber\" style = \"font-weight: bold; text-align: right;\">1</td><td style = \"text-align: right;\">0.0540434</td><td style = \"text-align: right;\">0.213552</td><td style = \"text-align: left;\">[&quot;AMD&quot;, &quot;NVDA&quot;, &quot;MSFT&quot;, &quot;INTC&quot;, &quot;GOOG&quot;, &quot;AMZN&quot;]</td><td style = \"text-align: left;\">[-3.13795e-9, -5.46984e-9, 0.426344, 0.168027, 0.263596, 0.142033]</td><td style = \"text-align: right;\">0.05</td></tr><tr><td class = \"rowNumber\" style = \"font-weight: bold; text-align: right;\">2</td><td style = \"text-align: right;\">0.0540434</td><td style = \"text-align: right;\">0.213552</td><td style = \"text-align: left;\">[&quot;AMD&quot;, &quot;NVDA&quot;, &quot;MSFT&quot;, &quot;INTC&quot;, &quot;GOOG&quot;, &quot;AMZN&quot;]</td><td style = \"text-align: left;\">[-3.13834e-9, -5.46986e-9, 0.426344, 0.168027, 0.263596, 0.142033]</td><td style = \"text-align: right;\">0.05</td></tr><tr><td class = \"rowNumber\" style = \"font-weight: bold; text-align: right;\">3</td><td style = \"text-align: right;\">0.0540434</td><td style = \"text-align: right;\">0.213552</td><td style = \"text-align: left;\">[&quot;AMD&quot;, &quot;NVDA&quot;, &quot;MSFT&quot;, &quot;INTC&quot;, &quot;GOOG&quot;, &quot;AMZN&quot;]</td><td style = \"text-align: left;\">[-3.1389e-9, -5.46989e-9, 0.426344, 0.168027, 0.263596, 0.142033]</td><td style = \"text-align: right;\">0.05</td></tr><tr><td class = \"rowNumber\" style = \"font-weight: bold; text-align: right;\">4</td><td style = \"text-align: right;\">0.0540434</td><td style = \"text-align: right;\">0.213552</td><td style = \"text-align: left;\">[&quot;AMD&quot;, &quot;NVDA&quot;, &quot;MSFT&quot;, &quot;INTC&quot;, &quot;GOOG&quot;, &quot;AMZN&quot;]</td><td style = \"text-align: left;\">[-3.13974e-9, -5.46993e-9, 0.426344, 0.168027, 0.263596, 0.142033]</td><td style = \"text-align: right;\">0.05</td></tr><tr><td class = \"rowNumber\" style = \"font-weight: bold; text-align: right;\">5</td><td style = \"text-align: right;\">0.0540434</td><td style = \"text-align: right;\">0.213552</td><td style = \"text-align: left;\">[&quot;AMD&quot;, &quot;NVDA&quot;, &quot;MSFT&quot;, &quot;INTC&quot;, &quot;GOOG&quot;, &quot;AMZN&quot;]</td><td style = \"text-align: left;\">[-3.14098e-9, -5.46998e-9, 0.426344, 0.168027, 0.263596, 0.142033]</td><td style = \"text-align: right;\">0.05</td></tr><tr><td class = \"rowNumber\" style = \"font-weight: bold; text-align: right;\">6</td><td style = \"text-align: right;\">0.0540434</td><td style = \"text-align: right;\">0.213552</td><td style = \"text-align: left;\">[&quot;AMD&quot;, &quot;NVDA&quot;, &quot;MSFT&quot;, &quot;INTC&quot;, &quot;GOOG&quot;, &quot;AMZN&quot;]</td><td style = \"text-align: left;\">[-3.14285e-9, -5.47006e-9, 0.426344, 0.168027, 0.263596, 0.142033]</td><td style = \"text-align: right;\">0.05</td></tr><tr><td class = \"rowNumber\" style = \"font-weight: bold; text-align: right;\">7</td><td style = \"text-align: right;\">0.0540434</td><td style = \"text-align: right;\">0.213552</td><td style = \"text-align: left;\">[&quot;AMD&quot;, &quot;NVDA&quot;, &quot;MSFT&quot;, &quot;INTC&quot;, &quot;GOOG&quot;, &quot;AMZN&quot;]</td><td style = \"text-align: left;\">[-3.14577e-9, -5.4702e-9, 0.426344, 0.168027, 0.263596, 0.142033]</td><td style = \"text-align: right;\">0.05</td></tr><tr><td class = \"rowNumber\" style = \"font-weight: bold; text-align: right;\">8</td><td style = \"text-align: right;\">0.0540434</td><td style = \"text-align: right;\">0.213552</td><td style = \"text-align: left;\">[&quot;AMD&quot;, &quot;NVDA&quot;, &quot;MSFT&quot;, &quot;INTC&quot;, &quot;GOOG&quot;, &quot;AMZN&quot;]</td><td style = \"text-align: left;\">[-3.15054e-9, -5.47047e-9, 0.426344, 0.168027, 0.263596, 0.142033]</td><td style = \"text-align: right;\">0.05</td></tr><tr><td class = \"rowNumber\" style = \"font-weight: bold; text-align: right;\">9</td><td style = \"text-align: right;\">0.0540435</td><td style = \"text-align: right;\">0.213552</td><td style = \"text-align: left;\">[&quot;AMD&quot;, &quot;NVDA&quot;, &quot;MSFT&quot;, &quot;INTC&quot;, &quot;GOOG&quot;, &quot;AMZN&quot;]</td><td style = \"text-align: left;\">[1.61557e-7, 1.03502e-7, 0.426344, 0.168026, 0.263596, 0.142033]</td><td style = \"text-align: right;\">0.05</td></tr><tr><td class = \"rowNumber\" style = \"font-weight: bold; text-align: right;\">10</td><td style = \"text-align: right;\">0.0540436</td><td style = \"text-align: right;\">0.213552</td><td style = \"text-align: left;\">[&quot;AMD&quot;, &quot;NVDA&quot;, &quot;MSFT&quot;, &quot;INTC&quot;, &quot;GOOG&quot;, &quot;AMZN&quot;]</td><td style = \"text-align: left;\">[1.61569e-7, 1.03502e-7, 0.426344, 0.168026, 0.263596, 0.142033]</td><td style = \"text-align: right;\">0.05</td></tr><tr><td class = \"rowNumber\" style = \"font-weight: bold; text-align: right;\">11</td><td style = \"text-align: right;\">0.0540437</td><td style = \"text-align: right;\">0.213552</td><td style = \"text-align: left;\">[&quot;AMD&quot;, &quot;NVDA&quot;, &quot;MSFT&quot;, &quot;INTC&quot;, &quot;GOOG&quot;, &quot;AMZN&quot;]</td><td style = \"text-align: left;\">[1.61659e-7, 1.03451e-7, 0.426345, 0.168026, 0.263596, 0.142033]</td><td style = \"text-align: right;\">0.05</td></tr><tr><td class = \"rowNumber\" style = \"font-weight: bold; text-align: right;\">12</td><td style = \"text-align: right;\">0.0540438</td><td style = \"text-align: right;\">0.213552</td><td style = \"text-align: left;\">[&quot;AMD&quot;, &quot;NVDA&quot;, &quot;MSFT&quot;, &quot;INTC&quot;, &quot;GOOG&quot;, &quot;AMZN&quot;]</td><td style = \"text-align: left;\">[1.61561e-7, 1.03503e-7, 0.426345, 0.168025, 0.263596, 0.142033]</td><td style = \"text-align: right;\">0.05</td></tr><tr><td class = \"rowNumber\" style = \"font-weight: bold; text-align: right;\">13</td><td style = \"text-align: right;\">0.0545466</td><td style = \"text-align: right;\">0.213552</td><td style = \"text-align: left;\">[&quot;AMD&quot;, &quot;NVDA&quot;, &quot;MSFT&quot;, &quot;INTC&quot;, &quot;GOOG&quot;, &quot;AMZN&quot;]</td><td style = \"text-align: left;\">[-3.16433e-9, -5.47227e-9, 0.428181, 0.166574, 0.263508, 0.141738]</td><td style = \"text-align: right;\">0.05</td></tr><tr><td style = \"text-align: right;\">&vellip;</td><td style = \"text-align: right;\">&vellip;</td><td style = \"text-align: right;\">&vellip;</td><td style = \"text-align: right;\">&vellip;</td><td style = \"text-align: right;\">&vellip;</td><td style = \"text-align: right;\">&vellip;</td></tr><tr><td class = \"rowNumber\" style = \"font-weight: bold; text-align: right;\">53</td><td style = \"text-align: right;\">0.236364</td><td style = \"text-align: right;\">0.337257</td><td style = \"text-align: left;\">[&quot;AMD&quot;, &quot;NVDA&quot;, &quot;MSFT&quot;, &quot;INTC&quot;, &quot;GOOG&quot;, &quot;AMZN&quot;]</td><td style = \"text-align: left;\">[0.60221, 9.66685e-8, 0.39779, -3.63262e-9, 1.03734e-8, 5.03327e-9]</td><td style = \"text-align: right;\">0.05</td></tr><tr><td class = \"rowNumber\" style = \"font-weight: bold; text-align: right;\">54</td><td style = \"text-align: right;\">0.240909</td><td style = \"text-align: right;\">0.347135</td><td style = \"text-align: left;\">[&quot;AMD&quot;, &quot;NVDA&quot;, &quot;MSFT&quot;, &quot;INTC&quot;, &quot;GOOG&quot;, &quot;AMZN&quot;]</td><td style = \"text-align: left;\">[0.635413, 9.13579e-8, 0.364587, -4.03572e-9, 8.87086e-9, 3.98509e-9]</td><td style = \"text-align: right;\">0.05</td></tr><tr><td class = \"rowNumber\" style = \"font-weight: bold; text-align: right;\">55</td><td style = \"text-align: right;\">0.245455</td><td style = \"text-align: right;\">0.357274</td><td style = \"text-align: left;\">[&quot;AMD&quot;, &quot;NVDA&quot;, &quot;MSFT&quot;, &quot;INTC&quot;, &quot;GOOG&quot;, &quot;AMZN&quot;]</td><td style = \"text-align: left;\">[0.668616, 8.22595e-8, 0.331384, -4.39645e-9, 7.54572e-9, 3.05529e-9]</td><td style = \"text-align: right;\">0.05</td></tr><tr><td class = \"rowNumber\" style = \"font-weight: bold; text-align: right;\">56</td><td style = \"text-align: right;\">0.25</td><td style = \"text-align: right;\">0.367652</td><td style = \"text-align: left;\">[&quot;AMD&quot;, &quot;NVDA&quot;, &quot;MSFT&quot;, &quot;INTC&quot;, &quot;GOOG&quot;, &quot;AMZN&quot;]</td><td style = \"text-align: left;\">[0.701819, 7.52194e-8, 0.298181, -4.70889e-9, 6.42317e-9, 2.26104e-9]</td><td style = \"text-align: right;\">0.05</td></tr><tr><td class = \"rowNumber\" style = \"font-weight: bold; text-align: right;\">57</td><td style = \"text-align: right;\">0.254545</td><td style = \"text-align: right;\">0.378249</td><td style = \"text-align: left;\">[&quot;AMD&quot;, &quot;NVDA&quot;, &quot;MSFT&quot;, &quot;INTC&quot;, &quot;GOOG&quot;, &quot;AMZN&quot;]</td><td style = \"text-align: left;\">[0.735021, -7.64989e-9, 0.264979, -9.81561e-9, -9.44783e-9, -9.58254e-9]</td><td style = \"text-align: right;\">0.05</td></tr><tr><td class = \"rowNumber\" style = \"font-weight: bold; text-align: right;\">58</td><td style = \"text-align: right;\">0.259091</td><td style = \"text-align: right;\">0.389048</td><td style = \"text-align: left;\">[&quot;AMD&quot;, &quot;NVDA&quot;, &quot;MSFT&quot;, &quot;INTC&quot;, &quot;GOOG&quot;, &quot;AMZN&quot;]</td><td style = \"text-align: left;\">[0.768224, 8.67453e-8, 0.231776, -5.19254e-9, 4.77269e-9, 1.07191e-9]</td><td style = \"text-align: right;\">0.05</td></tr><tr><td class = \"rowNumber\" style = \"font-weight: bold; text-align: right;\">59</td><td style = \"text-align: right;\">0.263636</td><td style = \"text-align: right;\">0.400033</td><td style = \"text-align: left;\">[&quot;AMD&quot;, &quot;NVDA&quot;, &quot;MSFT&quot;, &quot;INTC&quot;, &quot;GOOG&quot;, &quot;AMZN&quot;]</td><td style = \"text-align: left;\">[0.801427, 8.78199e-8, 0.198573, -5.3898e-9, 4.12606e-9, 5.99124e-10]</td><td style = \"text-align: right;\">0.05</td></tr><tr><td class = \"rowNumber\" style = \"font-weight: bold; text-align: right;\">60</td><td style = \"text-align: right;\">0.268182</td><td style = \"text-align: right;\">0.411187</td><td style = \"text-align: left;\">[&quot;AMD&quot;, &quot;NVDA&quot;, &quot;MSFT&quot;, &quot;INTC&quot;, &quot;GOOG&quot;, &quot;AMZN&quot;]</td><td style = \"text-align: left;\">[0.83463, -7.94831e-9, 0.16537, -9.84001e-9, -9.52853e-9, -9.64133e-9]</td><td style = \"text-align: right;\">0.05</td></tr><tr><td class = \"rowNumber\" style = \"font-weight: bold; text-align: right;\">61</td><td style = \"text-align: right;\">0.272727</td><td style = \"text-align: right;\">0.422499</td><td style = \"text-align: left;\">[&quot;AMD&quot;, &quot;NVDA&quot;, &quot;MSFT&quot;, &quot;INTC&quot;, &quot;GOOG&quot;, &quot;AMZN&quot;]</td><td style = \"text-align: left;\">[0.867833, -8.03174e-9, 0.132167, -9.84677e-9, -9.55043e-9, -9.65741e-9]</td><td style = \"text-align: right;\">0.05</td></tr><tr><td class = \"rowNumber\" style = \"font-weight: bold; text-align: right;\">62</td><td style = \"text-align: right;\">0.277273</td><td style = \"text-align: right;\">0.433955</td><td style = \"text-align: left;\">[&quot;AMD&quot;, &quot;NVDA&quot;, &quot;MSFT&quot;, &quot;INTC&quot;, &quot;GOOG&quot;, &quot;AMZN&quot;]</td><td style = \"text-align: left;\">[0.901036, -8.10855e-9, 0.0989642, -9.85298e-9, -9.57039e-9, -9.67211e-9]</td><td style = \"text-align: right;\">0.05</td></tr><tr><td class = \"rowNumber\" style = \"font-weight: bold; text-align: right;\">63</td><td style = \"text-align: right;\">0.281818</td><td style = \"text-align: right;\">0.445545</td><td style = \"text-align: left;\">[&quot;AMD&quot;, &quot;NVDA&quot;, &quot;MSFT&quot;, &quot;INTC&quot;, &quot;GOOG&quot;, &quot;AMZN&quot;]</td><td style = \"text-align: left;\">[0.934239, 3.56047e-8, 0.0657612, -6.45936e-9, 3.07966e-10, -2.12165e-9]</td><td style = \"text-align: right;\">0.05</td></tr><tr><td class = \"rowNumber\" style = \"font-weight: bold; text-align: right;\">64</td><td style = \"text-align: right;\">0.286364</td><td style = \"text-align: right;\">0.457258</td><td style = \"text-align: left;\">[&quot;AMD&quot;, &quot;NVDA&quot;, &quot;MSFT&quot;, &quot;INTC&quot;, &quot;GOOG&quot;, &quot;AMZN&quot;]</td><td style = \"text-align: left;\">[0.967442, 3.3962e-8, 0.0325583, -6.59209e-9, -1.12182e-10, -2.43293e-9]</td><td style = \"text-align: right;\">0.05</td></tr></tbody></table></div>"
      ],
      "text/latex": [
       "\\begin{tabular}{r|cccc}\n",
       "\t& expected\\_excess\\_return & risk & tickers & \\\\\n",
       "\t\\hline\n",
       "\t& Float64 & Float64 & Array… & \\\\\n",
       "\t\\hline\n",
       "\t1 & 0.0540434 & 0.213552 & [\"AMD\", \"NVDA\", \"MSFT\", \"INTC\", \"GOOG\", \"AMZN\"] & $\\dots$ \\\\\n",
       "\t2 & 0.0540434 & 0.213552 & [\"AMD\", \"NVDA\", \"MSFT\", \"INTC\", \"GOOG\", \"AMZN\"] & $\\dots$ \\\\\n",
       "\t3 & 0.0540434 & 0.213552 & [\"AMD\", \"NVDA\", \"MSFT\", \"INTC\", \"GOOG\", \"AMZN\"] & $\\dots$ \\\\\n",
       "\t4 & 0.0540434 & 0.213552 & [\"AMD\", \"NVDA\", \"MSFT\", \"INTC\", \"GOOG\", \"AMZN\"] & $\\dots$ \\\\\n",
       "\t5 & 0.0540434 & 0.213552 & [\"AMD\", \"NVDA\", \"MSFT\", \"INTC\", \"GOOG\", \"AMZN\"] & $\\dots$ \\\\\n",
       "\t6 & 0.0540434 & 0.213552 & [\"AMD\", \"NVDA\", \"MSFT\", \"INTC\", \"GOOG\", \"AMZN\"] & $\\dots$ \\\\\n",
       "\t7 & 0.0540434 & 0.213552 & [\"AMD\", \"NVDA\", \"MSFT\", \"INTC\", \"GOOG\", \"AMZN\"] & $\\dots$ \\\\\n",
       "\t8 & 0.0540434 & 0.213552 & [\"AMD\", \"NVDA\", \"MSFT\", \"INTC\", \"GOOG\", \"AMZN\"] & $\\dots$ \\\\\n",
       "\t9 & 0.0540435 & 0.213552 & [\"AMD\", \"NVDA\", \"MSFT\", \"INTC\", \"GOOG\", \"AMZN\"] & $\\dots$ \\\\\n",
       "\t10 & 0.0540436 & 0.213552 & [\"AMD\", \"NVDA\", \"MSFT\", \"INTC\", \"GOOG\", \"AMZN\"] & $\\dots$ \\\\\n",
       "\t11 & 0.0540437 & 0.213552 & [\"AMD\", \"NVDA\", \"MSFT\", \"INTC\", \"GOOG\", \"AMZN\"] & $\\dots$ \\\\\n",
       "\t12 & 0.0540438 & 0.213552 & [\"AMD\", \"NVDA\", \"MSFT\", \"INTC\", \"GOOG\", \"AMZN\"] & $\\dots$ \\\\\n",
       "\t13 & 0.0545466 & 0.213552 & [\"AMD\", \"NVDA\", \"MSFT\", \"INTC\", \"GOOG\", \"AMZN\"] & $\\dots$ \\\\\n",
       "\t14 & 0.0590909 & 0.213599 & [\"AMD\", \"NVDA\", \"MSFT\", \"INTC\", \"GOOG\", \"AMZN\"] & $\\dots$ \\\\\n",
       "\t15 & 0.0636365 & 0.213721 & [\"AMD\", \"NVDA\", \"MSFT\", \"INTC\", \"GOOG\", \"AMZN\"] & $\\dots$ \\\\\n",
       "\t16 & 0.0681819 & 0.21392 & [\"AMD\", \"NVDA\", \"MSFT\", \"INTC\", \"GOOG\", \"AMZN\"] & $\\dots$ \\\\\n",
       "\t17 & 0.0727273 & 0.214195 & [\"AMD\", \"NVDA\", \"MSFT\", \"INTC\", \"GOOG\", \"AMZN\"] & $\\dots$ \\\\\n",
       "\t18 & 0.0772727 & 0.214545 & [\"AMD\", \"NVDA\", \"MSFT\", \"INTC\", \"GOOG\", \"AMZN\"] & $\\dots$ \\\\\n",
       "\t19 & 0.0818182 & 0.21497 & [\"AMD\", \"NVDA\", \"MSFT\", \"INTC\", \"GOOG\", \"AMZN\"] & $\\dots$ \\\\\n",
       "\t20 & 0.0863637 & 0.21547 & [\"AMD\", \"NVDA\", \"MSFT\", \"INTC\", \"GOOG\", \"AMZN\"] & $\\dots$ \\\\\n",
       "\t21 & 0.0909091 & 0.216044 & [\"AMD\", \"NVDA\", \"MSFT\", \"INTC\", \"GOOG\", \"AMZN\"] & $\\dots$ \\\\\n",
       "\t22 & 0.0954545 & 0.21669 & [\"AMD\", \"NVDA\", \"MSFT\", \"INTC\", \"GOOG\", \"AMZN\"] & $\\dots$ \\\\\n",
       "\t23 & 0.1 & 0.217395 & [\"AMD\", \"NVDA\", \"MSFT\", \"INTC\", \"GOOG\", \"AMZN\"] & $\\dots$ \\\\\n",
       "\t24 & 0.104545 & 0.218156 & [\"AMD\", \"NVDA\", \"MSFT\", \"INTC\", \"GOOG\", \"AMZN\"] & $\\dots$ \\\\\n",
       "\t$\\dots$ & $\\dots$ & $\\dots$ & $\\dots$ &  \\\\\n",
       "\\end{tabular}\n"
      ],
      "text/plain": [
       "\u001b[1m64×5 DataFrame\u001b[0m\n",
       "\u001b[1m Row \u001b[0m│\u001b[1m expected_excess_return \u001b[0m\u001b[1m risk     \u001b[0m\u001b[1m tickers                           \u001b[0m\u001b[1m w \u001b[0m ⋯\n",
       "     │\u001b[90m Float64                \u001b[0m\u001b[90m Float64  \u001b[0m\u001b[90m Array…                            \u001b[0m\u001b[90m Ar\u001b[0m ⋯\n",
       "─────┼──────────────────────────────────────────────────────────────────────────\n",
       "   1 │              0.0540434  0.213552  [\"AMD\", \"NVDA\", \"MSFT\", \"INTC\", …  [- ⋯\n",
       "   2 │              0.0540434  0.213552  [\"AMD\", \"NVDA\", \"MSFT\", \"INTC\", …  [-\n",
       "   3 │              0.0540434  0.213552  [\"AMD\", \"NVDA\", \"MSFT\", \"INTC\", …  [-\n",
       "   4 │              0.0540434  0.213552  [\"AMD\", \"NVDA\", \"MSFT\", \"INTC\", …  [-\n",
       "   5 │              0.0540434  0.213552  [\"AMD\", \"NVDA\", \"MSFT\", \"INTC\", …  [- ⋯\n",
       "   6 │              0.0540434  0.213552  [\"AMD\", \"NVDA\", \"MSFT\", \"INTC\", …  [-\n",
       "   7 │              0.0540434  0.213552  [\"AMD\", \"NVDA\", \"MSFT\", \"INTC\", …  [-\n",
       "   8 │              0.0540434  0.213552  [\"AMD\", \"NVDA\", \"MSFT\", \"INTC\", …  [-\n",
       "  ⋮  │           ⋮                ⋮                      ⋮                     ⋱\n",
       "  58 │              0.259091   0.389048  [\"AMD\", \"NVDA\", \"MSFT\", \"INTC\", …  [0 ⋯\n",
       "  59 │              0.263636   0.400033  [\"AMD\", \"NVDA\", \"MSFT\", \"INTC\", …  [0\n",
       "  60 │              0.268182   0.411187  [\"AMD\", \"NVDA\", \"MSFT\", \"INTC\", …  [0\n",
       "  61 │              0.272727   0.422499  [\"AMD\", \"NVDA\", \"MSFT\", \"INTC\", …  [0\n",
       "  62 │              0.277273   0.433955  [\"AMD\", \"NVDA\", \"MSFT\", \"INTC\", …  [0 ⋯\n",
       "  63 │              0.281818   0.445545  [\"AMD\", \"NVDA\", \"MSFT\", \"INTC\", …  [0\n",
       "  64 │              0.286364   0.457258  [\"AMD\", \"NVDA\", \"MSFT\", \"INTC\", …  [0\n",
       "\u001b[36m                                                   2 columns and 49 rows omitted\u001b[0m"
      ]
     },
     "metadata": {},
     "output_type": "display_data"
    }
   ],
   "source": [
    "efficient_frontier = load(joinpath(_PATH_TO_DATA,\n",
    "        \"EfficientFrontier-Jonathan L., Tafadar S., Ningyuan Z.V3-PD1-CHEME-5660-Fall-2023.jld2\")) |> x->x[\"dataset\"]"
   ]
  },
  {
   "cell_type": "markdown",
   "id": "339f136f-90c7-4f87-9647-1a0e835375f2",
   "metadata": {},
   "source": [
    "`TODO`: Specify which initial portfolio you wish to select, by setting the value of the `portfolio_index` variable:"
   ]
  },
  {
   "cell_type": "code",
   "execution_count": 44,
   "id": "407f53bb-4505-4d83-bdac-835cbff222b4",
   "metadata": {
    "tags": []
   },
   "outputs": [],
   "source": [
    "portfolio_index = 13;"
   ]
  },
  {
   "cell_type": "code",
   "execution_count": 45,
   "id": "f083c25d-b7e5-433e-84a7-b65ee37f530a",
   "metadata": {
    "tags": []
   },
   "outputs": [
    {
     "name": "stdout",
     "output_type": "stream",
     "text": [
      "The expected excess return for portfolio 13 equals 0.055 with risk = 0.213552\n"
     ]
    }
   ],
   "source": [
    "my_list_of_tickers = efficient_frontier[portfolio_index,:tickers];\n",
    "w = efficient_frontier[portfolio_index,:w] .|> x-> round(x,digits=6) .|> abs;\n",
    "risk = efficient_frontier[portfolio_index,:risk] .|> x-> round(x,digits=6) .|> abs;\n",
    "expected_excess_return = efficient_frontier[portfolio_index,:expected_excess_return] |> x-> round(x,digits=3)\n",
    "println(\"The expected excess return for portfolio $(portfolio_index) equals $(expected_excess_return) with risk = $(risk)\")"
   ]
  },
  {
   "cell_type": "markdown",
   "id": "b71ab0c3-a83f-403d-933d-14b629e6027a",
   "metadata": {},
   "source": [
    "#### What is in this portfolio?"
   ]
  },
  {
   "cell_type": "code",
   "execution_count": 47,
   "id": "f1dde4a0-c8d1-487b-bb8b-ed70abd44349",
   "metadata": {
    "tags": []
   },
   "outputs": [
    {
     "data": {
      "text/html": [
       "<div><div style = \"float: left;\"><span>6×2 DataFrame</span></div><div style = \"clear: both;\"></div></div><div class = \"data-frame\" style = \"overflow-x: scroll;\"><table class = \"data-frame\" style = \"margin-bottom: 6px;\"><thead><tr class = \"header\"><th class = \"rowNumber\" style = \"font-weight: bold; text-align: right;\">Row</th><th style = \"text-align: left;\">ticker</th><th style = \"text-align: left;\">allocation</th></tr><tr class = \"subheader headerLastRow\"><th class = \"rowNumber\" style = \"font-weight: bold; text-align: right;\"></th><th title = \"String\" style = \"text-align: left;\">String</th><th title = \"Float64\" style = \"text-align: left;\">Float64</th></tr></thead><tbody><tr><td class = \"rowNumber\" style = \"font-weight: bold; text-align: right;\">1</td><td style = \"text-align: left;\">AMD</td><td style = \"text-align: right;\">0.0</td></tr><tr><td class = \"rowNumber\" style = \"font-weight: bold; text-align: right;\">2</td><td style = \"text-align: left;\">NVDA</td><td style = \"text-align: right;\">0.0</td></tr><tr><td class = \"rowNumber\" style = \"font-weight: bold; text-align: right;\">3</td><td style = \"text-align: left;\">MSFT</td><td style = \"text-align: right;\">0.428181</td></tr><tr><td class = \"rowNumber\" style = \"font-weight: bold; text-align: right;\">4</td><td style = \"text-align: left;\">INTC</td><td style = \"text-align: right;\">0.166574</td></tr><tr><td class = \"rowNumber\" style = \"font-weight: bold; text-align: right;\">5</td><td style = \"text-align: left;\">GOOG</td><td style = \"text-align: right;\">0.263508</td></tr><tr><td class = \"rowNumber\" style = \"font-weight: bold; text-align: right;\">6</td><td style = \"text-align: left;\">AMZN</td><td style = \"text-align: right;\">0.141738</td></tr></tbody></table></div>"
      ],
      "text/latex": [
       "\\begin{tabular}{r|cc}\n",
       "\t& ticker & allocation\\\\\n",
       "\t\\hline\n",
       "\t& String & Float64\\\\\n",
       "\t\\hline\n",
       "\t1 & AMD & 0.0 \\\\\n",
       "\t2 & NVDA & 0.0 \\\\\n",
       "\t3 & MSFT & 0.428181 \\\\\n",
       "\t4 & INTC & 0.166574 \\\\\n",
       "\t5 & GOOG & 0.263508 \\\\\n",
       "\t6 & AMZN & 0.141738 \\\\\n",
       "\\end{tabular}\n"
      ],
      "text/plain": [
       "\u001b[1m6×2 DataFrame\u001b[0m\n",
       "\u001b[1m Row \u001b[0m│\u001b[1m ticker \u001b[0m\u001b[1m allocation \u001b[0m\n",
       "     │\u001b[90m String \u001b[0m\u001b[90m Float64    \u001b[0m\n",
       "─────┼────────────────────\n",
       "   1 │ AMD       0.0\n",
       "   2 │ NVDA      0.0\n",
       "   3 │ MSFT      0.428181\n",
       "   4 │ INTC      0.166574\n",
       "   5 │ GOOG      0.263508\n",
       "   6 │ AMZN      0.141738"
      ]
     },
     "metadata": {},
     "output_type": "display_data"
    }
   ],
   "source": [
    "tmp_df = DataFrame();\n",
    "for i ∈ eachindex(w)\n",
    "    wᵢ = w[i];\n",
    "    row_df = (\n",
    "        ticker = my_list_of_tickers[i],\n",
    "        allocation = wᵢ\n",
    "    );\n",
    "    push!(tmp_df, row_df);\n",
    "end\n",
    "tmp_df"
   ]
  },
  {
   "cell_type": "markdown",
   "id": "998f6e63-cc2e-4af0-877e-3b4c3dcb401a",
   "metadata": {},
   "source": [
    "### Compute the number of shares of each asset in your initial portfolio"
   ]
  },
  {
   "cell_type": "markdown",
   "id": "fd58d6a3-275e-418d-a09a-74388f57c722",
   "metadata": {},
   "source": [
    "Get the `close` share price for each asset in the portfolio for the `startdate`. We'll store these values in the `Sₒ::Array{Float64,1}` variable:"
   ]
  },
  {
   "cell_type": "code",
   "execution_count": 48,
   "id": "0b50e1c9-2a84-4540-b784-a0e145220f32",
   "metadata": {
    "tags": []
   },
   "outputs": [],
   "source": [
    "Sₒ = Array{Float64,1}() # these are close prices at the end of Jan 3, 2023\n",
    "for ticker ∈ my_list_of_tickers\n",
    "    price_df = dataset[ticker];\n",
    "    startprice = filter(:timestamp => x-> x >= startdate, price_df) |> x-> x[1,:close] \n",
    "    push!(Sₒ,startprice)\n",
    "end"
   ]
  },
  {
   "cell_type": "markdown",
   "id": "5508b048-55bf-4c7a-8cdf-c8176c7a7c6b",
   "metadata": {},
   "source": [
    "Now that we have the `total_budget`, and the share price array `Sₒ`, we compute the number of shares of each asset that corresponds to the optimal allocation (the point in the efficient frontier) and store these values in the `Nₒ::Array{Float64,1}` variable (in this case, we allow for fractional shares):"
   ]
  },
  {
   "cell_type": "code",
   "execution_count": 49,
   "id": "fafe2da0-403c-41ee-961e-136b62badb74",
   "metadata": {
    "tags": []
   },
   "outputs": [
    {
     "data": {
      "text/plain": [
       "6-element Vector{Float64}:\n",
       " 0.0\n",
       " 0.0\n",
       " 1.7872151264713247\n",
       " 6.231724653946877\n",
       " 2.9376588628762543\n",
       " 1.651573059892799"
      ]
     },
     "metadata": {},
     "output_type": "display_data"
    }
   ],
   "source": [
    "Nₒ = Array{Float64,1}()\n",
    "for i ∈ eachindex(w)\n",
    "    \n",
    "    wᵢ = w[i]\n",
    "    nᵢ = (wᵢ*total_initial_budget)/Sₒ[i];\n",
    "    push!(Nₒ,nᵢ)\n",
    "end\n",
    "Nₒ"
   ]
  },
  {
   "cell_type": "markdown",
   "id": "edfea004-7889-460a-b612-e70fb6d46c97",
   "metadata": {},
   "source": [
    "## Task 2: Reallocate your portfolio after the close every day\n",
    "In `task 2` we'll solve the Minimum Variance allocation problem to estimate the dollar fractions $\\omega_{i}$ for each portfolio component. We'll keep the covariance matrix $\\hat{\\Sigma}$ the same but update the `expected return` using current market data. In particular, suppose we update the expected return after each trading data using the update rule (incremental average):\n",
    "\n",
    "$$\n",
    "\\hat{\\mu}_{i,k} = \\hat{\\mu}_{i,k-1} + \\alpha\\cdot\\left(\\mu_{i,k}-\\hat{\\mu}_{i,k-1}\\right)\\qquad{i\\in\\mathcal{P}}\n",
    "$$\n",
    "\n",
    "where $\\hat{\\mu}_{i,k}$ denotes the estimated average return for asset $i$ at time $k$, $\\mu_{i,k}$ denotes the observed return for asset $i$ at time $k$ asset $i$ at time $k$, and $\\alpha\\geq{0}$ denotes the `learning rate` hyperparameter (you specify a value for this parameter). We'll initialize $\\hat{\\mu}_{i,k}$ using the historical expected value computed from the `2018` to `2022` data."
   ]
  },
  {
   "cell_type": "code",
   "execution_count": 50,
   "id": "554ab89b-b890-4e88-bcbe-4930c67e9b4e",
   "metadata": {
    "tags": []
   },
   "outputs": [],
   "source": [
    "number_of_trading_days = 120;"
   ]
  },
  {
   "cell_type": "code",
   "execution_count": 51,
   "id": "38fdd78d-62de-4543-8af8-af15713dfe44",
   "metadata": {
    "jupyter": {
     "source_hidden": true
    },
    "tags": []
   },
   "outputs": [],
   "source": [
    "# --- DO NOT CHANGE THIS BLOCK ----------------------------------------- #\n",
    "my_list_of_firm_ids = Array{Int64,1}();\n",
    "for ticker ∈ my_list_of_tickers\n",
    "    firm_index = findfirst(x->x==ticker, all_tickers);    \n",
    "    push!(my_list_of_firm_ids, firm_index)\n",
    "end\n",
    "# ---------------------------------------------------------------------- #\n",
    "\n",
    "# --- DO NOT CHANGE THIS BLOCK ----------------------------------------- #\n",
    "μ̂ = Array{Float64,1}();\n",
    "for firm_index ∈ my_list_of_firm_ids\n",
    "    push!(μ̂, μ[firm_index])\n",
    "end\n",
    "# ---------------------------------------------------------------------- #\n",
    "\n",
    "# --- DO NOT CHANGE THIS BLOCK FOR SIM  -------------------------------- #\n",
    "my_number_of_selected_firms = length(my_list_of_firm_ids)\n",
    "Σ̂ = Array{Float64,2}(undef, my_number_of_selected_firms, my_number_of_selected_firms);\n",
    "for i ∈ eachindex(my_list_of_firm_ids)\n",
    "    row_firm_index = my_list_of_firm_ids[i]\n",
    "    for j ∈ eachindex(my_list_of_firm_ids)\n",
    "        col_firm_index = my_list_of_firm_ids[j]\n",
    "        Σ̂[i,j] = Σ_sim[row_firm_index, col_firm_index]\n",
    "    end\n",
    "end\n",
    "# ---------------------------------------------------------------------- #"
   ]
  },
  {
   "cell_type": "markdown",
   "id": "ce8bdff6-3124-40e6-a93e-2f87452a0c15",
   "metadata": {},
   "source": [
    "`TODO`: Specify the learning rate parameter $\\alpha\\geq{0}$."
   ]
  },
  {
   "cell_type": "code",
   "execution_count": 52,
   "id": "92d5041a-4517-4593-ad29-3ca1d9b4cbdf",
   "metadata": {
    "tags": []
   },
   "outputs": [],
   "source": [
    "α = 0.01; # learning rate"
   ]
  },
  {
   "cell_type": "markdown",
   "id": "5f30cf00-ff71-41b5-9cd7-8a854cf67168",
   "metadata": {},
   "source": [
    "Build an instance of the `MyMarkowitzRiskyAssetOnlyPortfiolioChoiceProblem` type, using the `build(...)` method. Save the `sim` version of the problem in the `problem_risk_sim` variable:"
   ]
  },
  {
   "cell_type": "code",
   "execution_count": 53,
   "id": "68c561cc-cb33-431d-95a7-3c24ca0eab13",
   "metadata": {
    "tags": []
   },
   "outputs": [],
   "source": [
    "# setup the bounds\n",
    "number_of_firms = length(my_list_of_tickers);\n",
    "bounds = zeros(number_of_firms,2);\n",
    "bounds[:,2] .= 1.0;\n",
    "\n",
    "# build an inital problem instance (we'll update in the main simulation loop)\n",
    "problem_risk_sim = build(MyMarkowitzRiskyAssetOnlyPortfiolioChoiceProblem, (\n",
    "    Σ = Σ̂,\n",
    "    μ = μ̂,\n",
    "    bounds = bounds,\n",
    "    initial = w, # let start with the initial optimal allocation \n",
    "    R = 0.0\n",
    "));"
   ]
  },
  {
   "cell_type": "markdown",
   "id": "4a9b4e61-8d9e-4644-83e4-f10283f9c5c0",
   "metadata": {},
   "source": [
    "Next, construct a [Queue](https://en.wikipedia.org/wiki/Queue_(abstract_data_type)) data structure (exported by the [DataStructures.jl](https://juliacollections.github.io/DataStructures.jl/stable/stack_and_queue/) package, holding the `close` price of each asset in your portfolio, for each trading day we are considering. Store these values in the `next_market_day_close_queue` variable:"
   ]
  },
  {
   "cell_type": "code",
   "execution_count": 54,
   "id": "ba646adf-7d55-4688-9f92-f51658b43568",
   "metadata": {
    "tags": []
   },
   "outputs": [],
   "source": [
    "next_market_day_close_queue = Queue{Vector{Float64}}()\n",
    "for i ∈ 2:(number_of_trading_days + 1)\n",
    "    \n",
    "    price_array = Array{Float64,1}();\n",
    "    for ticker ∈ my_list_of_tickers\n",
    "        price_df = dataset[ticker];\n",
    "        startprice = filter(:timestamp => x-> x >= startdate, price_df) |> x-> x[i,:close] # get the close price starting *after* Jan 03, 2023\n",
    "        push!(price_array,startprice)\n",
    "    end\n",
    "    \n",
    "    # add the price array to the queue -\n",
    "    enqueue!(next_market_day_close_queue, price_array);\n",
    "end"
   ]
  },
  {
   "cell_type": "markdown",
   "id": "1adb1ca7-76d8-4b2b-875b-79a3f8fecfff",
   "metadata": {},
   "source": [
    "`TODO`: Specify the minimum desired return in the `minimum_desired_return` variable (as a multiple of the historical expected return of `SPY`):"
   ]
  },
  {
   "cell_type": "code",
   "execution_count": 55,
   "id": "c6ab4ad9-ff3b-4dc4-b18e-e4e561d90c56",
   "metadata": {
    "tags": []
   },
   "outputs": [
    {
     "data": {
      "text/plain": [
       "0.30542665060329033"
      ]
     },
     "metadata": {},
     "output_type": "display_data"
    }
   ],
   "source": [
    "minimum_desired_return = 3.5*r_SPY # multiple of expected SPY return"
   ]
  },
  {
   "cell_type": "markdown",
   "id": "0d10842d-ad2b-4efd-a6e2-61f2e229d2c7",
   "metadata": {},
   "source": [
    "#### Main simulation loop\n",
    "In this block of code, let's simulate the reallocation of our portfolio after the close of the market each day using a `while` loop. In particular,\n",
    "* First, `dequeue!(..)` a close price array from the `next_market_day_close_queue`; this gives us a `close` price for each asset in our portfolio at the end of the market day\n",
    "* Next, we calculate the observed annualized return for each asset at the end of the day; this is the $\\mu_{i,k}$ value we'll use to update the expected returns\n",
    "* Then, we calculate an updated value for the expected annualized return using the above mentioned incremental update rule. Once completed, we update the `problem_risk_sim` object and solve the MinVar allocation problem with the updated expected return values.\n",
    "* We then use the new optimal values for the dollar fractions $\\omega_{i}$ to reallocate the entire portfolio (we liquidate the portfolio and take the proceeds to purchase the appropriate asset mix).\n",
    "* Finally, we capture data from the loop and store this in the `my_results_df::DataFrame` variable"
   ]
  },
  {
   "cell_type": "code",
   "execution_count": 56,
   "id": "d7d53190-3932-4407-ba8e-ad7f4f8d845d",
   "metadata": {
    "jupyter": {
     "source_hidden": true
    },
    "tags": []
   },
   "outputs": [
    {
     "data": {
      "text/html": [
       "<div><div style = \"float: left;\"><span>120×10 DataFrame</span></div><div style = \"float: right;\"><span style = \"font-style: italic;\">95 rows omitted</span></div><div style = \"clear: both;\"></div></div><div class = \"data-frame\" style = \"overflow-x: scroll;\"><table class = \"data-frame\" style = \"margin-bottom: 6px;\"><thead><tr class = \"header\"><th class = \"rowNumber\" style = \"font-weight: bold; text-align: right;\">Row</th><th style = \"text-align: left;\">N_new</th><th style = \"text-align: left;\">N_old</th><th style = \"text-align: left;\">w_old</th><th style = \"text-align: left;\">w_new</th><th style = \"text-align: left;\">μ_previous</th><th style = \"text-align: left;\">μ_new</th><th style = \"text-align: left;\">previous_close</th><th style = \"text-align: left;\">current_close</th><th style = \"text-align: left;\">liquidation_value_of_porfolio</th><th style = \"text-align: left;\">risk</th></tr><tr class = \"subheader headerLastRow\"><th class = \"rowNumber\" style = \"font-weight: bold; text-align: right;\"></th><th title = \"Vector{Float64}\" style = \"text-align: left;\">Array…</th><th title = \"Vector{Float64}\" style = \"text-align: left;\">Array…</th><th title = \"Vector{Float64}\" style = \"text-align: left;\">Array…</th><th title = \"Vector{Float64}\" style = \"text-align: left;\">Array…</th><th title = \"Vector{Float64}\" style = \"text-align: left;\">Array…</th><th title = \"Vector{Float64}\" style = \"text-align: left;\">Array…</th><th title = \"Vector{Float64}\" style = \"text-align: left;\">Array…</th><th title = \"Vector{Float64}\" style = \"text-align: left;\">Array…</th><th title = \"Float64\" style = \"text-align: left;\">Float64</th><th title = \"Float64\" style = \"text-align: left;\">Float64</th></tr></thead><tbody><tr><td class = \"rowNumber\" style = \"font-weight: bold; text-align: right;\">1</td><td style = \"text-align: left;\">[3.36011, 2.28829, 1.15222, 2.63632e-5, 1.22452, 0.655312]</td><td style = \"text-align: left;\">[0.0, 0.0, 1.78722, 6.23172, 2.93766, 1.65157]</td><td style = \"text-align: left;\">[0.0, 0.0, 0.428181, 0.166574, 0.263508, 0.141738]</td><td style = \"text-align: left;\">[0.220986, 0.343281, 0.268495, 7.42233e-7, 0.110488, 0.0567489]</td><td style = \"text-align: left;\">[0.397169, 0.382198, 0.248331, -0.0060954, 0.158593, 0.149594]</td><td style = \"text-align: left;\">[0.418264, 0.453642, 0.133131, 0.081973, 0.129039, 0.128051]</td><td style = \"text-align: left;\">[64.02, 143.15, 239.58, 26.73, 89.7, 85.82]</td><td style = \"text-align: left;\">[64.66, 147.49, 229.1, 27.68, 88.71, 85.14]</td><td style = \"text-align: right;\">983.16</td><td style = \"text-align: right;\">0.275606</td></tr><tr><td class = \"rowNumber\" style = \"font-weight: bold; text-align: right;\">2</td><td style = \"text-align: left;\">[4.78877, 3.54371, 0.0156405, 2.63544, 0.737808, 0.10357]</td><td style = \"text-align: left;\">[3.36011, 2.28829, 1.15222, 2.63632e-5, 1.22452, 0.655312]</td><td style = \"text-align: left;\">[0.0, 0.0, 0.428181, 0.166574, 0.263508, 0.141738]</td><td style = \"text-align: left;\">[0.313293, 0.53059, 0.00364955, 0.0762362, 0.0671958, 0.0090358]</td><td style = \"text-align: left;\">[0.418264, 0.453642, 0.133131, 0.081973, 0.129039, 0.128051]</td><td style = \"text-align: left;\">[0.321598, 0.365023, 0.0559839, 0.0702047, 0.0720276, 0.066261]</td><td style = \"text-align: left;\">[64.66, 147.49, 229.1, 27.68, 88.71, 85.14]</td><td style = \"text-align: left;\">[62.33, 142.65, 222.31, 27.56, 86.77, 83.12]</td><td style = \"text-align: right;\">952.733</td><td style = \"text-align: right;\">0.331488</td></tr><tr><td class = \"rowNumber\" style = \"font-weight: bold; text-align: right;\">3</td><td style = \"text-align: left;\">[2.76473, 2.31788, 0.000275987, 8.34044, 0.773456, 1.82304]</td><td style = \"text-align: left;\">[4.78877, 3.54371, 0.0156405, 2.63544, 0.737808, 0.10357]</td><td style = \"text-align: left;\">[0.0, 0.0, 0.428181, 0.166574, 0.263508, 0.141738]</td><td style = \"text-align: left;\">[0.179335, 0.349288, 6.29563e-5, 0.243012, 0.0691529, 0.159148]</td><td style = \"text-align: left;\">[0.321598, 0.365023, 0.0559839, 0.0702047, 0.0720276, 0.066261]</td><td style = \"text-align: left;\">[0.383436, 0.46418, 0.0849495, 0.174275, 0.111356, 0.153778]</td><td style = \"text-align: left;\">[62.33, 142.65, 222.31, 27.56, 86.77, 83.12]</td><td style = \"text-align: left;\">[63.96, 148.59, 224.93, 28.73, 88.16, 86.08]</td><td style = \"text-align: right;\">986.044</td><td style = \"text-align: right;\">0.274531</td></tr><tr><td class = \"rowNumber\" style = \"font-weight: bold; text-align: right;\">4</td><td style = \"text-align: left;\">[1.94278, 1.43116, 0.693749, 8.0519, 1.27879, 1.82221]</td><td style = \"text-align: left;\">[2.76473, 2.31788, 0.000275987, 8.34044, 0.773456, 1.82304]</td><td style = \"text-align: left;\">[0.0, 0.0, 0.428181, 0.166574, 0.263508, 0.141738]</td><td style = \"text-align: left;\">[0.127995, 0.219146, 0.154383, 0.231237, 0.111264, 0.155974]</td><td style = \"text-align: left;\">[0.383436, 0.46418, 0.0849495, 0.174275, 0.111356, 0.153778]</td><td style = \"text-align: left;\">[0.505627, 0.586694, 0.108517, 0.222899, 0.128471, 0.189436]</td><td style = \"text-align: left;\">[63.96, 148.59, 224.93, 28.73, 88.16, 86.08]</td><td style = \"text-align: left;\">[67.24, 156.28, 227.12, 29.31, 88.8, 87.36]</td><td style = \"text-align: right;\">1020.6</td><td style = \"text-align: right;\">0.242323</td></tr><tr><td class = \"rowNumber\" style = \"font-weight: bold; text-align: right;\">5</td><td style = \"text-align: left;\">[1.50806, 1.13476, 0.865505, 7.18287, 1.32478, 2.47771]</td><td style = \"text-align: left;\">[1.94278, 1.43116, 0.693749, 8.0519, 1.27879, 1.82221]</td><td style = \"text-align: left;\">[0.0, 0.0, 0.428181, 0.166574, 0.263508, 0.141738]</td><td style = \"text-align: left;\">[0.0992894, 0.174664, 0.191635, 0.204593, 0.114382, 0.215437]</td><td style = \"text-align: left;\">[0.505627, 0.586694, 0.108517, 0.222899, 0.128471, 0.189436]</td><td style = \"text-align: left;\">[0.530747, 0.625735, 0.126554, 0.231823, 0.139641, 0.258925]</td><td style = \"text-align: left;\">[67.24, 156.28, 227.12, 29.31, 88.8, 87.36]</td><td style = \"text-align: left;\">[68.05, 159.09, 228.85, 29.44, 89.24, 89.87]</td><td style = \"text-align: right;\">1033.58</td><td style = \"text-align: right;\">0.232873</td></tr><tr><td class = \"rowNumber\" style = \"font-weight: bold; text-align: right;\">6</td><td style = \"text-align: left;\">[0.649215, 0.384738, 1.30044, 5.86731, 2.24204, 2.80814]</td><td style = \"text-align: left;\">[1.50806, 1.13476, 0.865505, 7.18287, 1.32478, 2.47771]</td><td style = \"text-align: left;\">[0.0, 0.0, 0.428181, 0.166574, 0.263508, 0.141738]</td><td style = \"text-align: left;\">[0.0422166, 0.057967, 0.288701, 0.164912, 0.194771, 0.251432]</td><td style = \"text-align: left;\">[0.530747, 0.625735, 0.126554, 0.231823, 0.139641, 0.258925]</td><td style = \"text-align: left;\">[0.562566, 0.634009, 0.200359, 0.264358, 0.222114, 0.398614]</td><td style = \"text-align: left;\">[68.05, 159.09, 228.85, 29.44, 89.24, 89.87]</td><td style = \"text-align: left;\">[69.06, 160.01, 235.77, 29.85, 92.26, 95.09]</td><td style = \"text-align: right;\">1062.02</td><td style = \"text-align: right;\">0.21449</td></tr><tr><td class = \"rowNumber\" style = \"font-weight: bold; text-align: right;\">7</td><td style = \"text-align: left;\">[0.474216, 0.254974, 1.55889, 6.29366, 2.1769, 2.44333]</td><td style = \"text-align: left;\">[0.649215, 0.384738, 1.30044, 5.86731, 2.24204, 2.80814]</td><td style = \"text-align: left;\">[0.0, 0.0, 0.428181, 0.166574, 0.263508, 0.141738]</td><td style = \"text-align: left;\">[0.0313494, 0.0393087, 0.347171, 0.178001, 0.186819, 0.21735]</td><td style = \"text-align: left;\">[0.562566, 0.634009, 0.200359, 0.264358, 0.222114, 0.398614]</td><td style = \"text-align: left;\">[0.619647, 0.706735, 0.227473, 0.298589, 0.210315, 0.399393]</td><td style = \"text-align: left;\">[69.06, 160.01, 235.77, 29.85, 92.26, 95.09]</td><td style = \"text-align: left;\">[70.8, 165.11, 238.51, 30.29, 91.91, 95.27]</td><td style = \"text-align: right;\">1070.98</td><td style = \"text-align: right;\">0.211265</td></tr><tr><td class = \"rowNumber\" style = \"font-weight: bold; text-align: right;\">8</td><td style = \"text-align: left;\">[0.16844, 0.0888798, 1.64988, 5.88773, 2.57447, 2.47739]</td><td style = \"text-align: left;\">[0.474216, 0.254974, 1.55889, 6.29366, 2.1769, 2.44333]</td><td style = \"text-align: left;\">[0.0, 0.0, 0.428181, 0.166574, 0.263508, 0.141738]</td><td style = \"text-align: left;\">[0.0110636, 0.013895, 0.365141, 0.164004, 0.221019, 0.224878]</td><td style = \"text-align: left;\">[0.619647, 0.706735, 0.227473, 0.298589, 0.210315, 0.399393]</td><td style = \"text-align: left;\">[0.620559, 0.758201, 0.232794, 0.280583, 0.232496, 0.46968]</td><td style = \"text-align: left;\">[70.8, 165.11, 238.51, 30.29, 91.91, 95.27]</td><td style = \"text-align: left;\">[71.0, 168.99, 239.23, 30.11, 92.8, 98.12]</td><td style = \"text-align: right;\">1080.95</td><td style = \"text-align: right;\">0.208565</td></tr><tr><td class = \"rowNumber\" style = \"font-weight: bold; text-align: right;\">9</td><td style = \"text-align: left;\">[0.240401, 0.285804, 1.69677, 5.33497, 2.39279, 2.28815]</td><td style = \"text-align: left;\">[0.16844, 0.0888798, 1.64988, 5.88773, 2.57447, 2.47739]</td><td style = \"text-align: left;\">[0.0, 0.0, 0.428181, 0.166574, 0.263508, 0.141738]</td><td style = \"text-align: left;\">[0.016027, 0.0471144, 0.379778, 0.147057, 0.205358, 0.204665]</td><td style = \"text-align: left;\">[0.620559, 0.758201, 0.232794, 0.280583, 0.232496, 0.46968]</td><td style = \"text-align: left;\">[0.635207, 0.867606, 0.242237, 0.234728, 0.212732, 0.411251]</td><td style = \"text-align: left;\">[71.0, 168.99, 239.23, 30.11, 92.8, 98.12]</td><td style = \"text-align: left;\">[71.59, 177.02, 240.35, 29.6, 92.16, 96.05]</td><td style = \"text-align: right;\">1073.83</td><td style = \"text-align: right;\">0.210517</td></tr><tr><td class = \"rowNumber\" style = \"font-weight: bold; text-align: right;\">10</td><td style = \"text-align: left;\">[0.487826, 0.544748, 1.47411, 4.23428, 2.31657, 2.58948]</td><td style = \"text-align: left;\">[0.240401, 0.285804, 1.69677, 5.33497, 2.39279, 2.28815]</td><td style = \"text-align: left;\">[0.0, 0.0, 0.428181, 0.166574, 0.263508, 0.141738]</td><td style = \"text-align: left;\">[0.0325057, 0.0894317, 0.328406, 0.115251, 0.20087, 0.233536]</td><td style = \"text-align: left;\">[0.635207, 0.867606, 0.242237, 0.234728, 0.212732, 0.411251]</td><td style = \"text-align: left;\">[0.591264, 0.812234, 0.191758, 0.16421, 0.200192, 0.391611]</td><td style = \"text-align: left;\">[71.59, 177.02, 240.35, 29.6, 92.16, 96.05]</td><td style = \"text-align: left;\">[70.53, 173.77, 235.81, 28.81, 91.78, 95.46]</td><td style = \"text-align: right;\">1058.47</td><td style = \"text-align: right;\">0.215925</td></tr><tr><td class = \"rowNumber\" style = \"font-weight: bold; text-align: right;\">11</td><td style = \"text-align: left;\">[0.492071, 0.776589, 1.03372, 2.89495, 3.32352, 2.6587]</td><td style = \"text-align: left;\">[0.487826, 0.544748, 1.47411, 4.23428, 2.31657, 2.58948]</td><td style = \"text-align: left;\">[0.0, 0.0, 0.428181, 0.166574, 0.263508, 0.141738]</td><td style = \"text-align: left;\">[0.0318311, 0.124384, 0.229049, 0.0786025, 0.298182, 0.237951]</td><td style = \"text-align: left;\">[0.591264, 0.812234, 0.191758, 0.16421, 0.200192, 0.391611]</td><td style = \"text-align: left;\">[0.482525, 0.713759, 0.148032, 0.128222, 0.256005, 0.340262]</td><td style = \"text-align: left;\">[70.53, 173.77, 235.81, 28.81, 91.78, 95.46]</td><td style = \"text-align: left;\">[67.71, 167.65, 231.93, 28.42, 93.91, 93.68]</td><td style = \"text-align: right;\">1046.72</td><td style = \"text-align: right;\">0.221311</td></tr><tr><td class = \"rowNumber\" style = \"font-weight: bold; text-align: right;\">12</td><td style = \"text-align: left;\">[4.23826e-6, 1.22174e-6, 1.83271, 5.77392, 3.14587, 1.78049]</td><td style = \"text-align: left;\">[0.492071, 0.776589, 1.03372, 2.89495, 3.32352, 2.6587]</td><td style = \"text-align: left;\">[0.0, 0.0, 0.428181, 0.166574, 0.263508, 0.141738]</td><td style = \"text-align: left;\">[2.71348e-7, 1.99139e-7, 0.402262, 0.154155, 0.285371, 0.158211]</td><td style = \"text-align: left;\">[0.482525, 0.713759, 0.148032, 0.128222, 0.256005, 0.340262]</td><td style = \"text-align: left;\">[0.564037, 0.863098, 0.235053, 0.196895, 0.393576, 0.431108]</td><td style = \"text-align: left;\">[67.71, 167.65, 231.93, 28.42, 93.91, 93.68]</td><td style = \"text-align: left;\">[70.07, 178.39, 240.22, 29.22, 99.28, 97.25]</td><td style = \"text-align: right;\">1094.44</td><td style = \"text-align: right;\">0.206447</td></tr><tr><td class = \"rowNumber\" style = \"font-weight: bold; text-align: right;\">13</td><td style = \"text-align: left;\">[-2.4551e-8, -2.72766e-8, 1.94135, 6.10277, 2.92624, 1.63611]</td><td style = \"text-align: left;\">[4.23826e-6, 1.22174e-6, 1.83271, 5.77392, 3.14587, 1.78049]</td><td style = \"text-align: left;\">[0.0, 0.0, 0.428181, 0.166574, 0.263508, 0.141738]</td><td style = \"text-align: left;\">[-1.69059e-9, -4.71054e-9, 0.423737, 0.166217, 0.266483, 0.143563]</td><td style = \"text-align: left;\">[0.564037, 0.863098, 0.235053, 0.196895, 0.393576, 0.431108]</td><td style = \"text-align: left;\">[0.78063, 1.03883, 0.257339, 0.283892, 0.438159, 0.433784]</td><td style = \"text-align: left;\">[70.07, 178.39, 240.22, 29.22, 99.28, 97.25]</td><td style = \"text-align: left;\">[76.53, 191.93, 242.58, 30.27, 101.21, 97.52]</td><td style = \"text-align: right;\">1111.38</td><td style = \"text-align: right;\">0.206351</td></tr><tr><td style = \"text-align: right;\">&vellip;</td><td style = \"text-align: right;\">&vellip;</td><td style = \"text-align: right;\">&vellip;</td><td style = \"text-align: right;\">&vellip;</td><td style = \"text-align: right;\">&vellip;</td><td style = \"text-align: right;\">&vellip;</td><td style = \"text-align: right;\">&vellip;</td><td style = \"text-align: right;\">&vellip;</td><td style = \"text-align: right;\">&vellip;</td><td style = \"text-align: right;\">&vellip;</td><td style = \"text-align: right;\">&vellip;</td></tr><tr><td class = \"rowNumber\" style = \"font-weight: bold; text-align: right;\">109</td><td style = \"text-align: left;\">[2.2557e-6, 4.44807e-7, 1.82462, 7.46316, 3.0519, 1.63669]</td><td style = \"text-align: left;\">[2.33897e-6, 4.48275e-7, 1.83509, 7.35813, 3.06001, 1.62756]</td><td style = \"text-align: left;\">[0.0, 0.0, 0.428181, 0.166574, 0.263508, 0.141738]</td><td style = \"text-align: left;\">[2.00248e-7, 1.22552e-7, 0.423736, 0.166217, 0.266483, 0.143563]</td><td style = \"text-align: left;\">[1.13848, 1.60318, 0.570273, 0.273722, 0.561882, 0.660091]</td><td style = \"text-align: left;\">[1.2064, 1.60411, 0.576396, 0.232682, 0.560369, 0.636804]</td><td style = \"text-align: left;\">[121.05, 385.1, 325.26, 31.82, 122.67, 124.25]</td><td style = \"text-align: left;\">[124.92, 387.7, 326.79, 31.34, 122.87, 123.43]</td><td style = \"text-align: right;\">1407.17</td><td style = \"text-align: right;\">0.206351</td></tr><tr><td class = \"rowNumber\" style = \"font-weight: bold; text-align: right;\">110</td><td style = \"text-align: left;\">[2.24029e-6, 4.46668e-7, 1.8374, 7.23257, 3.08372, 1.63216]</td><td style = \"text-align: left;\">[2.2557e-6, 4.44807e-7, 1.82462, 7.46316, 3.0519, 1.63669]</td><td style = \"text-align: left;\">[0.0, 0.0, 0.428181, 0.166574, 0.263508, 0.141738]</td><td style = \"text-align: left;\">[2.01133e-7, 1.22556e-7, 0.423736, 0.166217, 0.266483, 0.143563]</td><td style = \"text-align: left;\">[1.2064, 1.60411, 0.576396, 0.232682, 0.560369, 0.636804]</td><td style = \"text-align: left;\">[1.27903, 1.63393, 0.609353, 0.365758, 0.584938, 0.693741]</td><td style = \"text-align: left;\">[124.92, 387.7, 326.79, 31.34, 122.87, 123.43]</td><td style = \"text-align: left;\">[129.19, 394.82, 331.85, 33.07, 124.35, 126.57]</td><td style = \"text-align: right;\">1438.97</td><td style = \"text-align: right;\">0.206351</td></tr><tr><td class = \"rowNumber\" style = \"font-weight: bold; text-align: right;\">111</td><td style = \"text-align: left;\">[2.35611e-6, 4.33178e-7, 1.83788, 7.10709, 3.10519, 1.64341]</td><td style = \"text-align: left;\">[2.24029e-6, 4.46668e-7, 1.8374, 7.23257, 3.08372, 1.63216]</td><td style = \"text-align: left;\">[0.0, 0.0, 0.428181, 0.166574, 0.263508, 0.141738]</td><td style = \"text-align: left;\">[2.02361e-7, 1.22558e-7, 0.423736, 0.166217, 0.266483, 0.143563]</td><td style = \"text-align: left;\">[1.27903, 1.63393, 0.609353, 0.365758, 0.584938, 0.693741]</td><td style = \"text-align: left;\">[1.17367, 1.71401, 0.621721, 0.42531, 0.580709, 0.688595]</td><td style = \"text-align: left;\">[129.19, 394.82, 331.85, 33.07, 124.35, 126.57]</td><td style = \"text-align: left;\">[124.53, 410.22, 334.29, 33.91, 124.43, 126.66]</td><td style = \"text-align: right;\">1449.92</td><td style = \"text-align: right;\">0.206351</td></tr><tr><td class = \"rowNumber\" style = \"font-weight: bold; text-align: right;\">112</td><td style = \"text-align: left;\">[2.33212e-6, 4.18106e-7, 1.84252, 6.85258, 3.1427, 1.66575]</td><td style = \"text-align: left;\">[2.35611e-6, 4.33178e-7, 1.83788, 7.10709, 3.10519, 1.64341]</td><td style = \"text-align: left;\">[0.0, 0.0, 0.428181, 0.166574, 0.263508, 0.141738]</td><td style = \"text-align: left;\">[2.02441e-7, 1.22558e-7, 0.423736, 0.166217, 0.266483, 0.143563]</td><td style = \"text-align: left;\">[1.17367, 1.71401, 0.621721, 0.42531, 0.580709, 0.688595]</td><td style = \"text-align: left;\">[1.21796, 1.81537, 0.638391, 0.542203, 0.573889, 0.67693]</td><td style = \"text-align: left;\">[124.53, 410.22, 334.29, 33.91, 124.43, 126.66]</td><td style = \"text-align: left;\">[127.33, 429.97, 337.34, 35.58, 124.38, 126.42]</td><td style = \"text-align: right;\">1466.84</td><td style = \"text-align: right;\">0.206351</td></tr><tr><td class = \"rowNumber\" style = \"font-weight: bold; text-align: right;\">113</td><td style = \"text-align: left;\">[2.46303e-6, 4.29274e-7, 1.81849, 6.93219, 3.16478, 1.68726]</td><td style = \"text-align: left;\">[2.33212e-6, 4.18106e-7, 1.84252, 6.85258, 3.1427, 1.66575]</td><td style = \"text-align: left;\">[0.0, 0.0, 0.428181, 0.166574, 0.263508, 0.141738]</td><td style = \"text-align: left;\">[2.04839e-7, 1.22564e-7, 0.423736, 0.166217, 0.266483, 0.143563]</td><td style = \"text-align: left;\">[1.21796, 1.81537, 0.638391, 0.542203, 0.573889, 0.67693]</td><td style = \"text-align: left;\">[1.14387, 1.77697, 0.711131, 0.553722, 0.596557, 0.683877]</td><td style = \"text-align: left;\">[127.33, 429.97, 337.34, 35.58, 124.38, 126.42]</td><td style = \"text-align: left;\">[124.24, 426.53, 348.1, 35.82, 125.79, 127.11]</td><td style = \"text-align: right;\">1493.89</td><td style = \"text-align: right;\">0.206351</td></tr><tr><td class = \"rowNumber\" style = \"font-weight: bold; text-align: right;\">114</td><td style = \"text-align: left;\">[2.52493e-6, 4.24602e-7, 1.83071, 6.75931, 3.17693, 1.69201]</td><td style = \"text-align: left;\">[2.46303e-6, 4.29274e-7, 1.81849, 6.93219, 3.16478, 1.68726]</td><td style = \"text-align: left;\">[0.0, 0.0, 0.428181, 0.166574, 0.263508, 0.141738]</td><td style = \"text-align: left;\">[2.04998e-7, 1.22563e-7, 0.423736, 0.166217, 0.266483, 0.143563]</td><td style = \"text-align: left;\">[1.14387, 1.77697, 0.711131, 0.553722, 0.596557, 0.683877]</td><td style = \"text-align: left;\">[1.04661, 1.7615, 0.661899, 0.586584, 0.555693, 0.644715]</td><td style = \"text-align: left;\">[124.24, 426.53, 348.1, 35.82, 125.79, 127.11]</td><td style = \"text-align: left;\">[120.08, 426.92, 342.33, 36.37, 124.06, 125.49]</td><td style = \"text-align: right;\">1479.01</td><td style = \"text-align: right;\">0.206351</td></tr><tr><td class = \"rowNumber\" style = \"font-weight: bold; text-align: right;\">115</td><td style = \"text-align: left;\">[2.50629e-6, 4.08938e-7, 1.83224, 6.94187, 3.14516, 1.66839]</td><td style = \"text-align: left;\">[2.52493e-6, 4.24602e-7, 1.83071, 6.75931, 3.17693, 1.69201]</td><td style = \"text-align: left;\">[0.0, 0.0, 0.428181, 0.166574, 0.263508, 0.141738]</td><td style = \"text-align: left;\">[2.03918e-7, 1.22558e-7, 0.423736, 0.166217, 0.266483, 0.143563]</td><td style = \"text-align: left;\">[1.04661, 1.7615, 0.661899, 0.586584, 0.555693, 0.644715]</td><td style = \"text-align: left;\">[1.0119, 1.80892, 0.623575, 0.48396, 0.545867, 0.644085]</td><td style = \"text-align: left;\">[120.08, 426.92, 342.33, 36.37, 124.06, 125.49]</td><td style = \"text-align: left;\">[118.93, 438.08, 338.05, 35.0, 123.85, 125.78]</td><td style = \"text-align: right;\">1461.73</td><td style = \"text-align: right;\">0.206351</td></tr><tr><td class = \"rowNumber\" style = \"font-weight: bold; text-align: right;\">116</td><td style = \"text-align: left;\">[2.60032e-6, 4.06912e-7, 1.81558, 7.22059, 3.14083, 1.64367]</td><td style = \"text-align: left;\">[2.50629e-6, 4.08938e-7, 1.83224, 6.94187, 3.14516, 1.66839]</td><td style = \"text-align: left;\">[0.0, 0.0, 0.428181, 0.166574, 0.263508, 0.141738]</td><td style = \"text-align: left;\">[2.03976e-7, 1.22555e-7, 0.423736, 0.166217, 0.266483, 0.143563]</td><td style = \"text-align: left;\">[1.0119, 1.80892, 0.623575, 0.48396, 0.545867, 0.644085]</td><td style = \"text-align: left;\">[0.852959, 1.74655, 0.583644, 0.323194, 0.48715, 0.618538]</td><td style = \"text-align: left;\">[118.93, 438.08, 338.05, 35.0, 123.85, 125.78]</td><td style = \"text-align: left;\">[112.11, 430.45, 333.56, 32.9, 121.26, 124.83]</td><td style = \"text-align: right;\">1429.2</td><td style = \"text-align: right;\">0.206351</td></tr><tr><td class = \"rowNumber\" style = \"font-weight: bold; text-align: right;\">117</td><td style = \"text-align: left;\">[2.71758e-6, 4.14737e-7, 1.81606, 7.39839, 3.13217, 1.60598]</td><td style = \"text-align: left;\">[2.60032e-6, 4.06912e-7, 1.81558, 7.22059, 3.14083, 1.64367]</td><td style = \"text-align: left;\">[0.0, 0.0, 0.428181, 0.166574, 0.263508, 0.141738]</td><td style = \"text-align: left;\">[2.06628e-7, 1.22561e-7, 0.423736, 0.166217, 0.266483, 0.143563]</td><td style = \"text-align: left;\">[0.852959, 1.74655, 0.583644, 0.323194, 0.48715, 0.618538]</td><td style = \"text-align: left;\">[0.812535, 1.72791, 0.623847, 0.305367, 0.535944, 0.717525]</td><td style = \"text-align: left;\">[112.11, 430.45, 333.56, 32.9, 121.26, 124.83]</td><td style = \"text-align: left;\">[110.7, 430.25, 339.71, 32.71, 123.87, 130.15]</td><td style = \"text-align: right;\">1455.93</td><td style = \"text-align: right;\">0.206351</td></tr><tr><td class = \"rowNumber\" style = \"font-weight: bold; text-align: right;\">118</td><td style = \"text-align: left;\">[2.70858e-6, 4.19744e-7, 1.82839, 7.28124, 3.13139, 1.60467]</td><td style = \"text-align: left;\">[2.71758e-6, 4.14737e-7, 1.81606, 7.39839, 3.13217, 1.60598]</td><td style = \"text-align: left;\">[0.0, 0.0, 0.428181, 0.166574, 0.263508, 0.141738]</td><td style = \"text-align: left;\">[2.06125e-7, 1.22559e-7, 0.423736, 0.166217, 0.266483, 0.143563]</td><td style = \"text-align: left;\">[0.812535, 1.72791, 0.623847, 0.305367, 0.535944, 0.717525]</td><td style = \"text-align: left;\">[0.788653, 1.66238, 0.582575, 0.324557, 0.513232, 0.694422]</td><td style = \"text-align: left;\">[110.7, 430.25, 339.71, 32.71, 123.87, 130.15]</td><td style = \"text-align: left;\">[110.01, 422.09, 335.02, 33.0, 123.02, 129.33]</td><td style = \"text-align: right;\">1445.58</td><td style = \"text-align: right;\">0.206351</td></tr><tr><td class = \"rowNumber\" style = \"font-weight: bold; text-align: right;\">119</td><td style = \"text-align: left;\">[2.71593e-6, 4.28549e-7, 1.83216, 7.08345, 3.17928, 1.60194]</td><td style = \"text-align: left;\">[2.70858e-6, 4.19744e-7, 1.82839, 7.28124, 3.13139, 1.60467]</td><td style = \"text-align: left;\">[0.0, 0.0, 0.428181, 0.166574, 0.263508, 0.141738]</td><td style = \"text-align: left;\">[2.0551e-7, 1.22556e-7, 0.423736, 0.166217, 0.266483, 0.143563]</td><td style = \"text-align: left;\">[0.788653, 1.66238, 0.582575, 0.324557, 0.513232, 0.694422]</td><td style = \"text-align: left;\">[0.722838, 1.5498, 0.52799, 0.347142, 0.426282, 0.648203]</td><td style = \"text-align: left;\">[110.01, 422.09, 335.02, 33.0, 123.02, 129.33]</td><td style = \"text-align: left;\">[107.51, 406.32, 328.6, 33.34, 119.09, 127.33]</td><td style = \"text-align: right;\">1420.8</td><td style = \"text-align: right;\">0.206351</td></tr><tr><td class = \"rowNumber\" style = \"font-weight: bold; text-align: right;\">120</td><td style = \"text-align: left;\">[2.68363e-6, 4.21394e-7, 1.82357, 7.01834, 3.22403, 1.60014]</td><td style = \"text-align: left;\">[2.71593e-6, 4.28549e-7, 1.83216, 7.08345, 3.17928, 1.60194]</td><td style = \"text-align: left;\">[0.0, 0.0, 0.428181, 0.166574, 0.263508, 0.141738]</td><td style = \"text-align: left;\">[2.0575e-7, 1.22558e-7, 0.423736, 0.166217, 0.266483, 0.143563]</td><td style = \"text-align: left;\">[0.722838, 1.5498, 0.52799, 0.347142, 0.426282, 0.648203]</td><td style = \"text-align: left;\">[0.782228, 1.6103, 0.568083, 0.40047, 0.420326, 0.678071]</td><td style = \"text-align: left;\">[107.51, 406.32, 328.6, 33.34, 119.09, 127.33]</td><td style = \"text-align: left;\">[110.39, 418.76, 334.57, 34.1, 119.01, 129.18]</td><td style = \"text-align: right;\">1439.83</td><td style = \"text-align: right;\">0.206351</td></tr></tbody></table></div>"
      ],
      "text/latex": [
       "\\begin{tabular}{r|ccc}\n",
       "\t& N\\_new & N\\_old & \\\\\n",
       "\t\\hline\n",
       "\t& Array… & Array… & \\\\\n",
       "\t\\hline\n",
       "\t1 & [3.36011, 2.28829, 1.15222, 2.63632e-5, 1.22452, 0.655312] & [0.0, 0.0, 1.78722, 6.23172, 2.93766, 1.65157] & $\\dots$ \\\\\n",
       "\t2 & [4.78877, 3.54371, 0.0156405, 2.63544, 0.737808, 0.10357] & [3.36011, 2.28829, 1.15222, 2.63632e-5, 1.22452, 0.655312] & $\\dots$ \\\\\n",
       "\t3 & [2.76473, 2.31788, 0.000275987, 8.34044, 0.773456, 1.82304] & [4.78877, 3.54371, 0.0156405, 2.63544, 0.737808, 0.10357] & $\\dots$ \\\\\n",
       "\t4 & [1.94278, 1.43116, 0.693749, 8.0519, 1.27879, 1.82221] & [2.76473, 2.31788, 0.000275987, 8.34044, 0.773456, 1.82304] & $\\dots$ \\\\\n",
       "\t5 & [1.50806, 1.13476, 0.865505, 7.18287, 1.32478, 2.47771] & [1.94278, 1.43116, 0.693749, 8.0519, 1.27879, 1.82221] & $\\dots$ \\\\\n",
       "\t6 & [0.649215, 0.384738, 1.30044, 5.86731, 2.24204, 2.80814] & [1.50806, 1.13476, 0.865505, 7.18287, 1.32478, 2.47771] & $\\dots$ \\\\\n",
       "\t7 & [0.474216, 0.254974, 1.55889, 6.29366, 2.1769, 2.44333] & [0.649215, 0.384738, 1.30044, 5.86731, 2.24204, 2.80814] & $\\dots$ \\\\\n",
       "\t8 & [0.16844, 0.0888798, 1.64988, 5.88773, 2.57447, 2.47739] & [0.474216, 0.254974, 1.55889, 6.29366, 2.1769, 2.44333] & $\\dots$ \\\\\n",
       "\t9 & [0.240401, 0.285804, 1.69677, 5.33497, 2.39279, 2.28815] & [0.16844, 0.0888798, 1.64988, 5.88773, 2.57447, 2.47739] & $\\dots$ \\\\\n",
       "\t10 & [0.487826, 0.544748, 1.47411, 4.23428, 2.31657, 2.58948] & [0.240401, 0.285804, 1.69677, 5.33497, 2.39279, 2.28815] & $\\dots$ \\\\\n",
       "\t11 & [0.492071, 0.776589, 1.03372, 2.89495, 3.32352, 2.6587] & [0.487826, 0.544748, 1.47411, 4.23428, 2.31657, 2.58948] & $\\dots$ \\\\\n",
       "\t12 & [4.23826e-6, 1.22174e-6, 1.83271, 5.77392, 3.14587, 1.78049] & [0.492071, 0.776589, 1.03372, 2.89495, 3.32352, 2.6587] & $\\dots$ \\\\\n",
       "\t13 & [-2.4551e-8, -2.72766e-8, 1.94135, 6.10277, 2.92624, 1.63611] & [4.23826e-6, 1.22174e-6, 1.83271, 5.77392, 3.14587, 1.78049] & $\\dots$ \\\\\n",
       "\t14 & [2.92091e-6, 7.00001e-7, 1.9264, 6.11298, 2.95574, 1.64013] & [-2.4551e-8, -2.72766e-8, 1.94135, 6.10277, 2.92624, 1.63611] & $\\dots$ \\\\\n",
       "\t15 & [0.0332216, 0.115717, 1.6977, 5.42976, 3.10778, 2.00815] & [2.92091e-6, 7.00001e-7, 1.9264, 6.11298, 2.95574, 1.64013] & $\\dots$ \\\\\n",
       "\t16 & [-2.44593e-8, -2.65806e-8, 1.90893, 6.17163, 3.00247, 1.61655] & [0.0332216, 0.115717, 1.6977, 5.42976, 3.10778, 2.00815] & $\\dots$ \\\\\n",
       "\t17 & [2.92909e-6, 6.71123e-7, 1.90416, 6.58238, 2.95079, 1.56589] & [-2.44593e-8, -2.65806e-8, 1.90893, 6.17163, 3.00247, 1.61655] & $\\dots$ \\\\\n",
       "\t18 & [1.30012e-5, 0.0351937, 1.77043, 4.3368, 3.2406, 2.16352] & [2.92909e-6, 6.71123e-7, 1.90416, 6.58238, 2.95079, 1.56589] & $\\dots$ \\\\\n",
       "\t19 & [2.93198e-6, 6.99696e-7, 1.90644, 6.55767, 2.97496, 1.55204] & [1.30012e-5, 0.0351937, 1.77043, 4.3368, 3.2406, 2.16352] & $\\dots$ \\\\\n",
       "\t20 & [2.6623e-6, 6.65641e-7, 1.90691, 6.50364, 2.98833, 1.55295] & [2.93198e-6, 6.99696e-7, 1.90644, 6.55767, 2.97496, 1.55204] & $\\dots$ \\\\\n",
       "\t21 & [2.7322e-6, 6.78229e-7, 1.92393, 6.61449, 2.94255, 1.52754] & [2.6623e-6, 6.65641e-7, 1.90691, 6.50364, 2.98833, 1.55295] & $\\dots$ \\\\\n",
       "\t22 & [2.68837e-6, 6.76717e-7, 1.91103, 6.38745, 2.95089, 1.61787] & [2.7322e-6, 6.78229e-7, 1.92393, 6.61449, 2.94255, 1.52754] & $\\dots$ \\\\\n",
       "\t23 & [2.70964e-6, 6.65189e-7, 1.88887, 6.63127, 2.94786, 1.60815] & [2.68837e-6, 6.76717e-7, 1.91103, 6.38745, 2.95089, 1.61787] & $\\dots$ \\\\\n",
       "\t24 & [2.74326e-6, 6.52585e-7, 1.86992, 6.75581, 2.91228, 1.66005] & [2.70964e-6, 6.65189e-7, 1.88887, 6.63127, 2.94786, 1.60815] & $\\dots$ \\\\\n",
       "\t$\\dots$ & $\\dots$ & $\\dots$ &  \\\\\n",
       "\\end{tabular}\n"
      ],
      "text/plain": [
       "\u001b[1m120×10 DataFrame\u001b[0m\n",
       "\u001b[1m Row \u001b[0m│\u001b[1m N_new                             \u001b[0m\u001b[1m N_old                             \u001b[0m\u001b[1m w\u001b[0m ⋯\n",
       "     │\u001b[90m Array…                            \u001b[0m\u001b[90m Array…                            \u001b[0m\u001b[90m A\u001b[0m ⋯\n",
       "─────┼──────────────────────────────────────────────────────────────────────────\n",
       "   1 │ [3.36011, 2.28829, 1.15222, 2.63…  [0.0, 0.0, 1.78722, 6.23172, 2.9…  [ ⋯\n",
       "   2 │ [4.78877, 3.54371, 0.0156405, 2.…  [3.36011, 2.28829, 1.15222, 2.63…  [\n",
       "   3 │ [2.76473, 2.31788, 0.000275987, …  [4.78877, 3.54371, 0.0156405, 2.…  [\n",
       "   4 │ [1.94278, 1.43116, 0.693749, 8.0…  [2.76473, 2.31788, 0.000275987, …  [\n",
       "   5 │ [1.50806, 1.13476, 0.865505, 7.1…  [1.94278, 1.43116, 0.693749, 8.0…  [ ⋯\n",
       "   6 │ [0.649215, 0.384738, 1.30044, 5.…  [1.50806, 1.13476, 0.865505, 7.1…  [\n",
       "   7 │ [0.474216, 0.254974, 1.55889, 6.…  [0.649215, 0.384738, 1.30044, 5.…  [\n",
       "   8 │ [0.16844, 0.0888798, 1.64988, 5.…  [0.474216, 0.254974, 1.55889, 6.…  [\n",
       "  ⋮  │                 ⋮                                  ⋮                    ⋱\n",
       " 114 │ [2.52493e-6, 4.24602e-7, 1.83071…  [2.46303e-6, 4.29274e-7, 1.81849…  [ ⋯\n",
       " 115 │ [2.50629e-6, 4.08938e-7, 1.83224…  [2.52493e-6, 4.24602e-7, 1.83071…  [\n",
       " 116 │ [2.60032e-6, 4.06912e-7, 1.81558…  [2.50629e-6, 4.08938e-7, 1.83224…  [\n",
       " 117 │ [2.71758e-6, 4.14737e-7, 1.81606…  [2.60032e-6, 4.06912e-7, 1.81558…  [\n",
       " 118 │ [2.70858e-6, 4.19744e-7, 1.82839…  [2.71758e-6, 4.14737e-7, 1.81606…  [ ⋯\n",
       " 119 │ [2.71593e-6, 4.28549e-7, 1.83216…  [2.70858e-6, 4.19744e-7, 1.82839…  [\n",
       " 120 │ [2.68363e-6, 4.21394e-7, 1.82357…  [2.71593e-6, 4.28549e-7, 1.83216…  [\n",
       "\u001b[36m                                                  8 columns and 105 rows omitted\u001b[0m"
      ]
     },
     "metadata": {},
     "output_type": "display_data"
    }
   ],
   "source": [
    "previous_price_array = Sₒ\n",
    "μ̂_previous = μ̂\n",
    "N_previous = Nₒ\n",
    "Δt = (1/252);\n",
    "my_results_df = DataFrame();\n",
    "while (isempty(next_market_day_close_queue) == false)\n",
    "    \n",
    "    # what was the market vwap\n",
    "    current_price_array = dequeue!(next_market_day_close_queue); # holds the close price at the end of the trading day\n",
    "    \n",
    "    # compute the return -\n",
    "    asset_return_array = Array{Float64,1}();\n",
    "    for j ∈ eachindex(my_list_of_tickers)\n",
    "        tmp = (1/Δt)*log(current_price_array[j]/previous_price_array[j]);\n",
    "        push!(asset_return_array,tmp);\n",
    "    end\n",
    "    \n",
    "    # update the average return for each asset -\n",
    "    μ̂_new = μ̂_previous .+ α*(asset_return_array .- μ̂_previous);\n",
    "    \n",
    "    # compute new allocation -\n",
    "    problem_risk_sim.μ = μ̂_new;\n",
    "    problem_risk_sim.R = minimum_desired_return;\n",
    "    \n",
    "    # compute -\n",
    "    solution_sim = solve(problem_risk_sim)\n",
    "\n",
    "    # check: did this converge?\n",
    "    w_new = w; # initialize to orginal portfolio -\n",
    "    risk_new = risk; # initialize to orginal portfolio -\n",
    "    status_flag = solution_sim[\"status\"];    \n",
    "    if (status_flag == MathOptInterface.LOCALLY_SOLVED)\n",
    "        w_new = solution_sim[\"argmax\"];\n",
    "        risk_new = sqrt(solution_sim[\"objective_value\"]);\n",
    "    end\n",
    "    \n",
    "    # liqudation value of the portfolio at the close of trading day i\n",
    "    liquidation_value_of_porfolio = dot(N_previous, current_price_array);\n",
    "    \n",
    "    # compute the number of shares for the new allocation -\n",
    "    N_new = Array{Float64,1}()\n",
    "    for i ∈ eachindex(w_new)\n",
    "        wᵢ = w_new[i]\n",
    "        nᵢ = (wᵢ*liquidation_value_of_porfolio)/current_price_array[i];\n",
    "        push!(N_new,nᵢ)\n",
    "    end\n",
    "    \n",
    "    # store data -\n",
    "    results_tuple = (\n",
    "        N_new = N_new,\n",
    "        N_old = N_previous,\n",
    "        w_old = w,\n",
    "        w_new = w_new,\n",
    "        μ_previous = μ̂_previous,\n",
    "        μ_new = μ̂_new,\n",
    "        previous_close = previous_price_array,\n",
    "        current_close = current_price_array,\n",
    "        liquidation_value_of_porfolio = liquidation_value_of_porfolio,\n",
    "        risk = risk_new\n",
    "    );\n",
    "    push!(my_results_df,results_tuple)\n",
    "    \n",
    "    # update values -\n",
    "    μ̂_previous = μ̂_new;\n",
    "    previous_price_array = current_price_array;\n",
    "    N_previous = N_new;\n",
    "end\n",
    "my_results_df"
   ]
  },
  {
   "cell_type": "markdown",
   "id": "9dd8a1bf-315a-44e2-8f22-ae60f66738bd",
   "metadata": {},
   "source": [
    "## Task 3: Visualize and analyze the original and reallocated portfolios\n",
    "`Discussion`: Contrast the performance of the initial portfolio with the reallocated portfolio. Explain to each other what you believe is happening when we reallocate the portfolio\n",
    "* `Hint`: Check out the `share_volume_array` (after the plots), which holds the shares in the reallocated portfolio."
   ]
  },
  {
   "cell_type": "markdown",
   "id": "18476553-71eb-43bd-9dc5-e7a4cd88e238",
   "metadata": {
    "tags": []
   },
   "source": [
    "#### Original case"
   ]
  },
  {
   "cell_type": "code",
   "execution_count": 57,
   "id": "b6701dee-f673-46eb-a3df-14326d0fe1b5",
   "metadata": {
    "jupyter": {
     "source_hidden": true
    },
    "tags": []
   },
   "outputs": [],
   "source": [
    "portfolio_performance_array_original = Array{Float64,2}(undef, number_of_trading_days, length(w)+2)\n",
    "for i ∈ eachindex(my_list_of_tickers)\n",
    "    \n",
    "    ticker = my_list_of_tickers[i];\n",
    "    price_df = dataset[ticker];\n",
    "    ticker_data = filter(:timestamp => x-> x >= startdate, price_df)\n",
    "    nᵢ = Nₒ[i]\n",
    "    \n",
    "    for j ∈ 1:number_of_trading_days\n",
    "        portfolio_performance_array_original[j,i] = nᵢ*ticker_data[j+1,:close];\n",
    "    end\n",
    "end\n",
    "\n",
    "# total -\n",
    "for i ∈ 1:number_of_trading_days\n",
    "    portfolio_performance_array_original[i,end] = sum(portfolio_performance_array_original[i,1:end-2])\n",
    "end\n",
    "\n",
    "# compute the risk -\n",
    "for i ∈ 1:number_of_trading_days\n",
    "    data = portfolio_performance_array_original[i,1:end-2];\n",
    "    total = portfolio_performance_array_original[i,end];\n",
    "    w = (1/total)*data;\n",
    "    portfolio_performance_array_original[i,end-1] = transpose(w)*Σ̂*w |> sqrt\n",
    "end"
   ]
  },
  {
   "cell_type": "code",
   "execution_count": 58,
   "id": "15c8dba0-14dd-46fb-9041-4c943e31e8ad",
   "metadata": {
    "tags": []
   },
   "outputs": [
    {
     "name": "stdout",
     "output_type": "stream",
     "text": [
      "┌───────┬─────┬──────┬─────────┬─────────┬─────────┬─────────┬─────────────┬───────────┐\n",
      "│\u001b[1m index \u001b[0m│\u001b[1m AMD \u001b[0m│\u001b[1m NVDA \u001b[0m│\u001b[1m    MSFT \u001b[0m│\u001b[1m    INTC \u001b[0m│\u001b[1m    GOOG \u001b[0m│\u001b[1m    AMZN \u001b[0m│\u001b[1m risk (sqrt) \u001b[0m│\u001b[1m total USD \u001b[0m│\n",
      "├───────┼─────┼──────┼─────────┼─────────┼─────────┼─────────┼─────────────┼───────────┤\n",
      "│   1.0 │ 0.0 │  0.0 │ 409.451 │ 172.494 │   260.6 │ 140.615 │    0.206366 │    983.16 │\n",
      "│   2.0 │ 0.0 │  0.0 │ 397.316 │ 171.746 │ 254.901 │ 137.279 │    0.206379 │   961.242 │\n",
      "│   3.0 │ 0.0 │  0.0 │ 401.998 │ 179.037 │ 258.984 │ 142.167 │    0.206399 │   982.187 │\n",
      "│   4.0 │ 0.0 │  0.0 │ 405.912 │ 182.652 │ 260.864 │ 144.281 │    0.206408 │    993.71 │\n",
      "│   5.0 │ 0.0 │  0.0 │ 409.004 │ 183.462 │ 262.157 │ 148.427 │    0.206408 │   1003.05 │\n",
      "│   6.0 │ 0.0 │  0.0 │ 421.372 │ 186.017 │ 271.028 │ 157.048 │    0.206401 │   1035.47 │\n",
      "│   7.0 │ 0.0 │  0.0 │ 426.269 │ 188.759 │   270.0 │ 157.345 │    0.206404 │   1042.37 │\n",
      "│   8.0 │ 0.0 │  0.0 │ 427.555 │ 187.637 │ 272.615 │ 162.052 │    0.206405 │   1049.86 │\n",
      "│   9.0 │ 0.0 │  0.0 │ 429.557 │ 184.459 │ 270.735 │ 158.634 │    0.206387 │   1043.38 │\n",
      "│  10.0 │ 0.0 │  0.0 │ 421.443 │ 179.536 │ 269.618 │ 157.659 │    0.206384 │   1028.26 │\n",
      "│  11.0 │ 0.0 │  0.0 │ 414.509 │ 177.106 │ 275.876 │ 154.719 │    0.206384 │   1022.21 │\n",
      "│  12.0 │ 0.0 │  0.0 │ 429.325 │ 182.091 │ 291.651 │ 160.615 │    0.206387 │   1063.68 │\n",
      "│  13.0 │ 0.0 │  0.0 │ 433.543 │ 188.634 │  297.32 │ 161.061 │    0.206396 │   1080.56 │\n",
      "│  14.0 │ 0.0 │  0.0 │ 432.578 │ 186.453 │ 291.445 │  159.08 │    0.206386 │   1069.56 │\n",
      "│  15.0 │ 0.0 │  0.0 │ 430.022 │ 185.082 │  284.16 │   160.5 │    0.206386 │   1059.76 │\n",
      "│  16.0 │ 0.0 │  0.0 │ 443.229 │ 187.513 │ 291.298 │ 163.869 │    0.206377 │   1085.91 │\n",
      "│  17.0 │ 0.0 │  0.0 │ 443.515 │ 175.485 │ 295.852 │ 168.857 │    0.206387 │   1083.71 │\n",
      "│  18.0 │ 0.0 │  0.0 │ 433.775 │ 174.177 │ 287.744 │ 166.066 │    0.206386 │   1061.76 │\n",
      "│  19.0 │ 0.0 │  0.0 │  442.89 │ 176.109 │ 293.384 │ 170.327 │     0.20639 │   1082.71 │\n",
      "│  20.0 │ 0.0 │  0.0 │ 451.719 │ 181.156 │ 297.967 │ 173.663 │    0.206388 │    1104.5 │\n",
      "│  21.0 │ 0.0 │  0.0 │ 472.897 │ 188.136 │ 319.617 │ 186.479 │     0.20641 │   1167.13 │\n",
      "│  22.0 │ 0.0 │  0.0 │ 461.727 │ 188.946 │   309.1 │ 170.756 │    0.206374 │   1130.53 │\n",
      "│  23.0 │ 0.0 │  0.0 │ 458.903 │ 178.788 │  303.96 │ 168.758 │    0.206373 │   1110.41 │\n",
      "│  24.0 │ 0.0 │  0.0 │ 478.187 │ 181.032 │ 317.385 │ 168.642 │    0.206372 │   1145.25 │\n",
      "│  25.0 │ 0.0 │  0.0 │ 476.704 │ 175.984 │ 293.766 │  165.24 │    0.206365 │   1111.69 │\n",
      "│  26.0 │ 0.0 │  0.0 │ 471.146 │ 172.806 │ 280.429 │ 162.251 │    0.206372 │   1086.63 │\n",
      "│  27.0 │ 0.0 │  0.0 │ 470.216 │ 173.242 │ 278.666 │  161.21 │    0.206372 │   1083.33 │\n",
      "│  28.0 │ 0.0 │  0.0 │ 484.907 │ 177.916 │ 279.078 │ 164.398 │    0.206383 │    1106.3 │\n",
      "│  29.0 │ 0.0 │  0.0 │ 486.426 │ 178.477 │ 278.931 │ 164.662 │    0.206385 │    1108.5 │\n",
      "│  30.0 │ 0.0 │  0.0 │ 481.333 │ 179.785 │ 285.247 │ 167.073 │    0.206371 │   1113.44 │\n",
      "│  31.0 │ 0.0 │  0.0 │ 468.518 │ 175.735 │ 281.369 │ 162.102 │    0.206365 │   1087.72 │\n",
      "│  32.0 │ 0.0 │  0.0 │ 461.209 │ 172.058 │ 277.873 │ 160.533 │    0.206366 │   1071.67 │\n",
      "│  33.0 │ 0.0 │  0.0 │ 451.576 │ 162.399 │ 270.411 │ 156.206 │    0.206379 │   1040.59 │\n",
      "│  34.0 │ 0.0 │  0.0 │ 449.502 │ 158.722 │ 269.677 │ 158.204 │    0.206393 │   1036.11 │\n",
      "│  35.0 │ 0.0 │  0.0 │ 455.329 │ 159.594 │ 267.533 │ 158.254 │    0.206399 │   1040.71 │\n",
      "│  36.0 │ 0.0 │  0.0 │  445.41 │ 156.666 │  262.48 │ 154.422 │    0.206396 │   1018.98 │\n",
      "│  37.0 │ 0.0 │  0.0 │  447.09 │  155.17 │ 264.683 │ 154.851 │    0.206402 │   1021.79 │\n",
      "│  38.0 │ 0.0 │  0.0 │ 445.767 │ 155.357 │ 265.271 │ 155.628 │      0.2064 │   1022.02 │\n",
      "│  39.0 │ 0.0 │  0.0 │ 440.137 │  157.85 │ 265.888 │ 152.225 │    0.206379 │    1016.1 │\n",
      "│  40.0 │ 0.0 │  0.0 │ 448.788 │ 163.271 │ 271.175 │ 152.159 │    0.206369 │   1035.39 │\n",
      "│  41.0 │ 0.0 │  0.0 │ 456.258 │ 164.518 │ 276.199 │ 156.734 │    0.206375 │   1053.71 │\n",
      "│  42.0 │ 0.0 │  0.0 │ 459.082 │ 161.963 │ 280.781 │ 154.835 │    0.206382 │   1056.66 │\n",
      "│  43.0 │ 0.0 │  0.0 │ 454.221 │ 159.096 │ 276.639 │ 154.505 │    0.206387 │   1044.46 │\n",
      "│  44.0 │ 0.0 │  0.0 │ 453.416 │   161.9 │ 278.049 │ 155.116 │    0.206377 │   1048.48 │\n",
      "│  45.0 │ 0.0 │  0.0 │  450.95 │ 164.767 │ 272.203 │ 152.358 │    0.206367 │   1040.28 │\n",
      "│  46.0 │ 0.0 │  0.0 │ 444.284 │ 169.628 │ 267.356 │ 149.847 │    0.206358 │   1031.11 │\n",
      "│  47.0 │ 0.0 │  0.0 │  453.81 │ 167.945 │ 269.266 │ 152.655 │    0.206367 │   1043.68 │\n",
      "│  48.0 │ 0.0 │  0.0 │ 466.088 │ 174.551 │ 276.874 │ 156.701 │    0.206364 │   1074.21 │\n",
      "│  49.0 │ 0.0 │  0.0 │ 474.398 │ 177.043 │ 283.631 │ 158.881 │    0.206363 │   1093.95 │\n",
      "│  50.0 │ 0.0 │  0.0 │ 493.629 │ 188.073 │ 296.909 │ 165.223 │    0.206358 │   1143.83 │\n",
      "│  51.0 │ 0.0 │  0.0 │ 499.402 │ 185.768 │ 300.993 │ 163.423 │    0.206362 │   1149.58 │\n",
      "│  52.0 │ 0.0 │  0.0 │ 486.534 │ 181.717 │ 299.436 │ 161.375 │    0.206358 │   1129.06 │\n",
      "│  53.0 │ 0.0 │  0.0 │ 489.304 │ 177.355 │ 310.922 │ 166.165 │    0.206372 │   1143.75 │\n",
      "│  54.0 │ 0.0 │  0.0 │ 486.641 │ 175.298 │ 306.163 │  163.01 │    0.206372 │   1131.11 │\n",
      "│  55.0 │ 0.0 │  0.0 │ 496.238 │ 180.907 │ 312.156 │ 163.027 │    0.206367 │   1152.33 │\n",
      "│  56.0 │ 0.0 │  0.0 │ 501.439 │ 182.963 │ 311.568 │ 162.069 │    0.206367 │   1158.04 │\n",
      "│  57.0 │ 0.0 │  0.0 │ 493.951 │ 181.842 │ 302.755 │  161.92 │    0.206363 │   1140.47 │\n",
      "│  58.0 │ 0.0 │  0.0 │ 491.895 │ 182.527 │ 297.761 │ 160.599 │    0.206362 │   1132.78 │\n",
      "│  59.0 │ 0.0 │  0.0 │ 501.332 │ 196.424 │ 299.347 │  165.57 │    0.206361 │   1162.67 │\n",
      "│  60.0 │ 0.0 │  0.0 │ 507.658 │ 199.976 │ 297.644 │  168.46 │    0.206369 │   1173.74 │\n",
      "│  61.0 │ 0.0 │  0.0 │ 515.254 │  203.59 │ 305.517 │ 170.591 │    0.206365 │   1194.95 │\n",
      "│  62.0 │ 0.0 │  0.0 │ 513.342 │ 204.961 │  308.19 │ 169.138 │    0.206362 │   1195.63 │\n",
      "│  63.0 │ 0.0 │  0.0 │ 513.252 │  206.27 │ 308.807 │ 171.681 │    0.206362 │   1200.01 │\n",
      "│  64.0 │ 0.0 │  0.0 │ 508.177 │ 204.588 │ 308.307 │ 166.974 │    0.206361 │   1188.05 │\n",
      "│  65.0 │ 0.0 │  0.0 │ 521.152 │ 204.463 │ 319.911 │  168.56 │    0.206357 │   1214.09 │\n",
      "│  66.0 │ 0.0 │  0.0 │ 517.202 │ 202.656 │ 314.183 │ 168.741 │    0.206357 │   1202.78 │\n",
      "│  67.0 │ 0.0 │  0.0 │ 505.478 │ 201.596 │ 311.744 │ 165.025 │    0.206357 │   1183.84 │\n",
      "│  68.0 │ 0.0 │  0.0 │ 506.658 │  199.54 │   309.1 │ 161.573 │    0.206361 │   1176.87 │\n",
      "│  69.0 │ 0.0 │  0.0 │ 518.006 │ 200.225 │ 317.825 │ 169.121 │    0.206355 │   1205.18 │\n",
      "│  70.0 │ 0.0 │  0.0 │ 511.394 │  198.73 │ 321.556 │ 169.303 │    0.206352 │   1200.98 │\n",
      "│  71.0 │ 0.0 │  0.0 │ 516.148 │ 200.288 │ 312.626 │ 169.683 │    0.206356 │   1198.74 │\n",
      "│  72.0 │ 0.0 │  0.0 │ 515.379 │ 198.356 │ 308.807 │ 168.956 │    0.206359 │    1191.5 │\n",
      "│  73.0 │ 0.0 │  0.0 │ 515.522 │ 194.118 │ 308.513 │ 172.259 │    0.206361 │   1190.41 │\n",
      "│  74.0 │ 0.0 │  0.0 │  511.34 │ 192.311 │ 311.098 │  171.45 │    0.206358 │    1186.2 │\n",
      "│  75.0 │ 0.0 │  0.0 │ 510.715 │ 188.821 │ 311.127 │ 176.652 │    0.206365 │   1187.32 │\n",
      "│  76.0 │ 0.0 │  0.0 │ 503.584 │ 184.833 │ 313.683 │ 175.414 │    0.206368 │   1177.51 │\n",
      "│  77.0 │ 0.0 │  0.0 │ 492.235 │ 179.972 │ 307.308 │ 169.402 │    0.206367 │   1148.92 │\n",
      "│  78.0 │ 0.0 │  0.0 │  527.89 │ 181.032 │ 306.838 │ 173.382 │    0.206405 │   1189.14 │\n",
      "│  79.0 │ 0.0 │  0.0 │ 544.797 │ 186.079 │ 318.354 │ 181.376 │    0.206407 │   1230.61 │\n",
      "│  80.0 │ 0.0 │  0.0 │  549.14 │ 193.557 │ 317.913 │ 174.158 │    0.206393 │   1234.77 │\n",
      "│  81.0 │ 0.0 │  0.0 │ 546.101 │ 188.821 │ 316.415 │ 168.543 │    0.206406 │   1219.88 │\n",
      "│  82.0 │ 0.0 │  0.0 │ 545.833 │ 185.518 │ 311.333 │ 171.153 │    0.206419 │   1213.84 │\n",
      "│  83.0 │ 0.0 │  0.0 │ 544.028 │ 191.002 │ 311.744 │ 171.186 │      0.2064 │   1217.96 │\n",
      "│  84.0 │ 0.0 │  0.0 │ 545.833 │ 194.679 │ 309.071 │ 171.764 │    0.206399 │   1221.35 │\n",
      "│  85.0 │ 0.0 │  0.0 │ 555.198 │ 193.121 │ 312.023 │ 174.497 │    0.206413 │   1234.84 │\n",
      "│  86.0 │ 0.0 │  0.0 │ 551.624 │  191.75 │ 317.972 │ 174.786 │    0.206401 │   1236.13 │\n",
      "│  87.0 │ 0.0 │  0.0 │ 548.675 │ 187.575 │ 317.091 │ 176.091 │    0.206409 │   1229.43 │\n",
      "│  88.0 │ 0.0 │  0.0 │ 558.165 │ 186.765 │  329.84 │ 181.987 │    0.206418 │   1256.76 │\n",
      "│  89.0 │ 0.0 │  0.0 │ 554.233 │ 179.848 │ 343.412 │ 185.273 │    0.206446 │   1262.77 │\n",
      "│  90.0 │ 0.0 │  0.0 │ 552.196 │ 180.408 │ 346.409 │ 182.102 │    0.206442 │   1261.12 │\n",
      "│  91.0 │ 0.0 │  0.0 │ 553.072 │ 185.705 │ 343.589 │ 183.655 │    0.206416 │   1266.02 │\n",
      "│  92.0 │ 0.0 │  0.0 │ 557.146 │ 182.091 │ 352.783 │ 187.288 │    0.206445 │   1279.31 │\n",
      "│  93.0 │ 0.0 │  0.0 │ 561.186 │  179.91 │ 356.867 │ 190.757 │    0.206468 │   1288.72 │\n",
      "│  94.0 │ 0.0 │  0.0 │ 569.264 │ 184.958 │  362.86 │ 195.133 │    0.206456 │   1312.21 │\n",
      "│  95.0 │ 0.0 │  0.0 │ 568.942 │ 186.516 │ 362.066 │ 191.995 │    0.206445 │   1309.52 │\n",
      "│  96.0 │ 0.0 │  0.0 │ 574.018 │ 188.697 │ 369.763 │ 189.947 │    0.206446 │   1322.42 │\n",
      "│  97.0 │ 0.0 │  0.0 │ 563.437 │ 183.898 │ 362.184 │ 189.914 │    0.206453 │   1299.43 │\n",
      "│  98.0 │ 0.0 │  0.0 │ 560.917 │  180.72 │ 357.337 │ 192.821 │    0.206465 │    1291.8 │\n",
      "│  99.0 │ 0.0 │  0.0 │ 582.489 │ 170.749 │ 365.298 │ 189.931 │    0.206566 │   1308.47 │\n",
      "│ 100.0 │ 0.0 │  0.0 │ 594.946 │  180.72 │ 368.471 │  198.37 │    0.206518 │   1342.51 │\n",
      "│ 101.0 │ 0.0 │  0.0 │ 591.944 │ 186.889 │  366.15 │  200.93 │    0.206476 │   1345.91 │\n",
      "│ 102.0 │ 0.0 │  0.0 │ 586.904 │ 195.925 │ 362.419 │ 199.147 │    0.206422 │   1344.39 │\n",
      "│ 103.0 │ 0.0 │  0.0 │ 594.392 │ 193.994 │ 365.357 │ 202.764 │    0.206443 │   1356.51 │\n",
      "│ 104.0 │ 0.0 │  0.0 │ 599.432 │ 195.115 │ 367.883 │ 205.208 │    0.206446 │   1367.64 │\n",
      "│ 105.0 │ 0.0 │  0.0 │ 600.397 │ 186.079 │ 371.996 │ 206.942 │    0.206501 │   1365.41 │\n",
      "│ 106.0 │ 0.0 │  0.0 │ 596.358 │ 192.934 │ 375.756 │ 209.106 │    0.206463 │   1374.15 │\n",
      "│ 107.0 │ 0.0 │  0.0 │  577.95 │ 194.928 │ 361.156 │  200.22 │    0.206419 │   1334.25 │\n",
      "│ 108.0 │ 0.0 │  0.0 │  581.31 │ 198.293 │ 360.363 │ 205.208 │    0.206415 │   1345.17 │\n",
      "│ 109.0 │ 0.0 │  0.0 │ 584.044 │ 195.302 │  360.95 │ 203.854 │    0.206427 │   1344.15 │\n",
      "│ 110.0 │ 0.0 │  0.0 │ 593.087 │ 206.083 │ 365.298 │  209.04 │    0.206401 │   1373.51 │\n",
      "│ 111.0 │ 0.0 │  0.0 │ 597.448 │ 211.318 │ 365.533 │ 209.188 │    0.206388 │   1383.49 │\n",
      "│ 112.0 │ 0.0 │  0.0 │ 602.899 │ 221.725 │ 365.386 │ 208.792 │    0.206368 │    1398.8 │\n",
      "│ 113.0 │ 0.0 │  0.0 │  622.13 │  223.22 │ 369.528 │ 209.931 │    0.206378 │   1424.81 │\n",
      "│ 114.0 │ 0.0 │  0.0 │ 611.817 │ 226.648 │ 364.446 │ 207.256 │    0.206367 │   1410.17 │\n",
      "│ 115.0 │ 0.0 │  0.0 │ 604.168 │  218.11 │ 363.829 │ 207.735 │    0.206375 │   1393.84 │\n",
      "│ 116.0 │ 0.0 │  0.0 │ 596.143 │ 205.024 │ 356.221 │ 206.166 │    0.206405 │   1363.55 │\n",
      "│ 117.0 │ 0.0 │  0.0 │ 607.135 │  203.84 │ 363.888 │ 214.952 │    0.206431 │   1389.81 │\n",
      "│ 118.0 │ 0.0 │  0.0 │ 598.753 │ 205.647 │ 361.391 │ 213.598 │    0.206416 │   1379.39 │\n",
      "│ 119.0 │ 0.0 │  0.0 │ 587.279 │ 207.766 │ 349.846 │ 210.295 │    0.206401 │   1355.19 │\n",
      "│ 120.0 │ 0.0 │  0.0 │ 597.949 │ 212.502 │ 349.611 │  213.35 │    0.206404 │   1373.41 │\n",
      "└───────┴─────┴──────┴─────────┴─────────┴─────────┴─────────┴─────────────┴───────────┘\n"
     ]
    }
   ],
   "source": [
    "orignal_table_data = Array{Float64,2}(undef, number_of_trading_days, length(w)+3)\n",
    "for i ∈ 1:number_of_trading_days\n",
    "    orignal_table_data[i,1] = i\n",
    "    for j ∈ eachindex(my_list_of_tickers)\n",
    "        orignal_table_data[i,1+j] = portfolio_performance_array_original[i,j];\n",
    "    end\n",
    "    orignal_table_data[i,end-1] = portfolio_performance_array_original[i,end-1]\n",
    "    orignal_table_data[i,end] = portfolio_performance_array_original[i,end]\n",
    "end\n",
    "\n",
    "pretty_table(orignal_table_data, header=[\"index\",my_list_of_tickers...,\"risk (sqrt)\",\"total USD\"])"
   ]
  },
  {
   "cell_type": "markdown",
   "id": "b28aca28-65f8-4356-9f7b-536a8807633a",
   "metadata": {},
   "source": [
    "#### Reallocated case"
   ]
  },
  {
   "cell_type": "code",
   "execution_count": 59,
   "id": "8fc39ad5-9ed6-4632-990a-a8834d8fdf73",
   "metadata": {
    "jupyter": {
     "source_hidden": true
    },
    "tags": []
   },
   "outputs": [],
   "source": [
    "portfolio_performance_array_reallocate = Array{Float64,2}(undef, number_of_trading_days, length(w)+2)\n",
    "\n",
    "# values for each asset -\n",
    "for i ∈ 1:(number_of_trading_days)\n",
    "    \n",
    "    risk_new = my_results_df[i,:risk]\n",
    "    N_new = my_results_df[i,:N_new]\n",
    "    new_price = my_results_df[i,:current_close]\n",
    "    \n",
    "    for j ∈ eachindex(my_list_of_tickers)\n",
    "        portfolio_performance_array_reallocate[i,j] = N_new[j]*new_price[j] |> x-> round(x, digits=3) |> abs\n",
    "    end\n",
    "    \n",
    "    # compute the risk -\n",
    "    portfolio_performance_array_reallocate[i,end-1] = risk_new\n",
    "end\n",
    "\n",
    "# total -\n",
    "for i ∈ 1:number_of_trading_days\n",
    "    portfolio_performance_array_reallocate[i,end] = sum(portfolio_performance_array_reallocate[i,1:end-2])\n",
    "end\n",
    "\n",
    "# compute the initial risk -\n",
    "total = portfolio_performance_array_reallocate[1,end];\n",
    "data = portfolio_performance_array_reallocate[1,1:end-2];\n",
    "w = (1/total)*data\n",
    "portfolio_performance_array_reallocate[1,end-1] = transpose(w)*Σ̂*w |> sqrt;"
   ]
  },
  {
   "cell_type": "code",
   "execution_count": 60,
   "id": "72fd0eb7-ecbc-4ce4-9b1a-0601ea7b6ce4",
   "metadata": {
    "tags": []
   },
   "outputs": [
    {
     "name": "stdout",
     "output_type": "stream",
     "text": [
      "┌───────┬─────────┬─────────┬─────────┬─────────┬─────────┬─────────┬─────────────┬───────────┐\n",
      "│\u001b[1m   day \u001b[0m│\u001b[1m     AMD \u001b[0m│\u001b[1m    NVDA \u001b[0m│\u001b[1m    MSFT \u001b[0m│\u001b[1m    INTC \u001b[0m│\u001b[1m    GOOG \u001b[0m│\u001b[1m    AMZN \u001b[0m│\u001b[1m risk (sqrt) \u001b[0m│\u001b[1m total USD \u001b[0m│\n",
      "├───────┼─────────┼─────────┼─────────┼─────────┼─────────┼─────────┼─────────────┼───────────┤\n",
      "│   1.0 │ 217.265 │   337.5 │ 263.973 │   0.001 │ 108.627 │  55.793 │    0.275606 │   983.159 │\n",
      "│   2.0 │ 298.484 │  505.51 │   3.477 │  72.633 │   64.02 │   8.609 │    0.331488 │   952.733 │\n",
      "│   3.0 │ 176.832 │ 344.414 │   0.062 │ 239.621 │  68.188 │ 156.927 │    0.274531 │   986.044 │\n",
      "│   4.0 │ 130.632 │ 223.661 │ 157.564 │ 236.001 │ 113.556 │ 159.188 │    0.242323 │    1020.6 │\n",
      "│   5.0 │ 102.624 │ 180.529 │ 198.071 │ 211.464 │ 118.223 │ 222.671 │    0.232873 │   1033.58 │\n",
      "│   6.0 │  44.835 │  61.562 │ 306.606 │ 175.139 │ 206.851 │ 267.026 │     0.21449 │   1062.02 │\n",
      "│   7.0 │  33.574 │  42.099 │ 371.812 │ 190.635 │ 200.079 │ 232.776 │    0.211265 │   1070.98 │\n",
      "│   8.0 │  11.959 │   15.02 │   394.7 │  177.28 │  238.91 │ 243.082 │    0.208565 │   1080.95 │\n",
      "│   9.0 │   17.21 │  50.593 │ 407.818 │ 157.915 │  220.52 │ 219.776 │    0.210517 │   1073.83 │\n",
      "│  10.0 │  34.406 │  94.661 │ 347.609 │  121.99 │ 212.615 │ 247.191 │    0.215925 │   1058.47 │\n",
      "│  11.0 │  33.318 │ 130.195 │  239.75 │  82.275 │ 312.112 │ 249.067 │    0.221311 │   1046.72 │\n",
      "│  12.0 │     0.0 │     0.0 │ 440.253 │ 168.714 │ 312.322 │ 173.153 │    0.206447 │   1094.44 │\n",
      "│  13.0 │     0.0 │     0.0 │ 470.934 │ 184.731 │ 296.165 │ 159.553 │    0.206351 │   1111.38 │\n",
      "│  14.0 │     0.0 │     0.0 │ 466.266 │   182.9 │ 293.239 │ 157.977 │    0.206351 │   1100.38 │\n",
      "│  15.0 │   2.489 │   22.36 │ 408.484 │ 161.264 │ 300.615 │ 195.152 │    0.207807 │   1090.36 │\n",
      "│  16.0 │     0.0 │     0.0 │ 473.415 │ 185.704 │ 297.725 │ 160.394 │    0.206351 │   1117.24 │\n",
      "│  17.0 │     0.0 │     0.0 │ 472.537 │  185.36 │ 297.174 │ 160.097 │    0.206351 │   1115.17 │\n",
      "│  18.0 │   0.001 │   6.744 │   429.7 │ 121.214 │ 317.416 │ 217.542 │    0.207554 │   1092.62 │\n",
      "│  19.0 │     0.0 │     0.0 │ 472.435 │  185.32 │  297.11 │ 160.062 │    0.206351 │   1114.93 │\n",
      "│  20.0 │     0.0 │     0.0 │ 481.971 │ 189.061 │ 303.107 │ 163.293 │    0.206351 │   1137.43 │\n",
      "│  21.0 │     0.0 │     0.0 │ 509.072 │ 199.691 │  320.15 │ 172.475 │    0.206351 │   1201.39 │\n",
      "│  22.0 │     0.0 │     0.0 │ 493.715 │ 193.668 │ 310.492 │ 167.272 │    0.206351 │   1165.15 │\n",
      "│  23.0 │     0.0 │     0.0 │ 485.006 │ 190.251 │ 305.015 │ 164.321 │    0.206351 │   1144.59 │\n",
      "│  24.0 │     0.0 │     0.0 │ 500.315 │ 196.256 │ 314.643 │ 169.508 │    0.206351 │   1180.72 │\n",
      "│  25.0 │     0.0 │     0.0 │ 485.968 │ 190.628 │  305.62 │ 164.647 │    0.206351 │   1146.86 │\n",
      "│  26.0 │     0.0 │     0.0 │ 478.677 │ 183.223 │ 297.041 │ 161.958 │    0.206353 │    1120.9 │\n",
      "│  27.0 │     0.0 │     0.0 │ 510.157 │ 157.775 │ 280.151 │  169.43 │     0.20652 │   1117.51 │\n",
      "│  28.0 │     0.0 │     0.0 │ 483.684 │ 189.732 │ 304.183 │ 163.873 │    0.206351 │   1141.47 │\n",
      "│  29.0 │     0.0 │     0.0 │ 484.623 │ 190.101 │ 304.774 │ 164.191 │    0.206351 │   1143.69 │\n",
      "│  30.0 │     0.0 │     0.0 │ 487.006 │ 191.036 │ 306.273 │ 164.999 │    0.206351 │   1149.31 │\n",
      "│  31.0 │   0.001 │   0.006 │ 526.622 │ 144.176 │ 275.196 │ 176.971 │    0.206715 │   1122.97 │\n",
      "│  32.0 │   2.656 │  39.009 │ 528.872 │ 107.862 │ 248.019 │ 180.188 │    0.209328 │   1106.61 │\n",
      "│  33.0 │   21.63 │  90.133 │ 545.722 │  32.346 │ 208.529 │ 178.232 │    0.215961 │   1076.59 │\n",
      "│  34.0 │  20.162 │  89.456 │ 540.069 │   15.85 │ 212.854 │ 197.065 │    0.216512 │   1075.46 │\n",
      "│  35.0 │    7.95 │  79.589 │ 534.653 │  71.113 │ 219.849 │ 181.128 │    0.213199 │   1094.28 │\n",
      "│  36.0 │  16.777 │ 117.686 │ 526.095 │  42.887 │ 193.519 │  174.39 │     0.21781 │   1071.35 │\n",
      "│  37.0 │  15.879 │ 110.446 │  527.35 │  39.166 │ 209.206 │ 174.224 │    0.217056 │   1076.27 │\n",
      "│  38.0 │  17.805 │ 113.878 │ 521.728 │  33.042 │ 208.608 │ 179.657 │    0.217655 │   1074.72 │\n",
      "│  39.0 │  28.739 │ 140.093 │ 501.691 │  27.055 │ 205.052 │  159.98 │    0.220841 │   1062.61 │\n",
      "│  40.0 │  22.869 │ 112.776 │ 509.867 │  66.338 │ 226.538 │ 143.612 │     0.21644 │    1082.0 │\n",
      "│  41.0 │   10.91 │  79.374 │ 514.889 │  84.335 │ 250.425 │ 162.667 │    0.212581 │    1102.6 │\n",
      "│  42.0 │   9.083 │  71.582 │ 526.155 │  71.313 │  276.36 │ 151.004 │    0.212226 │    1105.5 │\n",
      "│  43.0 │  21.922 │   89.19 │ 521.714 │  48.167 │ 258.312 │ 154.257 │    0.214744 │   1093.56 │\n",
      "│  44.0 │  25.725 │   84.66 │ 501.969 │  71.844 │ 261.839 │ 153.668 │    0.213774 │    1099.7 │\n",
      "│  45.0 │  36.938 │ 109.941 │ 507.939 │  71.532 │ 222.087 │ 138.561 │    0.216708 │    1087.0 │\n",
      "│  46.0 │  48.899 │  143.58 │ 487.556 │  92.563 │ 179.024 │ 120.931 │     0.22063 │   1072.55 │\n",
      "│  47.0 │  33.929 │ 117.344 │ 527.518 │  80.602 │ 187.976 │ 137.881 │    0.217411 │   1085.25 │\n",
      "│  48.0 │  20.851 │  54.957 │ 526.087 │ 129.742 │ 236.918 │ 150.959 │    0.210557 │   1119.51 │\n",
      "│  49.0 │   9.763 │  17.197 │ 533.588 │ 147.551 │ 273.113 │ 158.325 │    0.207722 │   1139.54 │\n",
      "│  50.0 │     0.0 │     0.0 │ 504.734 │  197.99 │ 317.422 │ 171.005 │    0.206351 │   1191.15 │\n",
      "│  51.0 │   0.001 │     0.0 │ 507.267 │ 198.983 │ 319.014 │ 171.863 │    0.206351 │   1197.13 │\n",
      "│  52.0 │     0.0 │     0.0 │ 498.278 │ 195.457 │ 313.362 │ 168.817 │    0.206351 │   1175.91 │\n",
      "│  53.0 │     0.0 │     0.0 │ 504.709 │  197.98 │ 317.406 │ 170.996 │    0.206351 │   1191.09 │\n",
      "│  54.0 │     0.0 │     0.0 │ 499.138 │ 195.795 │ 313.902 │ 169.109 │    0.206351 │   1177.94 │\n",
      "│  55.0 │     0.0 │     0.0 │ 508.574 │ 199.496 │ 319.837 │ 172.306 │    0.206351 │   1200.21 │\n",
      "│  56.0 │     0.0 │     0.0 │  511.11 │ 200.491 │ 321.431 │ 173.165 │    0.206351 │    1206.2 │\n",
      "│  57.0 │     0.0 │     0.0 │ 503.435 │  197.48 │ 316.605 │ 170.564 │    0.206351 │   1188.08 │\n",
      "│  58.0 │     0.0 │     0.0 │  500.06 │ 196.156 │ 314.482 │ 169.421 │    0.206351 │   1180.12 │\n",
      "│  59.0 │     0.0 │     0.0 │ 513.385 │ 201.383 │ 322.862 │ 173.936 │    0.206351 │   1211.57 │\n",
      "│  60.0 │     0.0 │     0.0 │ 518.181 │ 203.265 │ 325.879 │ 175.561 │    0.206351 │   1222.89 │\n",
      "│  61.0 │     0.0 │     0.0 │ 527.617 │ 206.966 │ 331.812 │ 178.757 │    0.206351 │   1245.15 │\n",
      "│  62.0 │     0.0 │     0.0 │ 527.962 │ 207.102 │  332.03 │ 178.875 │    0.206351 │   1245.97 │\n",
      "│  63.0 │     0.0 │     0.0 │ 529.905 │ 207.864 │ 333.252 │ 179.533 │    0.206351 │   1250.55 │\n",
      "│  64.0 │     0.0 │     0.0 │ 524.652 │ 205.803 │ 329.948 │ 177.753 │    0.206351 │   1238.16 │\n",
      "│  65.0 │     0.0 │     0.0 │ 536.253 │ 210.353 │ 337.243 │ 181.683 │    0.206351 │   1265.53 │\n",
      "│  66.0 │     0.0 │     0.0 │ 531.267 │ 208.398 │ 334.108 │ 179.994 │    0.206351 │   1253.77 │\n",
      "│  67.0 │     0.0 │     0.0 │ 522.924 │ 205.125 │ 328.861 │ 177.167 │    0.206351 │   1234.08 │\n",
      "│  68.0 │     0.0 │     0.0 │ 519.802 │   203.9 │ 326.898 │  176.11 │    0.206351 │   1226.71 │\n",
      "│  69.0 │     0.0 │     0.0 │ 532.428 │ 208.853 │ 334.838 │ 180.388 │    0.206351 │   1256.51 │\n",
      "│  70.0 │     0.0 │     0.0 │ 530.635 │  208.15 │ 333.711 │  179.78 │    0.206351 │   1252.28 │\n",
      "│  71.0 │     0.0 │     0.0 │  529.66 │ 207.768 │ 333.098 │  179.45 │    0.206351 │   1249.98 │\n",
      "│  72.0 │     0.0 │     0.0 │ 526.427 │ 206.499 │ 331.064 │ 178.354 │    0.206351 │   1242.34 │\n",
      "│  73.0 │     0.0 │     0.0 │ 525.964 │ 206.317 │ 330.773 │ 178.197 │    0.206351 │   1241.25 │\n",
      "│  74.0 │     0.0 │     0.0 │ 524.162 │ 205.611 │  329.64 │ 177.587 │    0.206351 │    1237.0 │\n",
      "│  75.0 │     0.0 │     0.0 │ 524.605 │ 205.785 │ 329.919 │ 177.737 │    0.206351 │   1238.05 │\n",
      "│  76.0 │     0.0 │     0.0 │  520.28 │ 204.088 │ 327.199 │ 176.272 │    0.206351 │   1227.84 │\n",
      "│  77.0 │     0.0 │   7.821 │ 534.828 │ 136.977 │ 334.793 │ 183.637 │     0.20709 │   1198.06 │\n",
      "│  78.0 │     0.0 │     0.0 │ 526.119 │ 206.378 │  330.87 │  178.25 │    0.206351 │   1241.62 │\n",
      "│  79.0 │     0.0 │     0.0 │ 544.441 │ 213.566 │ 342.393 │ 184.458 │    0.206351 │   1284.86 │\n",
      "│  80.0 │     0.0 │     0.0 │ 546.606 │ 214.415 │ 343.755 │ 185.191 │    0.206351 │   1289.97 │\n",
      "│  81.0 │     0.0 │     0.0 │ 539.885 │ 211.778 │ 339.528 │ 182.914 │    0.206351 │   1274.11 │\n",
      "│  82.0 │     0.0 │     0.0 │ 537.092 │ 210.683 │ 337.772 │ 181.968 │    0.206351 │   1267.52 │\n",
      "│  83.0 │     0.0 │     0.0 │ 539.183 │ 211.503 │ 339.086 │ 182.676 │    0.206351 │   1272.45 │\n",
      "│  84.0 │     0.0 │     0.0 │ 540.695 │ 212.096 │ 340.037 │ 183.188 │    0.206351 │   1276.02 │\n",
      "│  85.0 │     0.0 │     0.0 │ 546.518 │  214.38 │ 343.699 │ 185.161 │    0.206351 │   1289.76 │\n",
      "│  86.0 │     0.0 │     0.0 │ 547.289 │ 214.683 │ 344.184 │ 185.423 │    0.206351 │   1291.58 │\n",
      "│  87.0 │     0.0 │     0.0 │ 544.251 │ 213.491 │ 342.274 │ 184.393 │    0.206351 │   1284.41 │\n",
      "│  88.0 │     0.0 │     0.0 │ 556.297 │ 218.216 │ 349.849 │ 188.474 │    0.206351 │   1312.84 │\n",
      "│  89.0 │     0.0 │     0.0 │ 558.754 │  219.18 │ 351.394 │ 189.307 │    0.206351 │   1318.63 │\n",
      "│  90.0 │     0.0 │     0.0 │ 558.099 │ 218.923 │ 350.983 │ 189.085 │    0.206351 │   1317.09 │\n",
      "│  91.0 │     0.0 │     0.0 │  560.67 │ 219.932 │ 352.599 │ 189.956 │    0.206351 │   1323.16 │\n",
      "│  92.0 │     0.0 │     0.0 │ 566.198 │   222.1 │ 356.076 │ 191.829 │    0.206351 │    1336.2 │\n",
      "│  93.0 │     0.0 │     0.0 │ 570.061 │ 223.615 │ 358.505 │ 193.138 │    0.206351 │   1345.32 │\n",
      "│  94.0 │     0.0 │     0.0 │ 580.626 │  227.76 │ 365.149 │ 196.717 │    0.206351 │   1370.25 │\n",
      "│  95.0 │     0.0 │     0.0 │ 579.621 │ 227.365 │ 364.517 │ 196.377 │    0.206351 │   1367.88 │\n",
      "│  96.0 │     0.0 │     0.0 │ 585.335 │ 229.607 │ 368.111 │ 198.312 │    0.206351 │   1381.36 │\n",
      "│  97.0 │     0.0 │     0.0 │ 575.077 │ 225.583 │  361.66 │ 194.837 │    0.206351 │   1357.16 │\n",
      "│  98.0 │     0.0 │     0.0 │ 571.548 │ 224.199 │  359.44 │ 193.641 │    0.206351 │   1348.83 │\n",
      "│  99.0 │     0.0 │     0.0 │ 577.784 │ 226.645 │ 363.362 │ 195.754 │    0.206351 │   1363.54 │\n",
      "│ 100.0 │     0.0 │     0.0 │ 593.651 │ 232.869 │  373.34 │  201.13 │    0.206351 │   1400.99 │\n",
      "│ 101.0 │     0.0 │     0.0 │ 595.853 │ 233.733 │ 374.726 │ 201.876 │    0.206351 │   1406.19 │\n",
      "│ 102.0 │     0.0 │     0.0 │ 596.115 │ 233.835 │  374.89 │ 201.965 │    0.206351 │   1406.81 │\n",
      "│ 103.0 │     0.0 │     0.0 │ 601.203 │ 235.831 │  378.09 │ 203.689 │    0.206351 │   1418.81 │\n",
      "│ 104.0 │     0.0 │     0.0 │ 606.089 │ 237.748 │ 381.163 │ 205.344 │    0.206351 │   1430.34 │\n",
      "│ 105.0 │     0.0 │     0.0 │ 604.378 │ 237.077 │ 380.087 │ 204.764 │    0.206351 │   1426.31 │\n",
      "│ 106.0 │     0.0 │     0.0 │ 608.891 │ 238.847 │ 382.925 │ 206.293 │    0.206351 │   1436.96 │\n",
      "│ 107.0 │     0.0 │     0.0 │ 591.953 │ 232.203 │ 372.273 │ 200.555 │    0.206351 │   1396.98 │\n",
      "│ 108.0 │     0.0 │     0.0 │ 596.881 │ 234.136 │ 375.372 │ 202.224 │    0.206351 │   1408.61 │\n",
      "│ 109.0 │     0.0 │     0.0 │ 596.268 │ 233.895 │ 374.986 │ 202.017 │    0.206351 │   1407.17 │\n",
      "│ 110.0 │     0.0 │     0.0 │ 609.743 │ 239.181 │ 383.461 │ 206.582 │    0.206351 │   1438.97 │\n",
      "│ 111.0 │     0.0 │     0.0 │ 614.383 │ 241.002 │ 386.379 │ 208.154 │    0.206351 │   1449.92 │\n",
      "│ 112.0 │     0.0 │     0.0 │ 621.555 │ 243.815 │ 390.889 │ 210.584 │    0.206351 │   1466.84 │\n",
      "│ 113.0 │     0.0 │     0.0 │ 633.017 │ 248.311 │ 398.098 │ 214.467 │    0.206351 │   1493.89 │\n",
      "│ 114.0 │     0.0 │     0.0 │ 626.709 │ 245.836 │  394.13 │  212.33 │    0.206351 │    1479.0 │\n",
      "│ 115.0 │     0.0 │     0.0 │  619.39 │ 242.965 │ 389.528 │  209.85 │    0.206351 │   1461.73 │\n",
      "│ 116.0 │     0.0 │     0.0 │ 605.603 │ 237.557 │ 380.857 │ 205.179 │    0.206351 │    1429.2 │\n",
      "│ 117.0 │     0.0 │     0.0 │ 616.932 │ 242.001 │ 387.982 │ 209.018 │    0.206351 │   1455.93 │\n",
      "│ 118.0 │     0.0 │     0.0 │ 612.546 │ 240.281 │ 385.224 │ 207.532 │    0.206351 │   1445.58 │\n",
      "│ 119.0 │     0.0 │     0.0 │ 602.047 │ 236.162 │ 378.621 │ 203.974 │    0.206351 │    1420.8 │\n",
      "│ 120.0 │     0.0 │     0.0 │ 610.111 │ 239.325 │ 383.692 │ 206.707 │    0.206351 │   1439.84 │\n",
      "└───────┴─────────┴─────────┴─────────┴─────────┴─────────┴─────────┴─────────────┴───────────┘\n"
     ]
    }
   ],
   "source": [
    "reallocate_table_data = Array{Float64,2}(undef, number_of_trading_days, length(w)+3)\n",
    "for i ∈ 1:number_of_trading_days\n",
    "    reallocate_table_data[i,1] = i\n",
    "    for j ∈ eachindex(my_list_of_tickers)\n",
    "        reallocate_table_data[i,1+j] = portfolio_performance_array_reallocate[i,j];\n",
    "    end\n",
    "    reallocate_table_data[i,end-1] = portfolio_performance_array_reallocate[i,end-1]\n",
    "    reallocate_table_data[i,end] = portfolio_performance_array_reallocate[i,end]\n",
    "end\n",
    "\n",
    "pretty_table(reallocate_table_data, header=[\"day\",my_list_of_tickers...,\"risk (sqrt)\",\"total USD\"])"
   ]
  },
  {
   "cell_type": "code",
   "execution_count": 61,
   "id": "7472cec5-281a-40be-9dfa-26663592fca0",
   "metadata": {
    "tags": []
   },
   "outputs": [
    {
     "data": {
      "image/png": "[encoded data removed]",
      "image/svg+xml": [
       "<?xml version=\"1.0\" encoding=\"utf-8\"?>\n",
       "<svg xmlns=\"http://www.w3.org/2000/svg\" xmlns:xlink=\"http://www.w3.org/1999/xlink\" width=\"600\" height=\"400\" viewBox=\"0 0 2400 1600\">\n",
       "<defs>\n",
       "  <clipPath id=\"clip200\">\n",
       "    <rect x=\"0\" y=\"0\" width=\"2400\" height=\"1600\"/>\n",
       "  </clipPath>\n",
       "</defs>\n",
       "<path clip-path=\"url(#clip200)\" d=\"M0 1600 L2400 1600 L2400 0 L0 0  Z\" fill=\"#ffffff\" fill-rule=\"evenodd\" fill-opacity=\"1\"/>\n",
       "<defs>\n",
       "  <clipPath id=\"clip201\">\n",
       "    <rect x=\"480\" y=\"0\" width=\"1681\" height=\"1600\"/>\n",
       "  </clipPath>\n",
       "</defs>\n",
       "<path clip-path=\"url(#clip200)\" d=\"M217.783 1423.18 L2352.76 1423.18 L2352.76 47.2441 L217.783 47.2441  Z\" fill=\"#ffffff\" fill-rule=\"evenodd\" fill-opacity=\"1\"/>\n",
       "<defs>\n",
       "  <clipPath id=\"clip202\">\n",
       "    <rect x=\"217\" y=\"47\" width=\"2136\" height=\"1377\"/>\n",
       "  </clipPath>\n",
       "</defs>\n",
       "<polyline clip-path=\"url(#clip202)\" style=\"stroke:#000000; stroke-linecap:round; stroke-linejoin:round; stroke-width:2; stroke-opacity:0.1; fill:none\" points=\"261.281,1423.18 261.281,47.2441 \"/>\n",
       "<polyline clip-path=\"url(#clip202)\" style=\"stroke:#000000; stroke-linecap:round; stroke-linejoin:round; stroke-width:2; stroke-opacity:0.1; fill:none\" points=\"684.417,1423.18 684.417,47.2441 \"/>\n",
       "<polyline clip-path=\"url(#clip202)\" style=\"stroke:#000000; stroke-linecap:round; stroke-linejoin:round; stroke-width:2; stroke-opacity:0.1; fill:none\" points=\"1107.55,1423.18 1107.55,47.2441 \"/>\n",
       "<polyline clip-path=\"url(#clip202)\" style=\"stroke:#000000; stroke-linecap:round; stroke-linejoin:round; stroke-width:2; stroke-opacity:0.1; fill:none\" points=\"1530.69,1423.18 1530.69,47.2441 \"/>\n",
       "<polyline clip-path=\"url(#clip202)\" style=\"stroke:#000000; stroke-linecap:round; stroke-linejoin:round; stroke-width:2; stroke-opacity:0.1; fill:none\" points=\"1953.82,1423.18 1953.82,47.2441 \"/>\n",
       "<polyline clip-path=\"url(#clip200)\" style=\"stroke:#000000; stroke-linecap:round; stroke-linejoin:round; stroke-width:4; stroke-opacity:1; fill:none\" points=\"217.783,1423.18 2352.76,1423.18 \"/>\n",
       "<polyline clip-path=\"url(#clip200)\" style=\"stroke:#000000; stroke-linecap:round; stroke-linejoin:round; stroke-width:4; stroke-opacity:1; fill:none\" points=\"261.281,1423.18 261.281,1404.28 \"/>\n",
       "<polyline clip-path=\"url(#clip200)\" style=\"stroke:#000000; stroke-linecap:round; stroke-linejoin:round; stroke-width:4; stroke-opacity:1; fill:none\" points=\"684.417,1423.18 684.417,1404.28 \"/>\n",
       "<polyline clip-path=\"url(#clip200)\" style=\"stroke:#000000; stroke-linecap:round; stroke-linejoin:round; stroke-width:4; stroke-opacity:1; fill:none\" points=\"1107.55,1423.18 1107.55,1404.28 \"/>\n",
       "<polyline clip-path=\"url(#clip200)\" style=\"stroke:#000000; stroke-linecap:round; stroke-linejoin:round; stroke-width:4; stroke-opacity:1; fill:none\" points=\"1530.69,1423.18 1530.69,1404.28 \"/>\n",
       "<polyline clip-path=\"url(#clip200)\" style=\"stroke:#000000; stroke-linecap:round; stroke-linejoin:round; stroke-width:4; stroke-opacity:1; fill:none\" points=\"1953.82,1423.18 1953.82,1404.28 \"/>\n",
       "<path clip-path=\"url(#clip200)\" d=\"M261.281 1454.1 Q257.67 1454.1 255.841 1457.66 Q254.036 1461.2 254.036 1468.33 Q254.036 1475.44 255.841 1479.01 Q257.67 1482.55 261.281 1482.55 Q264.916 1482.55 266.721 1479.01 Q268.55 1475.44 268.55 1468.33 Q268.55 1461.2 266.721 1457.66 Q264.916 1454.1 261.281 1454.1 M261.281 1450.39 Q267.091 1450.39 270.147 1455 Q273.226 1459.58 273.226 1468.33 Q273.226 1477.06 270.147 1481.67 Q267.091 1486.25 261.281 1486.25 Q255.471 1486.25 252.392 1481.67 Q249.337 1477.06 249.337 1468.33 Q249.337 1459.58 252.392 1455 Q255.471 1450.39 261.281 1450.39 Z\" fill=\"#000000\" fill-rule=\"nonzero\" fill-opacity=\"1\" /><path clip-path=\"url(#clip200)\" d=\"M663.688 1481.64 L680.007 1481.64 L680.007 1485.58 L658.063 1485.58 L658.063 1481.64 Q660.725 1478.89 665.308 1474.26 Q669.915 1469.61 671.095 1468.27 Q673.341 1465.74 674.22 1464.01 Q675.123 1462.25 675.123 1460.56 Q675.123 1457.8 673.179 1456.07 Q671.257 1454.33 668.155 1454.33 Q665.956 1454.33 663.503 1455.09 Q661.072 1455.86 658.294 1457.41 L658.294 1452.69 Q661.118 1451.55 663.572 1450.97 Q666.026 1450.39 668.063 1450.39 Q673.433 1450.39 676.628 1453.08 Q679.822 1455.77 679.822 1460.26 Q679.822 1462.39 679.012 1464.31 Q678.225 1466.2 676.118 1468.8 Q675.54 1469.47 672.438 1472.69 Q669.336 1475.88 663.688 1481.64 Z\" fill=\"#000000\" fill-rule=\"nonzero\" fill-opacity=\"1\" /><path clip-path=\"url(#clip200)\" d=\"M689.868 1451.02 L708.225 1451.02 L708.225 1454.96 L694.151 1454.96 L694.151 1463.43 Q695.169 1463.08 696.188 1462.92 Q697.206 1462.73 698.225 1462.73 Q704.012 1462.73 707.391 1465.9 Q710.771 1469.08 710.771 1474.49 Q710.771 1480.07 707.299 1483.17 Q703.826 1486.25 697.507 1486.25 Q695.331 1486.25 693.063 1485.88 Q690.817 1485.51 688.41 1484.77 L688.41 1480.07 Q690.493 1481.2 692.715 1481.76 Q694.938 1482.32 697.414 1482.32 Q701.419 1482.32 703.757 1480.21 Q706.095 1478.1 706.095 1474.49 Q706.095 1470.88 703.757 1468.77 Q701.419 1466.67 697.414 1466.67 Q695.54 1466.67 693.665 1467.08 Q691.813 1467.5 689.868 1468.38 L689.868 1451.02 Z\" fill=\"#000000\" fill-rule=\"nonzero\" fill-opacity=\"1\" /><path clip-path=\"url(#clip200)\" d=\"M1082.25 1451.02 L1100.61 1451.02 L1100.61 1454.96 L1086.53 1454.96 L1086.53 1463.43 Q1087.55 1463.08 1088.57 1462.92 Q1089.59 1462.73 1090.61 1462.73 Q1096.4 1462.73 1099.77 1465.9 Q1103.15 1469.08 1103.15 1474.49 Q1103.15 1480.07 1099.68 1483.17 Q1096.21 1486.25 1089.89 1486.25 Q1087.71 1486.25 1085.45 1485.88 Q1083.2 1485.51 1080.79 1484.77 L1080.79 1480.07 Q1082.88 1481.2 1085.1 1481.76 Q1087.32 1482.32 1089.8 1482.32 Q1093.8 1482.32 1096.14 1480.21 Q1098.48 1478.1 1098.48 1474.49 Q1098.48 1470.88 1096.14 1468.77 Q1093.8 1466.67 1089.8 1466.67 Q1087.92 1466.67 1086.05 1467.08 Q1084.2 1467.5 1082.25 1468.38 L1082.25 1451.02 Z\" fill=\"#000000\" fill-rule=\"nonzero\" fill-opacity=\"1\" /><path clip-path=\"url(#clip200)\" d=\"M1122.37 1454.1 Q1118.76 1454.1 1116.93 1457.66 Q1115.12 1461.2 1115.12 1468.33 Q1115.12 1475.44 1116.93 1479.01 Q1118.76 1482.55 1122.37 1482.55 Q1126 1482.55 1127.81 1479.01 Q1129.64 1475.44 1129.64 1468.33 Q1129.64 1461.2 1127.81 1457.66 Q1126 1454.1 1122.37 1454.1 M1122.37 1450.39 Q1128.18 1450.39 1131.23 1455 Q1134.31 1459.58 1134.31 1468.33 Q1134.31 1477.06 1131.23 1481.67 Q1128.18 1486.25 1122.37 1486.25 Q1116.56 1486.25 1113.48 1481.67 Q1110.42 1477.06 1110.42 1468.33 Q1110.42 1459.58 1113.48 1455 Q1116.56 1450.39 1122.37 1450.39 Z\" fill=\"#000000\" fill-rule=\"nonzero\" fill-opacity=\"1\" /><path clip-path=\"url(#clip200)\" d=\"M1504.54 1451.02 L1526.76 1451.02 L1526.76 1453.01 L1514.22 1485.58 L1509.33 1485.58 L1521.14 1454.96 L1504.54 1454.96 L1504.54 1451.02 Z\" fill=\"#000000\" fill-rule=\"nonzero\" fill-opacity=\"1\" /><path clip-path=\"url(#clip200)\" d=\"M1535.93 1451.02 L1554.29 1451.02 L1554.29 1454.96 L1540.21 1454.96 L1540.21 1463.43 Q1541.23 1463.08 1542.25 1462.92 Q1543.27 1462.73 1544.29 1462.73 Q1550.07 1462.73 1553.45 1465.9 Q1556.83 1469.08 1556.83 1474.49 Q1556.83 1480.07 1553.36 1483.17 Q1549.89 1486.25 1543.57 1486.25 Q1541.39 1486.25 1539.13 1485.88 Q1536.88 1485.51 1534.47 1484.77 L1534.47 1480.07 Q1536.56 1481.2 1538.78 1481.76 Q1541 1482.32 1543.48 1482.32 Q1547.48 1482.32 1549.82 1480.21 Q1552.16 1478.1 1552.16 1474.49 Q1552.16 1470.88 1549.82 1468.77 Q1547.48 1466.67 1543.48 1466.67 Q1541.6 1466.67 1539.73 1467.08 Q1537.88 1467.5 1535.93 1468.38 L1535.93 1451.02 Z\" fill=\"#000000\" fill-rule=\"nonzero\" fill-opacity=\"1\" /><path clip-path=\"url(#clip200)\" d=\"M1913.43 1481.64 L1921.07 1481.64 L1921.07 1455.28 L1912.76 1456.95 L1912.76 1452.69 L1921.02 1451.02 L1925.7 1451.02 L1925.7 1481.64 L1933.34 1481.64 L1933.34 1485.58 L1913.43 1485.58 L1913.43 1481.64 Z\" fill=\"#000000\" fill-rule=\"nonzero\" fill-opacity=\"1\" /><path clip-path=\"url(#clip200)\" d=\"M1952.78 1454.1 Q1949.17 1454.1 1947.34 1457.66 Q1945.54 1461.2 1945.54 1468.33 Q1945.54 1475.44 1947.34 1479.01 Q1949.17 1482.55 1952.78 1482.55 Q1956.42 1482.55 1958.22 1479.01 Q1960.05 1475.44 1960.05 1468.33 Q1960.05 1461.2 1958.22 1457.66 Q1956.42 1454.1 1952.78 1454.1 M1952.78 1450.39 Q1958.59 1450.39 1961.65 1455 Q1964.73 1459.58 1964.73 1468.33 Q1964.73 1477.06 1961.65 1481.67 Q1958.59 1486.25 1952.78 1486.25 Q1946.97 1486.25 1943.89 1481.67 Q1940.84 1477.06 1940.84 1468.33 Q1940.84 1459.58 1943.89 1455 Q1946.97 1450.39 1952.78 1450.39 Z\" fill=\"#000000\" fill-rule=\"nonzero\" fill-opacity=\"1\" /><path clip-path=\"url(#clip200)\" d=\"M1982.94 1454.1 Q1979.33 1454.1 1977.5 1457.66 Q1975.7 1461.2 1975.7 1468.33 Q1975.7 1475.44 1977.5 1479.01 Q1979.33 1482.55 1982.94 1482.55 Q1986.58 1482.55 1988.38 1479.01 Q1990.21 1475.44 1990.21 1468.33 Q1990.21 1461.2 1988.38 1457.66 Q1986.58 1454.1 1982.94 1454.1 M1982.94 1450.39 Q1988.75 1450.39 1991.81 1455 Q1994.89 1459.58 1994.89 1468.33 Q1994.89 1477.06 1991.81 1481.67 Q1988.75 1486.25 1982.94 1486.25 Q1977.13 1486.25 1974.06 1481.67 Q1971 1477.06 1971 1468.33 Q1971 1459.58 1974.06 1455 Q1977.13 1450.39 1982.94 1450.39 Z\" fill=\"#000000\" fill-rule=\"nonzero\" fill-opacity=\"1\" /><path clip-path=\"url(#clip200)\" d=\"M874.856 1520.52 L915.056 1520.52 L915.056 1525.93 L898.187 1525.93 L898.187 1568.04 L891.726 1568.04 L891.726 1525.93 L874.856 1525.93 L874.856 1520.52 Z\" fill=\"#000000\" fill-rule=\"nonzero\" fill-opacity=\"1\" /><path clip-path=\"url(#clip200)\" d=\"M932.084 1537.87 Q931.097 1537.3 929.92 1537.04 Q928.774 1536.76 927.373 1536.76 Q922.408 1536.76 919.735 1540 Q917.093 1543.22 917.093 1549.27 L917.093 1568.04 L911.205 1568.04 L911.205 1532.4 L917.093 1532.4 L917.093 1537.93 Q918.939 1534.69 921.899 1533.13 Q924.859 1531.54 929.092 1531.54 Q929.697 1531.54 930.429 1531.63 Q931.161 1531.7 932.052 1531.85 L932.084 1537.87 Z\" fill=\"#000000\" fill-rule=\"nonzero\" fill-opacity=\"1\" /><path clip-path=\"url(#clip200)\" d=\"M954.428 1550.12 Q947.33 1550.12 944.593 1551.75 Q941.855 1553.37 941.855 1557.29 Q941.855 1560.4 943.892 1562.25 Q945.961 1564.07 949.494 1564.07 Q954.364 1564.07 957.292 1560.63 Q960.252 1557.16 960.252 1551.43 L960.252 1550.12 L954.428 1550.12 M966.109 1547.71 L966.109 1568.04 L960.252 1568.04 L960.252 1562.63 Q958.247 1565.88 955.255 1567.44 Q952.263 1568.97 947.935 1568.97 Q942.46 1568.97 939.214 1565.91 Q935.999 1562.82 935.999 1557.67 Q935.999 1551.65 940.009 1548.6 Q944.052 1545.54 952.041 1545.54 L960.252 1545.54 L960.252 1544.97 Q960.252 1540.93 957.579 1538.73 Q954.937 1536.5 950.131 1536.5 Q947.075 1536.5 944.179 1537.23 Q941.283 1537.97 938.609 1539.43 L938.609 1534.02 Q941.824 1532.78 944.847 1532.17 Q947.871 1531.54 950.736 1531.54 Q958.47 1531.54 962.289 1535.55 Q966.109 1539.56 966.109 1547.71 Z\" fill=\"#000000\" fill-rule=\"nonzero\" fill-opacity=\"1\" /><path clip-path=\"url(#clip200)\" d=\"M1001.63 1537.81 L1001.63 1518.52 L1007.49 1518.52 L1007.49 1568.04 L1001.63 1568.04 L1001.63 1562.7 Q999.783 1565.88 996.951 1567.44 Q994.15 1568.97 990.203 1568.97 Q983.742 1568.97 979.668 1563.81 Q975.626 1558.65 975.626 1550.25 Q975.626 1541.85 979.668 1536.69 Q983.742 1531.54 990.203 1531.54 Q994.15 1531.54 996.951 1533.1 Q999.783 1534.62 1001.63 1537.81 M981.673 1550.25 Q981.673 1556.71 984.315 1560.4 Q986.988 1564.07 991.635 1564.07 Q996.282 1564.07 998.956 1560.4 Q1001.63 1556.71 1001.63 1550.25 Q1001.63 1543.79 998.956 1540.13 Q996.282 1536.44 991.635 1536.44 Q986.988 1536.44 984.315 1540.13 Q981.673 1543.79 981.673 1550.25 Z\" fill=\"#000000\" fill-rule=\"nonzero\" fill-opacity=\"1\" /><path clip-path=\"url(#clip200)\" d=\"M1019.55 1532.4 L1025.41 1532.4 L1025.41 1568.04 L1019.55 1568.04 L1019.55 1532.4 M1019.55 1518.52 L1025.41 1518.52 L1025.41 1525.93 L1019.55 1525.93 L1019.55 1518.52 Z\" fill=\"#000000\" fill-rule=\"nonzero\" fill-opacity=\"1\" /><path clip-path=\"url(#clip200)\" d=\"M1067.29 1546.53 L1067.29 1568.04 L1061.44 1568.04 L1061.44 1546.72 Q1061.44 1541.66 1059.46 1539.14 Q1057.49 1536.63 1053.54 1536.63 Q1048.8 1536.63 1046.06 1539.65 Q1043.32 1542.68 1043.32 1547.9 L1043.32 1568.04 L1037.44 1568.04 L1037.44 1532.4 L1043.32 1532.4 L1043.32 1537.93 Q1045.43 1534.72 1048.26 1533.13 Q1051.12 1531.54 1054.85 1531.54 Q1060.99 1531.54 1064.14 1535.36 Q1067.29 1539.14 1067.29 1546.53 Z\" fill=\"#000000\" fill-rule=\"nonzero\" fill-opacity=\"1\" /><path clip-path=\"url(#clip200)\" d=\"M1102.43 1549.81 Q1102.43 1543.44 1099.79 1539.94 Q1097.18 1536.44 1092.44 1536.44 Q1087.73 1536.44 1085.08 1539.94 Q1082.47 1543.44 1082.47 1549.81 Q1082.47 1556.14 1085.08 1559.64 Q1087.73 1563.14 1092.44 1563.14 Q1097.18 1563.14 1099.79 1559.64 Q1102.43 1556.14 1102.43 1549.81 M1108.29 1563.62 Q1108.29 1572.72 1104.24 1577.15 Q1100.2 1581.6 1091.86 1581.6 Q1088.78 1581.6 1086.04 1581.13 Q1083.3 1580.68 1080.72 1579.72 L1080.72 1574.03 Q1083.3 1575.43 1085.82 1576.1 Q1088.33 1576.76 1090.94 1576.76 Q1096.7 1576.76 1099.57 1573.74 Q1102.43 1570.75 1102.43 1564.67 L1102.43 1561.77 Q1100.62 1564.92 1097.78 1566.48 Q1094.95 1568.04 1091 1568.04 Q1084.45 1568.04 1080.44 1563.05 Q1076.43 1558.05 1076.43 1549.81 Q1076.43 1541.53 1080.44 1536.53 Q1084.45 1531.54 1091 1531.54 Q1094.95 1531.54 1097.78 1533.1 Q1100.62 1534.66 1102.43 1537.81 L1102.43 1532.4 L1108.29 1532.4 L1108.29 1563.62 Z\" fill=\"#000000\" fill-rule=\"nonzero\" fill-opacity=\"1\" /><path clip-path=\"url(#clip200)\" d=\"M1147.75 1525.81 L1147.75 1562.76 L1155.52 1562.76 Q1165.36 1562.76 1169.91 1558.3 Q1174.49 1553.85 1174.49 1544.24 Q1174.49 1534.69 1169.91 1530.26 Q1165.36 1525.81 1155.52 1525.81 L1147.75 1525.81 M1141.32 1520.52 L1154.53 1520.52 Q1168.35 1520.52 1174.81 1526.28 Q1181.27 1532.01 1181.27 1544.24 Q1181.27 1556.52 1174.78 1562.28 Q1168.28 1568.04 1154.53 1568.04 L1141.32 1568.04 L1141.32 1520.52 Z\" fill=\"#000000\" fill-rule=\"nonzero\" fill-opacity=\"1\" /><path clip-path=\"url(#clip200)\" d=\"M1207.46 1550.12 Q1200.37 1550.12 1197.63 1551.75 Q1194.89 1553.37 1194.89 1557.29 Q1194.89 1560.4 1196.93 1562.25 Q1199 1564.07 1202.53 1564.07 Q1207.4 1564.07 1210.33 1560.63 Q1213.29 1557.16 1213.29 1551.43 L1213.29 1550.12 L1207.46 1550.12 M1219.15 1547.71 L1219.15 1568.04 L1213.29 1568.04 L1213.29 1562.63 Q1211.28 1565.88 1208.29 1567.44 Q1205.3 1568.97 1200.97 1568.97 Q1195.5 1568.97 1192.25 1565.91 Q1189.04 1562.82 1189.04 1557.67 Q1189.04 1551.65 1193.05 1548.6 Q1197.09 1545.54 1205.08 1545.54 L1213.29 1545.54 L1213.29 1544.97 Q1213.29 1540.93 1210.62 1538.73 Q1207.97 1536.5 1203.17 1536.5 Q1200.11 1536.5 1197.22 1537.23 Q1194.32 1537.97 1191.65 1539.43 L1191.65 1534.02 Q1194.86 1532.78 1197.88 1532.17 Q1200.91 1531.54 1203.77 1531.54 Q1211.51 1531.54 1215.33 1535.55 Q1219.15 1539.56 1219.15 1547.71 Z\" fill=\"#000000\" fill-rule=\"nonzero\" fill-opacity=\"1\" /><path clip-path=\"url(#clip200)\" d=\"M1246.04 1571.35 Q1243.56 1577.72 1241.2 1579.66 Q1238.85 1581.6 1234.9 1581.6 L1230.22 1581.6 L1230.22 1576.7 L1233.66 1576.7 Q1236.08 1576.7 1237.42 1575.56 Q1238.75 1574.41 1240.38 1570.14 L1241.43 1567.47 L1227.01 1532.4 L1233.21 1532.4 L1244.35 1560.28 L1255.49 1532.4 L1261.7 1532.4 L1246.04 1571.35 Z\" fill=\"#000000\" fill-rule=\"nonzero\" fill-opacity=\"1\" /><path clip-path=\"url(#clip200)\" d=\"M1290.76 1520.52 L1297.19 1520.52 L1297.19 1568.04 L1290.76 1568.04 L1290.76 1520.52 Z\" fill=\"#000000\" fill-rule=\"nonzero\" fill-opacity=\"1\" /><path clip-path=\"url(#clip200)\" d=\"M1339.36 1546.53 L1339.36 1568.04 L1333.51 1568.04 L1333.51 1546.72 Q1333.51 1541.66 1331.53 1539.14 Q1329.56 1536.63 1325.61 1536.63 Q1320.87 1536.63 1318.13 1539.65 Q1315.4 1542.68 1315.4 1547.9 L1315.4 1568.04 L1309.51 1568.04 L1309.51 1532.4 L1315.4 1532.4 L1315.4 1537.93 Q1317.5 1534.72 1320.33 1533.13 Q1323.19 1531.54 1326.92 1531.54 Q1333.06 1531.54 1336.21 1535.36 Q1339.36 1539.14 1339.36 1546.53 Z\" fill=\"#000000\" fill-rule=\"nonzero\" fill-opacity=\"1\" /><path clip-path=\"url(#clip200)\" d=\"M1374.5 1537.81 L1374.5 1518.52 L1380.36 1518.52 L1380.36 1568.04 L1374.5 1568.04 L1374.5 1562.7 Q1372.65 1565.88 1369.82 1567.44 Q1367.02 1568.97 1363.07 1568.97 Q1356.61 1568.97 1352.54 1563.81 Q1348.5 1558.65 1348.5 1550.25 Q1348.5 1541.85 1352.54 1536.69 Q1356.61 1531.54 1363.07 1531.54 Q1367.02 1531.54 1369.82 1533.1 Q1372.65 1534.62 1374.5 1537.81 M1354.54 1550.25 Q1354.54 1556.71 1357.19 1560.4 Q1359.86 1564.07 1364.51 1564.07 Q1369.15 1564.07 1371.83 1560.4 Q1374.5 1556.71 1374.5 1550.25 Q1374.5 1543.79 1371.83 1540.13 Q1369.15 1536.44 1364.51 1536.44 Q1359.86 1536.44 1357.19 1540.13 Q1354.54 1543.79 1354.54 1550.25 Z\" fill=\"#000000\" fill-rule=\"nonzero\" fill-opacity=\"1\" /><path clip-path=\"url(#clip200)\" d=\"M1422.91 1548.76 L1422.91 1551.62 L1395.98 1551.62 Q1396.37 1557.67 1399.61 1560.85 Q1402.89 1564 1408.72 1564 Q1412.09 1564 1415.24 1563.17 Q1418.42 1562.35 1421.54 1560.69 L1421.54 1566.23 Q1418.39 1567.57 1415.08 1568.27 Q1411.77 1568.97 1408.37 1568.97 Q1399.84 1568.97 1394.84 1564 Q1389.87 1559.04 1389.87 1550.57 Q1389.87 1541.82 1394.58 1536.69 Q1399.33 1531.54 1407.35 1531.54 Q1414.54 1531.54 1418.71 1536.18 Q1422.91 1540.8 1422.91 1548.76 M1417.06 1547.04 Q1416.99 1542.23 1414.35 1539.37 Q1411.74 1536.5 1407.41 1536.5 Q1402.51 1536.5 1399.55 1539.27 Q1396.62 1542.04 1396.18 1547.07 L1417.06 1547.04 Z\" fill=\"#000000\" fill-rule=\"nonzero\" fill-opacity=\"1\" /><path clip-path=\"url(#clip200)\" d=\"M1461.01 1532.4 L1448.12 1549.74 L1461.68 1568.04 L1454.77 1568.04 L1444.4 1554.04 L1434.02 1568.04 L1427.11 1568.04 L1440.96 1549.39 L1428.29 1532.4 L1435.2 1532.4 L1444.65 1545.1 L1454.1 1532.4 L1461.01 1532.4 Z\" fill=\"#000000\" fill-rule=\"nonzero\" fill-opacity=\"1\" /><path clip-path=\"url(#clip200)\" d=\"M1504.74 1518.58 Q1500.48 1525.9 1498.41 1533.06 Q1496.34 1540.23 1496.34 1547.58 Q1496.34 1554.93 1498.41 1562.16 Q1500.51 1569.35 1504.74 1576.64 L1499.65 1576.64 Q1494.88 1569.16 1492.49 1561.93 Q1490.13 1554.71 1490.13 1547.58 Q1490.13 1540.48 1492.49 1533.29 Q1494.84 1526.09 1499.65 1518.58 L1504.74 1518.58 Z\" fill=\"#000000\" fill-rule=\"nonzero\" fill-opacity=\"1\" /><path clip-path=\"url(#clip200)\" d=\"M1522.47 1562.63 L1544.91 1562.63 L1544.91 1568.04 L1514.74 1568.04 L1514.74 1562.63 Q1518.4 1558.85 1524.7 1552.48 Q1531.03 1546.08 1532.66 1544.24 Q1535.74 1540.77 1536.95 1538.38 Q1538.19 1535.96 1538.19 1533.64 Q1538.19 1529.85 1535.52 1527.46 Q1532.88 1525.08 1528.61 1525.08 Q1525.59 1525.08 1522.22 1526.13 Q1518.87 1527.18 1515.06 1529.31 L1515.06 1522.82 Q1518.94 1521.26 1522.31 1520.46 Q1525.69 1519.66 1528.49 1519.66 Q1535.87 1519.66 1540.26 1523.36 Q1544.66 1527.05 1544.66 1533.22 Q1544.66 1536.15 1543.54 1538.79 Q1542.46 1541.4 1539.56 1544.97 Q1538.77 1545.89 1534.5 1550.32 Q1530.24 1554.71 1522.47 1562.63 Z\" fill=\"#000000\" fill-rule=\"nonzero\" fill-opacity=\"1\" /><path clip-path=\"url(#clip200)\" d=\"M1572.16 1524.76 Q1567.19 1524.76 1564.68 1529.66 Q1562.19 1534.53 1562.19 1544.33 Q1562.19 1554.1 1564.68 1559 Q1567.19 1563.87 1572.16 1563.87 Q1577.15 1563.87 1579.64 1559 Q1582.15 1554.1 1582.15 1544.33 Q1582.15 1534.53 1579.64 1529.66 Q1577.15 1524.76 1572.16 1524.76 M1572.16 1519.66 Q1580.14 1519.66 1584.35 1526 Q1588.58 1532.3 1588.58 1544.33 Q1588.58 1556.33 1584.35 1562.66 Q1580.14 1568.97 1572.16 1568.97 Q1564.17 1568.97 1559.93 1562.66 Q1555.73 1556.33 1555.73 1544.33 Q1555.73 1532.3 1559.93 1526 Q1564.17 1519.66 1572.16 1519.66 Z\" fill=\"#000000\" fill-rule=\"nonzero\" fill-opacity=\"1\" /><path clip-path=\"url(#clip200)\" d=\"M1605.42 1562.63 L1627.86 1562.63 L1627.86 1568.04 L1597.68 1568.04 L1597.68 1562.63 Q1601.34 1558.85 1607.64 1552.48 Q1613.98 1546.08 1615.6 1544.24 Q1618.69 1540.77 1619.9 1538.38 Q1621.14 1535.96 1621.14 1533.64 Q1621.14 1529.85 1618.47 1527.46 Q1615.82 1525.08 1611.56 1525.08 Q1608.54 1525.08 1605.16 1526.13 Q1601.82 1527.18 1598 1529.31 L1598 1522.82 Q1601.88 1521.26 1605.26 1520.46 Q1608.63 1519.66 1611.43 1519.66 Q1618.82 1519.66 1623.21 1523.36 Q1627.6 1527.05 1627.6 1533.22 Q1627.6 1536.15 1626.49 1538.79 Q1625.41 1541.4 1622.51 1544.97 Q1621.71 1545.89 1617.45 1550.32 Q1613.18 1554.71 1605.42 1562.63 Z\" fill=\"#000000\" fill-rule=\"nonzero\" fill-opacity=\"1\" /><path clip-path=\"url(#clip200)\" d=\"M1660.83 1542.42 Q1665.45 1543.41 1668.02 1546.53 Q1670.63 1549.65 1670.63 1554.23 Q1670.63 1561.26 1665.8 1565.12 Q1660.96 1568.97 1652.05 1568.97 Q1649.05 1568.97 1645.87 1568.36 Q1642.72 1567.79 1639.35 1566.61 L1639.35 1560.4 Q1642.02 1561.96 1645.2 1562.76 Q1648.39 1563.56 1651.85 1563.56 Q1657.9 1563.56 1661.05 1561.17 Q1664.24 1558.78 1664.24 1554.23 Q1664.24 1550.03 1661.28 1547.67 Q1658.35 1545.29 1653.1 1545.29 L1647.56 1545.29 L1647.56 1540 L1653.35 1540 Q1658.09 1540 1660.61 1538.13 Q1663.12 1536.22 1663.12 1532.65 Q1663.12 1528.99 1660.51 1527.05 Q1657.93 1525.08 1653.1 1525.08 Q1650.45 1525.08 1647.43 1525.65 Q1644.41 1526.22 1640.78 1527.43 L1640.78 1521.7 Q1644.44 1520.68 1647.62 1520.17 Q1650.84 1519.66 1653.67 1519.66 Q1660.99 1519.66 1665.25 1523.01 Q1669.52 1526.32 1669.52 1531.98 Q1669.52 1535.93 1667.26 1538.67 Q1665 1541.37 1660.83 1542.42 Z\" fill=\"#000000\" fill-rule=\"nonzero\" fill-opacity=\"1\" /><path clip-path=\"url(#clip200)\" d=\"M1681.07 1518.58 L1686.17 1518.58 Q1690.94 1526.09 1693.3 1533.29 Q1695.68 1540.48 1695.68 1547.58 Q1695.68 1554.71 1693.3 1561.93 Q1690.94 1569.16 1686.17 1576.64 L1681.07 1576.64 Q1685.31 1569.35 1687.38 1562.16 Q1689.48 1554.93 1689.48 1547.58 Q1689.48 1540.23 1687.38 1533.06 Q1685.31 1525.9 1681.07 1518.58 Z\" fill=\"#000000\" fill-rule=\"nonzero\" fill-opacity=\"1\" /><polyline clip-path=\"url(#clip202)\" style=\"stroke:#000000; stroke-linecap:round; stroke-linejoin:round; stroke-width:2; stroke-opacity:0.1; fill:none\" points=\"217.783,1311.26 2352.76,1311.26 \"/>\n",
       "<polyline clip-path=\"url(#clip202)\" style=\"stroke:#000000; stroke-linecap:round; stroke-linejoin:round; stroke-width:2; stroke-opacity:0.1; fill:none\" points=\"217.783,1075.43 2352.76,1075.43 \"/>\n",
       "<polyline clip-path=\"url(#clip202)\" style=\"stroke:#000000; stroke-linecap:round; stroke-linejoin:round; stroke-width:2; stroke-opacity:0.1; fill:none\" points=\"217.783,839.606 2352.76,839.606 \"/>\n",
       "<polyline clip-path=\"url(#clip202)\" style=\"stroke:#000000; stroke-linecap:round; stroke-linejoin:round; stroke-width:2; stroke-opacity:0.1; fill:none\" points=\"217.783,603.781 2352.76,603.781 \"/>\n",
       "<polyline clip-path=\"url(#clip202)\" style=\"stroke:#000000; stroke-linecap:round; stroke-linejoin:round; stroke-width:2; stroke-opacity:0.1; fill:none\" points=\"217.783,367.956 2352.76,367.956 \"/>\n",
       "<polyline clip-path=\"url(#clip202)\" style=\"stroke:#000000; stroke-linecap:round; stroke-linejoin:round; stroke-width:2; stroke-opacity:0.1; fill:none\" points=\"217.783,132.131 2352.76,132.131 \"/>\n",
       "<polyline clip-path=\"url(#clip200)\" style=\"stroke:#000000; stroke-linecap:round; stroke-linejoin:round; stroke-width:4; stroke-opacity:1; fill:none\" points=\"217.783,1423.18 217.783,47.2441 \"/>\n",
       "<polyline clip-path=\"url(#clip200)\" style=\"stroke:#000000; stroke-linecap:round; stroke-linejoin:round; stroke-width:4; stroke-opacity:1; fill:none\" points=\"217.783,1311.26 236.681,1311.26 \"/>\n",
       "<polyline clip-path=\"url(#clip200)\" style=\"stroke:#000000; stroke-linecap:round; stroke-linejoin:round; stroke-width:4; stroke-opacity:1; fill:none\" points=\"217.783,1075.43 236.681,1075.43 \"/>\n",
       "<polyline clip-path=\"url(#clip200)\" style=\"stroke:#000000; stroke-linecap:round; stroke-linejoin:round; stroke-width:4; stroke-opacity:1; fill:none\" points=\"217.783,839.606 236.681,839.606 \"/>\n",
       "<polyline clip-path=\"url(#clip200)\" style=\"stroke:#000000; stroke-linecap:round; stroke-linejoin:round; stroke-width:4; stroke-opacity:1; fill:none\" points=\"217.783,603.781 236.681,603.781 \"/>\n",
       "<polyline clip-path=\"url(#clip200)\" style=\"stroke:#000000; stroke-linecap:round; stroke-linejoin:round; stroke-width:4; stroke-opacity:1; fill:none\" points=\"217.783,367.956 236.681,367.956 \"/>\n",
       "<polyline clip-path=\"url(#clip200)\" style=\"stroke:#000000; stroke-linecap:round; stroke-linejoin:round; stroke-width:4; stroke-opacity:1; fill:none\" points=\"217.783,132.131 236.681,132.131 \"/>\n",
       "<path clip-path=\"url(#clip200)\" d=\"M115.418 1324.6 L123.056 1324.6 L123.056 1298.24 L114.746 1299.9 L114.746 1295.64 L123.01 1293.98 L127.686 1293.98 L127.686 1324.6 L135.325 1324.6 L135.325 1328.54 L115.418 1328.54 L115.418 1324.6 Z\" fill=\"#000000\" fill-rule=\"nonzero\" fill-opacity=\"1\" /><path clip-path=\"url(#clip200)\" d=\"M144.769 1322.66 L149.653 1322.66 L149.653 1328.54 L144.769 1328.54 L144.769 1322.66 Z\" fill=\"#000000\" fill-rule=\"nonzero\" fill-opacity=\"1\" /><path clip-path=\"url(#clip200)\" d=\"M169.839 1297.06 Q166.227 1297.06 164.399 1300.62 Q162.593 1304.16 162.593 1311.29 Q162.593 1318.4 164.399 1321.96 Q166.227 1325.5 169.839 1325.5 Q173.473 1325.5 175.278 1321.96 Q177.107 1318.4 177.107 1311.29 Q177.107 1304.16 175.278 1300.62 Q173.473 1297.06 169.839 1297.06 M169.839 1293.35 Q175.649 1293.35 178.704 1297.96 Q181.783 1302.54 181.783 1311.29 Q181.783 1320.02 178.704 1324.62 Q175.649 1329.21 169.839 1329.21 Q164.028 1329.21 160.95 1324.62 Q157.894 1320.02 157.894 1311.29 Q157.894 1302.54 160.95 1297.96 Q164.028 1293.35 169.839 1293.35 Z\" fill=\"#000000\" fill-rule=\"nonzero\" fill-opacity=\"1\" /><path clip-path=\"url(#clip200)\" d=\"M116.644 1088.78 L124.283 1088.78 L124.283 1062.41 L115.973 1064.08 L115.973 1059.82 L124.237 1058.15 L128.913 1058.15 L128.913 1088.78 L136.552 1088.78 L136.552 1092.71 L116.644 1092.71 L116.644 1088.78 Z\" fill=\"#000000\" fill-rule=\"nonzero\" fill-opacity=\"1\" /><path clip-path=\"url(#clip200)\" d=\"M145.996 1086.83 L150.88 1086.83 L150.88 1092.71 L145.996 1092.71 L145.996 1086.83 Z\" fill=\"#000000\" fill-rule=\"nonzero\" fill-opacity=\"1\" /><path clip-path=\"url(#clip200)\" d=\"M161.876 1088.78 L169.514 1088.78 L169.514 1062.41 L161.204 1064.08 L161.204 1059.82 L169.468 1058.15 L174.144 1058.15 L174.144 1088.78 L181.783 1088.78 L181.783 1092.71 L161.876 1092.71 L161.876 1088.78 Z\" fill=\"#000000\" fill-rule=\"nonzero\" fill-opacity=\"1\" /><path clip-path=\"url(#clip200)\" d=\"M117.015 852.951 L124.654 852.951 L124.654 826.586 L116.343 828.252 L116.343 823.993 L124.607 822.326 L129.283 822.326 L129.283 852.951 L136.922 852.951 L136.922 856.886 L117.015 856.886 L117.015 852.951 Z\" fill=\"#000000\" fill-rule=\"nonzero\" fill-opacity=\"1\" /><path clip-path=\"url(#clip200)\" d=\"M146.366 851.007 L151.251 851.007 L151.251 856.886 L146.366 856.886 L146.366 851.007 Z\" fill=\"#000000\" fill-rule=\"nonzero\" fill-opacity=\"1\" /><path clip-path=\"url(#clip200)\" d=\"M165.464 852.951 L181.783 852.951 L181.783 856.886 L159.839 856.886 L159.839 852.951 Q162.501 850.197 167.084 845.567 Q171.69 840.914 172.871 839.572 Q175.116 837.049 175.996 835.312 Q176.899 833.553 176.899 831.863 Q176.899 829.109 174.954 827.373 Q173.033 825.637 169.931 825.637 Q167.732 825.637 165.278 826.4 Q162.848 827.164 160.07 828.715 L160.07 823.993 Q162.894 822.859 165.348 822.28 Q167.802 821.701 169.839 821.701 Q175.209 821.701 178.403 824.387 Q181.598 827.072 181.598 831.562 Q181.598 833.692 180.788 835.613 Q180.001 837.512 177.894 840.104 Q177.315 840.775 174.214 843.993 Q171.112 847.187 165.464 852.951 Z\" fill=\"#000000\" fill-rule=\"nonzero\" fill-opacity=\"1\" /><path clip-path=\"url(#clip200)\" d=\"M116.066 617.126 L123.705 617.126 L123.705 590.76 L115.394 592.427 L115.394 588.168 L123.658 586.501 L128.334 586.501 L128.334 617.126 L135.973 617.126 L135.973 621.061 L116.066 621.061 L116.066 617.126 Z\" fill=\"#000000\" fill-rule=\"nonzero\" fill-opacity=\"1\" /><path clip-path=\"url(#clip200)\" d=\"M145.417 615.182 L150.302 615.182 L150.302 621.061 L145.417 621.061 L145.417 615.182 Z\" fill=\"#000000\" fill-rule=\"nonzero\" fill-opacity=\"1\" /><path clip-path=\"url(#clip200)\" d=\"M174.653 602.427 Q178.01 603.145 179.885 605.413 Q181.783 607.682 181.783 611.015 Q181.783 616.131 178.264 618.932 Q174.746 621.732 168.264 621.732 Q166.089 621.732 163.774 621.293 Q161.482 620.876 159.028 620.019 L159.028 615.506 Q160.973 616.64 163.288 617.219 Q165.602 617.797 168.126 617.797 Q172.524 617.797 174.815 616.061 Q177.13 614.325 177.13 611.015 Q177.13 607.959 174.977 606.246 Q172.848 604.51 169.028 604.51 L165.001 604.51 L165.001 600.668 L169.214 600.668 Q172.663 600.668 174.491 599.302 Q176.32 597.913 176.32 595.321 Q176.32 592.659 174.422 591.246 Q172.547 589.811 169.028 589.811 Q167.107 589.811 164.908 590.228 Q162.709 590.645 160.07 591.524 L160.07 587.358 Q162.732 586.617 165.047 586.247 Q167.385 585.876 169.445 585.876 Q174.769 585.876 177.871 588.307 Q180.973 590.714 180.973 594.834 Q180.973 597.705 179.329 599.696 Q177.686 601.663 174.653 602.427 Z\" fill=\"#000000\" fill-rule=\"nonzero\" fill-opacity=\"1\" /><path clip-path=\"url(#clip200)\" d=\"M114.931 381.301 L122.57 381.301 L122.57 354.935 L114.26 356.602 L114.26 352.343 L122.524 350.676 L127.2 350.676 L127.2 381.301 L134.839 381.301 L134.839 385.236 L114.931 385.236 L114.931 381.301 Z\" fill=\"#000000\" fill-rule=\"nonzero\" fill-opacity=\"1\" /><path clip-path=\"url(#clip200)\" d=\"M144.283 379.356 L149.167 379.356 L149.167 385.236 L144.283 385.236 L144.283 379.356 Z\" fill=\"#000000\" fill-rule=\"nonzero\" fill-opacity=\"1\" /><path clip-path=\"url(#clip200)\" d=\"M172.2 354.75 L160.394 373.199 L172.2 373.199 L172.2 354.75 M170.973 350.676 L176.852 350.676 L176.852 373.199 L181.783 373.199 L181.783 377.088 L176.852 377.088 L176.852 385.236 L172.2 385.236 L172.2 377.088 L156.598 377.088 L156.598 372.574 L170.973 350.676 Z\" fill=\"#000000\" fill-rule=\"nonzero\" fill-opacity=\"1\" /><path clip-path=\"url(#clip200)\" d=\"M116.413 145.475 L124.052 145.475 L124.052 119.11 L115.742 120.776 L115.742 116.517 L124.005 114.851 L128.681 114.851 L128.681 145.475 L136.32 145.475 L136.32 149.411 L116.413 149.411 L116.413 145.475 Z\" fill=\"#000000\" fill-rule=\"nonzero\" fill-opacity=\"1\" /><path clip-path=\"url(#clip200)\" d=\"M145.765 143.531 L150.649 143.531 L150.649 149.411 L145.765 149.411 L145.765 143.531 Z\" fill=\"#000000\" fill-rule=\"nonzero\" fill-opacity=\"1\" /><path clip-path=\"url(#clip200)\" d=\"M160.88 114.851 L179.237 114.851 L179.237 118.786 L165.163 118.786 L165.163 127.258 Q166.181 126.911 167.2 126.749 Q168.218 126.563 169.237 126.563 Q175.024 126.563 178.403 129.735 Q181.783 132.906 181.783 138.323 Q181.783 143.901 178.311 147.003 Q174.839 150.082 168.519 150.082 Q166.343 150.082 164.075 149.712 Q161.829 149.341 159.422 148.6 L159.422 143.901 Q161.505 145.036 163.727 145.591 Q165.95 146.147 168.427 146.147 Q172.431 146.147 174.769 144.04 Q177.107 141.934 177.107 138.323 Q177.107 134.712 174.769 132.605 Q172.431 130.499 168.427 130.499 Q166.552 130.499 164.677 130.915 Q162.825 131.332 160.88 132.212 L160.88 114.851 Z\" fill=\"#000000\" fill-rule=\"nonzero\" fill-opacity=\"1\" /><path clip-path=\"url(#clip200)\" d=\"M16.4842 949.593 L16.4842 943.1 L56.6518 933.106 L16.4842 923.144 L16.4842 915.918 L56.6518 905.924 L16.4842 895.962 L16.4842 889.437 L64.0042 901.373 L64.0042 909.457 L22.7544 919.483 L64.0042 929.605 L64.0042 937.689 L16.4842 949.593 Z\" fill=\"#000000\" fill-rule=\"nonzero\" fill-opacity=\"1\" /><path clip-path=\"url(#clip200)\" d=\"M44.7161 854.489 L47.5806 854.489 L47.5806 881.416 Q53.6281 881.034 56.8109 877.788 Q59.9619 874.51 59.9619 868.685 Q59.9619 865.311 59.1344 862.16 Q58.3069 858.977 56.6518 855.858 L62.1899 855.858 Q63.5267 859.009 64.227 862.319 Q64.9272 865.629 64.9272 869.035 Q64.9272 877.565 59.9619 882.562 Q54.9967 887.527 46.5303 887.527 Q37.7774 887.527 32.6531 882.817 Q27.4968 878.074 27.4968 870.054 Q27.4968 862.86 32.1438 858.691 Q36.7589 854.489 44.7161 854.489 M42.9973 860.346 Q38.1912 860.41 35.3266 863.051 Q32.4621 865.661 32.4621 869.99 Q32.4621 874.891 35.2312 877.852 Q38.0002 880.78 43.0292 881.225 L42.9973 860.346 Z\" fill=\"#000000\" fill-rule=\"nonzero\" fill-opacity=\"1\" /><path clip-path=\"url(#clip200)\" d=\"M46.0847 828.676 Q46.0847 835.774 47.7079 838.511 Q49.3312 841.249 53.2461 841.249 Q56.3653 841.249 58.2114 839.212 Q60.0256 837.143 60.0256 833.61 Q60.0256 828.74 56.5881 825.812 Q53.1188 822.852 47.3897 822.852 L46.0847 822.852 L46.0847 828.676 M43.6657 816.995 L64.0042 816.995 L64.0042 822.852 L58.5933 822.852 Q61.8398 824.857 63.3994 827.849 Q64.9272 830.841 64.9272 835.169 Q64.9272 840.644 61.8716 843.89 Q58.7843 847.105 53.6281 847.105 Q47.6125 847.105 44.5569 843.095 Q41.5014 839.053 41.5014 831.064 L41.5014 822.852 L40.9285 822.852 Q36.8862 822.852 34.6901 825.525 Q32.4621 828.167 32.4621 832.973 Q32.4621 836.029 33.1941 838.925 Q33.9262 841.822 35.3903 844.495 L29.9795 844.495 Q28.7381 841.281 28.1334 838.257 Q27.4968 835.233 27.4968 832.369 Q27.4968 824.634 31.5072 820.815 Q35.5176 816.995 43.6657 816.995 Z\" fill=\"#000000\" fill-rule=\"nonzero\" fill-opacity=\"1\" /><path clip-path=\"url(#clip200)\" d=\"M14.479 804.932 L14.479 799.076 L64.0042 799.076 L64.0042 804.932 L14.479 804.932 Z\" fill=\"#000000\" fill-rule=\"nonzero\" fill-opacity=\"1\" /><path clip-path=\"url(#clip200)\" d=\"M18.2347 781.029 L28.3562 781.029 L28.3562 768.966 L32.9077 768.966 L32.9077 781.029 L52.2594 781.029 Q56.6199 781.029 57.8613 779.851 Q59.1026 778.642 59.1026 774.982 L59.1026 768.966 L64.0042 768.966 L64.0042 774.982 Q64.0042 781.761 61.4897 784.339 Q58.9434 786.917 52.2594 786.917 L32.9077 786.917 L32.9077 791.214 L28.3562 791.214 L28.3562 786.917 L18.2347 786.917 L18.2347 781.029 Z\" fill=\"#000000\" fill-rule=\"nonzero\" fill-opacity=\"1\" /><path clip-path=\"url(#clip200)\" d=\"M42.4881 731.631 L64.0042 731.631 L64.0042 737.488 L42.679 737.488 Q37.6183 737.488 35.1038 739.461 Q32.5894 741.434 32.5894 745.381 Q32.5894 750.124 35.6131 752.861 Q38.6368 755.598 43.8567 755.598 L64.0042 755.598 L64.0042 761.486 L14.479 761.486 L14.479 755.598 L33.8944 755.598 Q30.6797 753.497 29.0883 750.665 Q27.4968 747.8 27.4968 744.076 Q27.4968 737.933 31.3163 734.782 Q35.1038 731.631 42.4881 731.631 Z\" fill=\"#000000\" fill-rule=\"nonzero\" fill-opacity=\"1\" /><path clip-path=\"url(#clip200)\" d=\"M14.5426 685.162 Q21.8632 689.427 29.0246 691.495 Q36.186 693.564 43.5384 693.564 Q50.8908 693.564 58.1159 691.495 Q65.3091 689.395 72.5979 685.162 L72.5979 690.254 Q65.1182 695.028 57.8931 697.416 Q50.668 699.771 43.5384 699.771 Q36.4406 699.771 29.2474 697.416 Q22.0542 695.06 14.5426 690.254 L14.5426 685.162 Z\" fill=\"#000000\" fill-rule=\"nonzero\" fill-opacity=\"1\" /><path clip-path=\"url(#clip200)\" d=\"M16.4842 674.276 L16.4842 667.815 L45.3526 667.815 Q52.9915 667.815 56.3653 665.046 Q59.7073 662.277 59.7073 656.07 Q59.7073 649.896 56.3653 647.127 Q52.9915 644.357 45.3526 644.357 L16.4842 644.357 L16.4842 637.896 L46.1484 637.896 Q55.4423 637.896 60.1847 642.511 Q64.9272 647.095 64.9272 656.07 Q64.9272 665.078 60.1847 669.693 Q55.4423 674.276 46.1484 674.276 L16.4842 674.276 Z\" fill=\"#000000\" fill-rule=\"nonzero\" fill-opacity=\"1\" /><path clip-path=\"url(#clip200)\" d=\"M18.0438 597.347 L24.314 597.347 Q22.5634 601.007 21.704 604.253 Q20.8447 607.5 20.8447 610.524 Q20.8447 615.775 22.8817 618.64 Q24.9187 621.473 28.6745 621.473 Q31.8255 621.473 33.4488 619.595 Q35.0402 617.685 36.0269 612.402 L36.8226 608.518 Q38.1912 601.325 41.6605 597.92 Q45.098 594.482 50.8908 594.482 Q57.7976 594.482 61.3624 599.129 Q64.9272 603.744 64.9272 612.688 Q64.9272 616.062 64.1633 619.881 Q63.3994 623.669 61.9035 627.743 L55.2831 627.743 Q57.4793 623.828 58.5933 620.072 Q59.7073 616.316 59.7073 612.688 Q59.7073 607.182 57.543 604.19 Q55.3786 601.198 51.3682 601.198 Q47.8671 601.198 45.8937 603.362 Q43.9204 605.495 42.9337 610.396 L42.1698 614.311 Q40.7375 621.505 37.682 624.719 Q34.6264 627.934 29.1837 627.934 Q22.8817 627.934 19.2532 623.51 Q15.6248 619.054 15.6248 611.256 Q15.6248 607.914 16.2295 604.444 Q16.8343 600.975 18.0438 597.347 Z\" fill=\"#000000\" fill-rule=\"nonzero\" fill-opacity=\"1\" /><path clip-path=\"url(#clip200)\" d=\"M21.7677 578.027 L58.7206 578.027 L58.7206 570.261 Q58.7206 560.426 54.2646 555.874 Q49.8086 551.291 40.1964 551.291 Q30.6479 551.291 26.2237 555.874 Q21.7677 560.426 21.7677 570.261 L21.7677 578.027 M16.4842 584.456 L16.4842 571.247 Q16.4842 557.434 22.2451 550.973 Q27.9743 544.511 40.1964 544.511 Q52.4822 544.511 58.2432 551.004 Q64.0042 557.497 64.0042 571.247 L64.0042 584.456 L16.4842 584.456 Z\" fill=\"#000000\" fill-rule=\"nonzero\" fill-opacity=\"1\" /><path clip-path=\"url(#clip200)\" d=\"M14.5426 535.44 L14.5426 530.348 Q22.0542 525.573 29.2474 523.218 Q36.4406 520.831 43.5384 520.831 Q50.668 520.831 57.8931 523.218 Q65.1182 525.573 72.5979 530.348 L72.5979 535.44 Q65.3091 531.207 58.1159 529.138 Q50.8908 527.037 43.5384 527.037 Q36.186 527.037 29.0246 529.138 Q21.8632 531.207 14.5426 535.44 Z\" fill=\"#000000\" fill-rule=\"nonzero\" fill-opacity=\"1\" /><polyline clip-path=\"url(#clip202)\" style=\"stroke:#ff0000; stroke-linecap:round; stroke-linejoin:round; stroke-width:12; stroke-opacity:1; fill:none\" points=\"278.207,1311.26 295.132,1363.83 312.058,1313.59 328.983,1285.95 345.908,1263.55 362.834,1185.79 379.759,1169.22 396.685,1151.27 413.61,1166.8 430.536,1203.09 447.461,1217.59 464.386,1118.11 481.312,1077.63 498.237,1104.02 515.163,1127.51 532.088,1064.8 549.013,1070.07 565.939,1122.72 582.864,1072.47 599.79,1020.19 616.715,869.979 633.641,957.769 650.566,1006.03 667.491,922.47 684.417,1002.95 701.342,1063.07 718.268,1070.97 735.193,1015.89 752.119,1010.62 769.044,998.766 785.969,1060.44 802.895,1098.95 819.82,1173.5 836.746,1184.26 853.671,1173.22 870.597,1225.34 887.522,1218.59 904.447,1218.04 921.373,1232.24 938.298,1185.97 955.224,1142.04 972.149,1134.95 989.075,1164.22 1006,1154.57 1022.93,1174.25 1039.85,1196.23 1056.78,1166.1 1073.7,1092.85 1090.63,1045.5 1107.55,925.854 1124.48,912.062 1141.4,961.29 1158.33,926.069 1175.25,956.371 1192.18,905.483 1209.11,891.783 1226.03,933.931 1242.96,952.365 1259.88,880.667 1276.81,854.126 1293.73,803.242 1310.66,801.615 1327.58,791.109 1344.51,819.808 1361.43,757.348 1378.36,784.462 1395.28,829.887 1412.21,846.612 1429.14,778.713 1446.06,788.778 1462.99,794.148 1479.91,811.528 1496.84,814.131 1513.76,824.238 1530.69,821.559 1547.61,845.071 1564.54,913.663 1581.46,817.179 1598.39,717.721 1615.32,707.736 1632.24,743.446 1649.17,757.943 1666.09,748.053 1683.02,739.93 1699.94,707.565 1716.87,704.465 1733.79,720.538 1750.72,654.994 1767.64,640.579 1784.57,644.54 1801.49,632.774 1818.42,600.899 1835.35,578.329 1852.27,521.971 1869.2,528.436 1886.12,497.48 1903.05,552.627 1919.97,570.949 1936.9,530.959 1953.82,449.31 1970.75,441.14 1987.67,444.782 2004.6,415.732 2021.53,389.029 2038.45,394.364 2055.38,373.401 2072.3,469.106 2089.23,442.914 2106.15,445.369 2123.08,374.95 2140,351.013 2156.93,314.279 2173.85,251.895 2190.78,287.017 2207.71,326.175 2224.63,398.827 2241.56,335.836 2258.48,360.844 2275.41,418.9 2292.33,375.181 \"/>\n",
       "<polyline clip-path=\"url(#clip202)\" style=\"stroke:#0000ff; stroke-linecap:round; stroke-linejoin:round; stroke-width:12; stroke-opacity:1; fill:none\" points=\"278.207,1311.26 295.132,1297.69 312.058,1315.56 328.983,1284.71 345.908,1253.04 362.834,1260.96 379.759,1234.85 396.685,1216.21 413.61,1212.95 430.536,1204.54 447.461,1227.08 464.386,1259.82 481.312,1239.25 498.237,1194.8 515.163,1193.78 532.088,1206.66 549.013,1177.2 565.939,1157.54 582.864,1179.59 599.79,1167.62 616.715,1144.7 633.641,1097.29 650.566,1108.14 667.491,1131.53 684.417,1119.15 701.342,1119.56 718.268,1132.74 735.193,1149.99 752.119,1122.89 769.044,1118.33 785.969,1117.48 802.895,1129.49 819.82,1155.41 836.746,1186.3 853.671,1200.12 870.597,1195.73 887.522,1219.34 904.447,1201.86 921.373,1209.34 938.298,1223.48 955.224,1221.69 972.149,1180.63 989.075,1159.77 1006,1191.02 1022.93,1204.16 1039.85,1221.67 1056.78,1265.75 1073.7,1279.49 1090.63,1253.94 1107.55,1272.85 1124.48,1236.77 1141.4,1247.74 1158.33,1240.7 1175.25,1211.35 1192.18,1208.22 1209.11,1226.96 1226.03,1236.02 1242.96,1212.34 1259.88,1222.72 1276.81,1194.16 1293.73,1173.41 1310.66,1148.42 1327.58,1131.22 1344.51,1136.46 1361.43,1148.01 1378.36,1143.22 1395.28,1143.35 1412.21,1131.36 1429.14,1133.29 1446.06,1120.84 1462.99,1117.48 1479.91,1115.45 1496.84,1106.26 1513.76,1108.8 1530.69,1118.99 1547.61,1120.56 1564.54,1118.59 1581.46,1142.07 1598.39,1158.71 1615.32,1130.84 1632.24,1104.23 1649.17,1093.05 1666.09,1124.83 1683.02,1127.83 1699.94,1159.4 1716.87,1123.84 1733.79,1115.93 1750.72,1123.08 1767.64,1119.31 1784.57,1122.03 1801.49,1124.32 1818.42,1118.35 1835.35,1122.95 1852.27,1110.24 1869.2,1087.01 1886.12,1075.62 1903.05,1075.53 1919.97,1094.99 1936.9,1123.88 1953.82,1107.26 1970.75,1076.32 1987.67,1066.81 2004.6,1081.86 2021.53,1066.69 2038.45,1027.23 2055.38,1020.11 2072.3,1022.62 2089.23,1024.14 2106.15,1018.22 2123.08,1006.24 2140,995.556 2156.93,970.504 2173.85,966.036 2190.78,941.392 2207.71,939.733 2224.63,963.436 2241.56,973.22 2258.48,973.934 2275.41,983.811 2292.33,992.1 \"/>\n",
       "<polyline clip-path=\"url(#clip202)\" style=\"stroke:#008000; stroke-linecap:round; stroke-linejoin:round; stroke-width:12; stroke-opacity:1; fill:none\" points=\"278.207,1311.26 295.132,1384.24 312.058,1304.34 328.983,1221.44 345.908,1190.31 362.834,1122.1 379.759,1100.62 396.685,1076.69 413.61,1093.76 430.536,1130.61 447.461,1158.8 464.386,1044.33 481.312,1003.69 498.237,1030.08 515.163,1054.11 532.088,989.649 549.013,994.614 565.939,1048.71 582.864,995.192 599.79,941.21 616.715,787.802 633.641,874.732 650.566,924.034 667.491,837.373 684.417,918.589 701.342,980.867 718.268,988.989 735.193,931.52 752.119,926.202 769.044,912.71 785.969,975.895 802.895,1015.15 819.82,1087.14 836.746,1089.87 853.671,1044.71 870.597,1099.71 887.522,1087.91 904.447,1091.64 921.373,1120.68 938.298,1074.17 955.224,1024.76 972.149,1017.81 989.075,1046.44 1006,1031.7 1022.93,1062.18 1039.85,1096.83 1056.78,1066.38 1073.7,984.189 1090.63,936.161 1107.55,812.357 1124.48,798.021 1141.4,848.906 1158.33,812.501 1175.25,844.036 1192.18,790.621 1209.11,776.267 1226.03,819.714 1242.96,838.819 1259.88,763.389 1276.81,736.236 1293.73,682.828 1310.66,680.868 1327.58,669.87 1344.51,699.609 1361.43,633.943 1378.36,662.164 1395.28,709.393 1412.21,727.064 1429.14,655.591 1446.06,665.74 1462.99,671.257 1479.91,689.563 1496.84,692.185 1513.76,702.382 1530.69,699.873 1547.61,724.356 1564.54,795.795 1581.46,691.307 1598.39,587.587 1615.32,575.332 1632.24,613.38 1649.17,629.187 1666.09,617.354 1683.02,608.796 1699.94,575.834 1716.87,571.466 1733.79,588.664 1750.72,520.478 1767.64,506.568 1784.57,510.274 1801.49,495.721 1818.42,464.429 1835.35,442.562 1852.27,382.757 1869.2,388.447 1886.12,356.101 1903.05,414.167 1919.97,434.146 1936.9,398.845 1953.82,309.027 1970.75,296.559 1987.67,295.079 2004.6,266.276 2021.53,238.617 2038.45,248.303 2055.38,222.758 2072.3,318.636 2089.23,290.742 2106.15,294.213 2123.08,217.934 2140,191.666 2156.93,151.069 2173.85,86.1857 2190.78,121.897 2207.71,163.326 2224.63,241.371 2241.56,177.238 2258.48,202.064 2275.41,261.5 2292.33,215.852 \"/>\n",
       "<path clip-path=\"url(#clip200)\" d=\"M288.949 300.469 L1224.48 300.469 L1224.48 93.1086 L288.949 93.1086  Z\" fill=\"#ffffff\" fill-rule=\"evenodd\" fill-opacity=\"1\"/>\n",
       "<polyline clip-path=\"url(#clip200)\" style=\"stroke:#000000; stroke-linecap:round; stroke-linejoin:round; stroke-width:4; stroke-opacity:1; fill:none\" points=\"288.949,300.469 1224.48,300.469 1224.48,93.1086 288.949,93.1086 288.949,300.469 \"/>\n",
       "<polyline clip-path=\"url(#clip200)\" style=\"stroke:#ff0000; stroke-linecap:round; stroke-linejoin:round; stroke-width:12; stroke-opacity:1; fill:none\" points=\"312.671,144.949 455.002,144.949 \"/>\n",
       "<path clip-path=\"url(#clip200)\" d=\"M483.4 131.511 L483.4 144.497 L489.28 144.497 Q492.543 144.497 494.326 142.807 Q496.108 141.118 496.108 137.993 Q496.108 134.891 494.326 133.201 Q492.543 131.511 489.28 131.511 L483.4 131.511 M478.724 127.669 L489.28 127.669 Q495.09 127.669 498.053 130.307 Q501.039 132.923 501.039 137.993 Q501.039 143.108 498.053 145.724 Q495.09 148.34 489.28 148.34 L483.4 148.34 L483.4 162.229 L478.724 162.229 L478.724 127.669 Z\" fill=\"#000000\" fill-rule=\"nonzero\" fill-opacity=\"1\" /><path clip-path=\"url(#clip200)\" d=\"M515.483 139.289 Q512.057 139.289 510.067 141.974 Q508.076 144.636 508.076 149.289 Q508.076 153.942 510.043 156.627 Q512.034 159.289 515.483 159.289 Q518.886 159.289 520.877 156.604 Q522.867 153.918 522.867 149.289 Q522.867 144.682 520.877 141.997 Q518.886 139.289 515.483 139.289 M515.483 135.678 Q521.039 135.678 524.21 139.289 Q527.381 142.9 527.381 149.289 Q527.381 155.655 524.21 159.289 Q521.039 162.9 515.483 162.9 Q509.904 162.9 506.733 159.289 Q503.585 155.655 503.585 149.289 Q503.585 142.9 506.733 139.289 Q509.904 135.678 515.483 135.678 Z\" fill=\"#000000\" fill-rule=\"nonzero\" fill-opacity=\"1\" /><path clip-path=\"url(#clip200)\" d=\"M549.464 140.284 Q548.747 139.868 547.89 139.682 Q547.057 139.474 546.039 139.474 Q542.427 139.474 540.483 141.835 Q538.562 144.173 538.562 148.571 L538.562 162.229 L534.279 162.229 L534.279 136.303 L538.562 136.303 L538.562 140.331 Q539.904 137.969 542.057 136.835 Q544.21 135.678 547.289 135.678 Q547.728 135.678 548.261 135.747 Q548.793 135.794 549.441 135.909 L549.464 140.284 Z\" fill=\"#000000\" fill-rule=\"nonzero\" fill-opacity=\"1\" /><path clip-path=\"url(#clip200)\" d=\"M558.145 128.942 L558.145 136.303 L566.918 136.303 L566.918 139.613 L558.145 139.613 L558.145 153.687 Q558.145 156.858 559.001 157.761 Q559.881 158.664 562.543 158.664 L566.918 158.664 L566.918 162.229 L562.543 162.229 Q557.613 162.229 555.738 160.4 Q553.863 158.548 553.863 153.687 L553.863 139.613 L550.738 139.613 L550.738 136.303 L553.863 136.303 L553.863 128.942 L558.145 128.942 Z\" fill=\"#000000\" fill-rule=\"nonzero\" fill-opacity=\"1\" /><path clip-path=\"url(#clip200)\" d=\"M585.645 126.21 L585.645 129.752 L581.571 129.752 Q579.279 129.752 578.376 130.678 Q577.497 131.604 577.497 134.011 L577.497 136.303 L584.511 136.303 L584.511 139.613 L577.497 139.613 L577.497 162.229 L573.214 162.229 L573.214 139.613 L569.14 139.613 L569.14 136.303 L573.214 136.303 L573.214 134.497 Q573.214 130.169 575.228 128.201 Q577.242 126.21 581.617 126.21 L585.645 126.21 Z\" fill=\"#000000\" fill-rule=\"nonzero\" fill-opacity=\"1\" /><path clip-path=\"url(#clip200)\" d=\"M599.256 139.289 Q595.83 139.289 593.839 141.974 Q591.848 144.636 591.848 149.289 Q591.848 153.942 593.816 156.627 Q595.807 159.289 599.256 159.289 Q602.659 159.289 604.649 156.604 Q606.64 153.918 606.64 149.289 Q606.64 144.682 604.649 141.997 Q602.659 139.289 599.256 139.289 M599.256 135.678 Q604.811 135.678 607.983 139.289 Q611.154 142.9 611.154 149.289 Q611.154 155.655 607.983 159.289 Q604.811 162.9 599.256 162.9 Q593.677 162.9 590.506 159.289 Q587.358 155.655 587.358 149.289 Q587.358 142.9 590.506 139.289 Q593.677 135.678 599.256 135.678 Z\" fill=\"#000000\" fill-rule=\"nonzero\" fill-opacity=\"1\" /><path clip-path=\"url(#clip200)\" d=\"M618.214 126.21 L622.473 126.21 L622.473 162.229 L618.214 162.229 L618.214 126.21 Z\" fill=\"#000000\" fill-rule=\"nonzero\" fill-opacity=\"1\" /><path clip-path=\"url(#clip200)\" d=\"M631.385 136.303 L635.645 136.303 L635.645 162.229 L631.385 162.229 L631.385 136.303 M631.385 126.21 L635.645 126.21 L635.645 131.604 L631.385 131.604 L631.385 126.21 Z\" fill=\"#000000\" fill-rule=\"nonzero\" fill-opacity=\"1\" /><path clip-path=\"url(#clip200)\" d=\"M654.603 139.289 Q651.177 139.289 649.186 141.974 Q647.195 144.636 647.195 149.289 Q647.195 153.942 649.163 156.627 Q651.154 159.289 654.603 159.289 Q658.006 159.289 659.996 156.604 Q661.987 153.918 661.987 149.289 Q661.987 144.682 659.996 141.997 Q658.006 139.289 654.603 139.289 M654.603 135.678 Q660.158 135.678 663.33 139.289 Q666.501 142.9 666.501 149.289 Q666.501 155.655 663.33 159.289 Q660.158 162.9 654.603 162.9 Q649.024 162.9 645.853 159.289 Q642.705 155.655 642.705 149.289 Q642.705 142.9 645.853 139.289 Q649.024 135.678 654.603 135.678 Z\" fill=\"#000000\" fill-rule=\"nonzero\" fill-opacity=\"1\" /><path clip-path=\"url(#clip200)\" d=\"M690.042 158.293 L697.681 158.293 L697.681 131.928 L689.371 133.595 L689.371 129.335 L697.635 127.669 L702.311 127.669 L702.311 158.293 L709.95 158.293 L709.95 162.229 L690.042 162.229 L690.042 158.293 Z\" fill=\"#000000\" fill-rule=\"nonzero\" fill-opacity=\"1\" /><path clip-path=\"url(#clip200)\" d=\"M733.561 143.594 Q736.917 144.312 738.792 146.581 Q740.69 148.849 740.69 152.182 Q740.69 157.298 737.172 160.099 Q733.653 162.9 727.172 162.9 Q724.996 162.9 722.681 162.46 Q720.389 162.043 717.936 161.187 L717.936 156.673 Q719.88 157.807 722.195 158.386 Q724.51 158.965 727.033 158.965 Q731.431 158.965 733.723 157.229 Q736.038 155.493 736.038 152.182 Q736.038 149.127 733.885 147.414 Q731.755 145.678 727.936 145.678 L723.908 145.678 L723.908 141.835 L728.121 141.835 Q731.57 141.835 733.399 140.469 Q735.227 139.081 735.227 136.488 Q735.227 133.826 733.329 132.414 Q731.454 130.979 727.936 130.979 Q726.014 130.979 723.815 131.395 Q721.616 131.812 718.977 132.692 L718.977 128.525 Q721.639 127.784 723.954 127.414 Q726.292 127.044 728.352 127.044 Q733.676 127.044 736.778 129.474 Q739.88 131.882 739.88 136.002 Q739.88 138.872 738.237 140.863 Q736.593 142.831 733.561 143.594 Z\" fill=\"#000000\" fill-rule=\"nonzero\" fill-opacity=\"1\" /><path clip-path=\"url(#clip200)\" d=\"M774.255 126.257 Q771.153 131.581 769.648 136.789 Q768.144 141.997 768.144 147.344 Q768.144 152.692 769.648 157.946 Q771.176 163.178 774.255 168.479 L770.551 168.479 Q767.079 163.039 765.343 157.784 Q763.63 152.53 763.63 147.344 Q763.63 142.182 765.343 136.951 Q767.056 131.72 770.551 126.257 L774.255 126.257 Z\" fill=\"#000000\" fill-rule=\"nonzero\" fill-opacity=\"1\" /><path clip-path=\"url(#clip200)\" d=\"M794.301 149.196 Q789.139 149.196 787.148 150.377 Q785.158 151.557 785.158 154.405 Q785.158 156.673 786.639 158.016 Q788.144 159.335 790.713 159.335 Q794.255 159.335 796.384 156.835 Q798.537 154.312 798.537 150.145 L798.537 149.196 L794.301 149.196 M802.796 147.437 L802.796 162.229 L798.537 162.229 L798.537 158.293 Q797.079 160.655 794.903 161.789 Q792.727 162.9 789.579 162.9 Q785.597 162.9 783.236 160.678 Q780.898 158.432 780.898 154.682 Q780.898 150.307 783.815 148.085 Q786.755 145.863 792.565 145.863 L798.537 145.863 L798.537 145.446 Q798.537 142.507 796.593 140.909 Q794.671 139.289 791.176 139.289 Q788.954 139.289 786.847 139.821 Q784.741 140.354 782.797 141.419 L782.797 137.483 Q785.134 136.581 787.334 136.141 Q789.533 135.678 791.616 135.678 Q797.241 135.678 800.019 138.594 Q802.796 141.511 802.796 147.437 Z\" fill=\"#000000\" fill-rule=\"nonzero\" fill-opacity=\"1\" /><path clip-path=\"url(#clip200)\" d=\"M830.227 137.298 L830.227 141.28 Q828.421 140.284 826.593 139.798 Q824.787 139.289 822.935 139.289 Q818.792 139.289 816.5 141.928 Q814.208 144.544 814.208 149.289 Q814.208 154.034 816.5 156.673 Q818.792 159.289 822.935 159.289 Q824.787 159.289 826.593 158.803 Q828.421 158.293 830.227 157.298 L830.227 161.233 Q828.444 162.067 826.523 162.483 Q824.625 162.9 822.472 162.9 Q816.616 162.9 813.167 159.219 Q809.718 155.539 809.718 149.289 Q809.718 142.946 813.19 139.312 Q816.685 135.678 822.75 135.678 Q824.718 135.678 826.593 136.095 Q828.468 136.488 830.227 137.298 Z\" fill=\"#000000\" fill-rule=\"nonzero\" fill-opacity=\"1\" /><path clip-path=\"url(#clip200)\" d=\"M841.847 128.942 L841.847 136.303 L850.62 136.303 L850.62 139.613 L841.847 139.613 L841.847 153.687 Q841.847 156.858 842.704 157.761 Q843.583 158.664 846.245 158.664 L850.62 158.664 L850.62 162.229 L846.245 162.229 Q841.315 162.229 839.44 160.4 Q837.565 158.548 837.565 153.687 L837.565 139.613 L834.44 139.613 L834.44 136.303 L837.565 136.303 L837.565 128.942 L841.847 128.942 Z\" fill=\"#000000\" fill-rule=\"nonzero\" fill-opacity=\"1\" /><path clip-path=\"url(#clip200)\" d=\"M855.782 151.997 L855.782 136.303 L860.041 136.303 L860.041 151.835 Q860.041 155.516 861.477 157.368 Q862.912 159.196 865.782 159.196 Q869.231 159.196 871.222 156.997 Q873.236 154.798 873.236 151.002 L873.236 136.303 L877.495 136.303 L877.495 162.229 L873.236 162.229 L873.236 158.247 Q871.685 160.608 869.625 161.766 Q867.588 162.9 864.879 162.9 Q860.412 162.9 858.097 160.122 Q855.782 157.344 855.782 151.997 M866.5 135.678 L866.5 135.678 Z\" fill=\"#000000\" fill-rule=\"nonzero\" fill-opacity=\"1\" /><path clip-path=\"url(#clip200)\" d=\"M898.051 149.196 Q892.889 149.196 890.898 150.377 Q888.907 151.557 888.907 154.405 Q888.907 156.673 890.389 158.016 Q891.893 159.335 894.463 159.335 Q898.004 159.335 900.134 156.835 Q902.287 154.312 902.287 150.145 L902.287 149.196 L898.051 149.196 M906.546 147.437 L906.546 162.229 L902.287 162.229 L902.287 158.293 Q900.828 160.655 898.652 161.789 Q896.476 162.9 893.328 162.9 Q889.347 162.9 886.986 160.678 Q884.648 158.432 884.648 154.682 Q884.648 150.307 887.564 148.085 Q890.504 145.863 896.314 145.863 L902.287 145.863 L902.287 145.446 Q902.287 142.507 900.342 140.909 Q898.421 139.289 894.926 139.289 Q892.703 139.289 890.597 139.821 Q888.49 140.354 886.546 141.419 L886.546 137.483 Q888.884 136.581 891.083 136.141 Q893.282 135.678 895.365 135.678 Q900.99 135.678 903.768 138.594 Q906.546 141.511 906.546 147.437 Z\" fill=\"#000000\" fill-rule=\"nonzero\" fill-opacity=\"1\" /><path clip-path=\"url(#clip200)\" d=\"M915.319 126.21 L919.578 126.21 L919.578 162.229 L915.319 162.229 L915.319 126.21 Z\" fill=\"#000000\" fill-rule=\"nonzero\" fill-opacity=\"1\" /><path clip-path=\"url(#clip200)\" d=\"M927.819 126.257 L931.523 126.257 Q934.995 131.72 936.708 136.951 Q938.444 142.182 938.444 147.344 Q938.444 152.53 936.708 157.784 Q934.995 163.039 931.523 168.479 L927.819 168.479 Q930.898 163.178 932.402 157.946 Q933.93 152.692 933.93 147.344 Q933.93 141.997 932.402 136.789 Q930.898 131.581 927.819 126.257 Z\" fill=\"#000000\" fill-rule=\"nonzero\" fill-opacity=\"1\" /><polyline clip-path=\"url(#clip200)\" style=\"stroke:#0000ff; stroke-linecap:round; stroke-linejoin:round; stroke-width:12; stroke-opacity:1; fill:none\" points=\"312.671,196.789 455.002,196.789 \"/>\n",
       "<path clip-path=\"url(#clip200)\" d=\"M500.969 180.643 L500.969 185.203 Q498.307 183.93 495.946 183.305 Q493.585 182.68 491.386 182.68 Q487.567 182.68 485.483 184.161 Q483.423 185.643 483.423 188.374 Q483.423 190.666 484.789 191.847 Q486.178 193.004 490.02 193.722 L492.844 194.3 Q498.076 195.296 500.553 197.819 Q503.053 200.319 503.053 204.532 Q503.053 209.555 499.673 212.147 Q496.317 214.74 489.812 214.74 Q487.358 214.74 484.581 214.184 Q481.826 213.629 478.863 212.541 L478.863 207.726 Q481.71 209.323 484.442 210.133 Q487.173 210.944 489.812 210.944 Q493.817 210.944 495.993 209.37 Q498.168 207.796 498.168 204.879 Q498.168 202.333 496.594 200.897 Q495.043 199.462 491.479 198.745 L488.631 198.189 Q483.4 197.147 481.062 194.925 Q478.724 192.703 478.724 188.745 Q478.724 184.161 481.942 181.522 Q485.182 178.884 490.854 178.884 Q493.284 178.884 495.807 179.323 Q498.33 179.763 500.969 180.643 Z\" fill=\"#000000\" fill-rule=\"nonzero\" fill-opacity=\"1\" /><path clip-path=\"url(#clip200)\" d=\"M515.02 183.351 L515.02 196.337 L520.9 196.337 Q524.164 196.337 525.946 194.647 Q527.728 192.958 527.728 189.833 Q527.728 186.731 525.946 185.041 Q524.164 183.351 520.9 183.351 L515.02 183.351 M510.344 179.509 L520.9 179.509 Q526.71 179.509 529.673 182.147 Q532.659 184.763 532.659 189.833 Q532.659 194.948 529.673 197.564 Q526.71 200.18 520.9 200.18 L515.02 200.18 L515.02 214.069 L510.344 214.069 L510.344 179.509 Z\" fill=\"#000000\" fill-rule=\"nonzero\" fill-opacity=\"1\" /><path clip-path=\"url(#clip200)\" d=\"M533.145 179.509 L538.168 179.509 L547.751 193.722 L557.265 179.509 L562.288 179.509 L550.066 197.61 L550.066 214.069 L545.367 214.069 L545.367 197.61 L533.145 179.509 Z\" fill=\"#000000\" fill-rule=\"nonzero\" fill-opacity=\"1\" /><polyline clip-path=\"url(#clip200)\" style=\"stroke:#008000; stroke-linecap:round; stroke-linejoin:round; stroke-width:12; stroke-opacity:1; fill:none\" points=\"312.671,248.629 455.002,248.629 \"/>\n",
       "<path clip-path=\"url(#clip200)\" d=\"M495.113 249.705 Q496.618 250.214 498.03 251.881 Q499.465 253.548 500.9 256.464 L505.645 265.909 L500.622 265.909 L496.201 257.043 Q494.488 253.571 492.868 252.436 Q491.27 251.302 488.493 251.302 L483.4 251.302 L483.4 265.909 L478.724 265.909 L478.724 231.349 L489.28 231.349 Q495.205 231.349 498.122 233.825 Q501.039 236.302 501.039 241.302 Q501.039 244.566 499.511 246.719 Q498.006 248.872 495.113 249.705 M483.4 235.191 L483.4 247.46 L489.28 247.46 Q492.659 247.46 494.372 245.909 Q496.108 244.335 496.108 241.302 Q496.108 238.27 494.372 236.742 Q492.659 235.191 489.28 235.191 L483.4 235.191 Z\" fill=\"#000000\" fill-rule=\"nonzero\" fill-opacity=\"1\" /><path clip-path=\"url(#clip200)\" d=\"M531.525 251.881 L531.525 253.964 L511.941 253.964 Q512.219 258.362 514.58 260.677 Q516.965 262.969 521.201 262.969 Q523.654 262.969 525.946 262.367 Q528.261 261.765 530.529 260.561 L530.529 264.589 Q528.238 265.561 525.83 266.071 Q523.423 266.58 520.946 266.58 Q514.742 266.58 511.108 262.969 Q507.497 259.358 507.497 253.2 Q507.497 246.835 510.923 243.108 Q514.372 239.358 520.205 239.358 Q525.437 239.358 528.469 242.737 Q531.525 246.094 531.525 251.881 M527.265 250.631 Q527.219 247.136 525.298 245.052 Q523.4 242.969 520.252 242.969 Q516.687 242.969 514.534 244.983 Q512.404 246.997 512.08 250.654 L527.265 250.631 Z\" fill=\"#000000\" fill-rule=\"nonzero\" fill-opacity=\"1\" /><path clip-path=\"url(#clip200)\" d=\"M550.298 252.876 Q545.136 252.876 543.145 254.057 Q541.154 255.237 541.154 258.085 Q541.154 260.353 542.636 261.696 Q544.14 263.015 546.71 263.015 Q550.251 263.015 552.381 260.515 Q554.534 257.992 554.534 253.825 L554.534 252.876 L550.298 252.876 M558.793 251.117 L558.793 265.909 L554.534 265.909 L554.534 261.973 Q553.076 264.335 550.9 265.469 Q548.724 266.58 545.576 266.58 Q541.594 266.58 539.233 264.358 Q536.895 262.112 536.895 258.362 Q536.895 253.987 539.812 251.765 Q542.752 249.543 548.562 249.543 L554.534 249.543 L554.534 249.126 Q554.534 246.187 552.589 244.589 Q550.668 242.969 547.173 242.969 Q544.951 242.969 542.844 243.501 Q540.738 244.034 538.793 245.099 L538.793 241.163 Q541.131 240.261 543.33 239.821 Q545.529 239.358 547.613 239.358 Q553.238 239.358 556.015 242.274 Q558.793 245.191 558.793 251.117 Z\" fill=\"#000000\" fill-rule=\"nonzero\" fill-opacity=\"1\" /><path clip-path=\"url(#clip200)\" d=\"M567.566 229.89 L571.825 229.89 L571.825 265.909 L567.566 265.909 L567.566 229.89 Z\" fill=\"#000000\" fill-rule=\"nonzero\" fill-opacity=\"1\" /><path clip-path=\"url(#clip200)\" d=\"M580.737 229.89 L584.997 229.89 L584.997 265.909 L580.737 265.909 L580.737 229.89 Z\" fill=\"#000000\" fill-rule=\"nonzero\" fill-opacity=\"1\" /><path clip-path=\"url(#clip200)\" d=\"M603.955 242.969 Q600.529 242.969 598.538 245.654 Q596.548 248.316 596.548 252.969 Q596.548 257.622 598.515 260.307 Q600.506 262.969 603.955 262.969 Q607.358 262.969 609.348 260.284 Q611.339 257.598 611.339 252.969 Q611.339 248.362 609.348 245.677 Q607.358 242.969 603.955 242.969 M603.955 239.358 Q609.51 239.358 612.682 242.969 Q615.853 246.58 615.853 252.969 Q615.853 259.335 612.682 262.969 Q609.51 266.58 603.955 266.58 Q598.376 266.58 595.205 262.969 Q592.057 259.335 592.057 252.969 Q592.057 246.58 595.205 242.969 Q598.376 239.358 603.955 239.358 Z\" fill=\"#000000\" fill-rule=\"nonzero\" fill-opacity=\"1\" /><path clip-path=\"url(#clip200)\" d=\"M641.57 240.978 L641.57 244.96 Q639.765 243.964 637.936 243.478 Q636.131 242.969 634.279 242.969 Q630.135 242.969 627.844 245.608 Q625.552 248.224 625.552 252.969 Q625.552 257.714 627.844 260.353 Q630.135 262.969 634.279 262.969 Q636.131 262.969 637.936 262.483 Q639.765 261.973 641.57 260.978 L641.57 264.913 Q639.788 265.747 637.867 266.163 Q635.969 266.58 633.816 266.58 Q627.959 266.58 624.51 262.899 Q621.061 259.219 621.061 252.969 Q621.061 246.626 624.533 242.992 Q628.029 239.358 634.094 239.358 Q636.061 239.358 637.936 239.775 Q639.811 240.168 641.57 240.978 Z\" fill=\"#000000\" fill-rule=\"nonzero\" fill-opacity=\"1\" /><path clip-path=\"url(#clip200)\" d=\"M660.76 252.876 Q655.598 252.876 653.607 254.057 Q651.617 255.237 651.617 258.085 Q651.617 260.353 653.098 261.696 Q654.603 263.015 657.172 263.015 Q660.714 263.015 662.843 260.515 Q664.996 257.992 664.996 253.825 L664.996 252.876 L660.76 252.876 M669.255 251.117 L669.255 265.909 L664.996 265.909 L664.996 261.973 Q663.538 264.335 661.362 265.469 Q659.186 266.58 656.038 266.58 Q652.056 266.58 649.695 264.358 Q647.357 262.112 647.357 258.362 Q647.357 253.987 650.274 251.765 Q653.214 249.543 659.024 249.543 L664.996 249.543 L664.996 249.126 Q664.996 246.187 663.052 244.589 Q661.131 242.969 657.635 242.969 Q655.413 242.969 653.306 243.501 Q651.2 244.034 649.256 245.099 L649.256 241.163 Q651.594 240.261 653.793 239.821 Q655.992 239.358 658.075 239.358 Q663.7 239.358 666.478 242.274 Q669.255 245.191 669.255 251.117 Z\" fill=\"#000000\" fill-rule=\"nonzero\" fill-opacity=\"1\" /><path clip-path=\"url(#clip200)\" d=\"M682.242 232.622 L682.242 239.983 L691.015 239.983 L691.015 243.293 L682.242 243.293 L682.242 257.367 Q682.242 260.538 683.098 261.441 Q683.978 262.344 686.64 262.344 L691.015 262.344 L691.015 265.909 L686.64 265.909 Q681.709 265.909 679.834 264.08 Q677.959 262.228 677.959 257.367 L677.959 243.293 L674.834 243.293 L674.834 239.983 L677.959 239.983 L677.959 232.622 L682.242 232.622 Z\" fill=\"#000000\" fill-rule=\"nonzero\" fill-opacity=\"1\" /><path clip-path=\"url(#clip200)\" d=\"M718.792 251.881 L718.792 253.964 L699.209 253.964 Q699.487 258.362 701.848 260.677 Q704.232 262.969 708.468 262.969 Q710.922 262.969 713.214 262.367 Q715.528 261.765 717.797 260.561 L717.797 264.589 Q715.505 265.561 713.098 266.071 Q710.69 266.58 708.214 266.58 Q702.01 266.58 698.376 262.969 Q694.765 259.358 694.765 253.2 Q694.765 246.835 698.191 243.108 Q701.64 239.358 707.473 239.358 Q712.704 239.358 715.737 242.737 Q718.792 246.094 718.792 251.881 M714.533 250.631 Q714.487 247.136 712.565 245.052 Q710.667 242.969 707.519 242.969 Q703.954 242.969 701.802 244.983 Q699.672 246.997 699.348 250.654 L714.533 250.631 Z\" fill=\"#000000\" fill-rule=\"nonzero\" fill-opacity=\"1\" /><path clip-path=\"url(#clip200)\" d=\"M745.713 235.191 L745.713 248.177 L751.593 248.177 Q754.857 248.177 756.639 246.487 Q758.422 244.798 758.422 241.673 Q758.422 238.571 756.639 236.881 Q754.857 235.191 751.593 235.191 L745.713 235.191 M741.037 231.349 L751.593 231.349 Q757.403 231.349 760.366 233.987 Q763.352 236.603 763.352 241.673 Q763.352 246.788 760.366 249.404 Q757.403 252.02 751.593 252.02 L745.713 252.02 L745.713 265.909 L741.037 265.909 L741.037 231.349 Z\" fill=\"#000000\" fill-rule=\"nonzero\" fill-opacity=\"1\" /><path clip-path=\"url(#clip200)\" d=\"M777.797 242.969 Q774.371 242.969 772.38 245.654 Q770.389 248.316 770.389 252.969 Q770.389 257.622 772.357 260.307 Q774.347 262.969 777.797 262.969 Q781.199 262.969 783.19 260.284 Q785.181 257.598 785.181 252.969 Q785.181 248.362 783.19 245.677 Q781.199 242.969 777.797 242.969 M777.797 239.358 Q783.352 239.358 786.523 242.969 Q789.695 246.58 789.695 252.969 Q789.695 259.335 786.523 262.969 Q783.352 266.58 777.797 266.58 Q772.218 266.58 769.047 262.969 Q765.898 259.335 765.898 252.969 Q765.898 246.58 769.047 242.969 Q772.218 239.358 777.797 239.358 Z\" fill=\"#000000\" fill-rule=\"nonzero\" fill-opacity=\"1\" /><path clip-path=\"url(#clip200)\" d=\"M811.778 243.964 Q811.06 243.548 810.204 243.362 Q809.37 243.154 808.352 243.154 Q804.741 243.154 802.796 245.515 Q800.875 247.853 800.875 252.251 L800.875 265.909 L796.593 265.909 L796.593 239.983 L800.875 239.983 L800.875 244.011 Q802.218 241.649 804.37 240.515 Q806.523 239.358 809.602 239.358 Q810.042 239.358 810.574 239.427 Q811.107 239.474 811.755 239.589 L811.778 243.964 Z\" fill=\"#000000\" fill-rule=\"nonzero\" fill-opacity=\"1\" /><path clip-path=\"url(#clip200)\" d=\"M820.458 232.622 L820.458 239.983 L829.231 239.983 L829.231 243.293 L820.458 243.293 L820.458 257.367 Q820.458 260.538 821.315 261.441 Q822.194 262.344 824.856 262.344 L829.231 262.344 L829.231 265.909 L824.856 265.909 Q819.926 265.909 818.051 264.08 Q816.176 262.228 816.176 257.367 L816.176 243.293 L813.051 243.293 L813.051 239.983 L816.176 239.983 L816.176 232.622 L820.458 232.622 Z\" fill=\"#000000\" fill-rule=\"nonzero\" fill-opacity=\"1\" /><path clip-path=\"url(#clip200)\" d=\"M847.958 229.89 L847.958 233.432 L843.884 233.432 Q841.593 233.432 840.69 234.358 Q839.81 235.284 839.81 237.691 L839.81 239.983 L846.824 239.983 L846.824 243.293 L839.81 243.293 L839.81 265.909 L835.528 265.909 L835.528 243.293 L831.454 243.293 L831.454 239.983 L835.528 239.983 L835.528 238.177 Q835.528 233.849 837.542 231.881 Q839.555 229.89 843.93 229.89 L847.958 229.89 Z\" fill=\"#000000\" fill-rule=\"nonzero\" fill-opacity=\"1\" /><path clip-path=\"url(#clip200)\" d=\"M861.569 242.969 Q858.143 242.969 856.153 245.654 Q854.162 248.316 854.162 252.969 Q854.162 257.622 856.129 260.307 Q858.12 262.969 861.569 262.969 Q864.972 262.969 866.963 260.284 Q868.953 257.598 868.953 252.969 Q868.953 248.362 866.963 245.677 Q864.972 242.969 861.569 242.969 M861.569 239.358 Q867.125 239.358 870.296 242.969 Q873.467 246.58 873.467 252.969 Q873.467 259.335 870.296 262.969 Q867.125 266.58 861.569 266.58 Q855.991 266.58 852.819 262.969 Q849.671 259.335 849.671 252.969 Q849.671 246.58 852.819 242.969 Q855.991 239.358 861.569 239.358 Z\" fill=\"#000000\" fill-rule=\"nonzero\" fill-opacity=\"1\" /><path clip-path=\"url(#clip200)\" d=\"M880.527 229.89 L884.787 229.89 L884.787 265.909 L880.527 265.909 L880.527 229.89 Z\" fill=\"#000000\" fill-rule=\"nonzero\" fill-opacity=\"1\" /><path clip-path=\"url(#clip200)\" d=\"M893.699 239.983 L897.958 239.983 L897.958 265.909 L893.699 265.909 L893.699 239.983 M893.699 229.89 L897.958 229.89 L897.958 235.284 L893.699 235.284 L893.699 229.89 Z\" fill=\"#000000\" fill-rule=\"nonzero\" fill-opacity=\"1\" /><path clip-path=\"url(#clip200)\" d=\"M916.916 242.969 Q913.49 242.969 911.5 245.654 Q909.509 248.316 909.509 252.969 Q909.509 257.622 911.476 260.307 Q913.467 262.969 916.916 262.969 Q920.319 262.969 922.31 260.284 Q924.3 257.598 924.3 252.969 Q924.3 248.362 922.31 245.677 Q920.319 242.969 916.916 242.969 M916.916 239.358 Q922.472 239.358 925.643 242.969 Q928.814 246.58 928.814 252.969 Q928.814 259.335 925.643 262.969 Q922.472 266.58 916.916 266.58 Q911.338 266.58 908.166 262.969 Q905.018 259.335 905.018 252.969 Q905.018 246.58 908.166 242.969 Q911.338 239.358 916.916 239.358 Z\" fill=\"#000000\" fill-rule=\"nonzero\" fill-opacity=\"1\" /><path clip-path=\"url(#clip200)\" d=\"M952.356 261.973 L959.995 261.973 L959.995 235.608 L951.685 237.275 L951.685 233.015 L959.948 231.349 L964.624 231.349 L964.624 261.973 L972.263 261.973 L972.263 265.909 L952.356 265.909 L952.356 261.973 Z\" fill=\"#000000\" fill-rule=\"nonzero\" fill-opacity=\"1\" /><path clip-path=\"url(#clip200)\" d=\"M995.874 247.274 Q999.231 247.992 1001.11 250.261 Q1003 252.529 1003 255.862 Q1003 260.978 999.485 263.779 Q995.967 266.58 989.485 266.58 Q987.309 266.58 984.995 266.14 Q982.703 265.723 980.249 264.867 L980.249 260.353 Q982.194 261.487 984.508 262.066 Q986.823 262.645 989.346 262.645 Q993.744 262.645 996.036 260.909 Q998.351 259.173 998.351 255.862 Q998.351 252.807 996.198 251.094 Q994.069 249.358 990.249 249.358 L986.221 249.358 L986.221 245.515 L990.434 245.515 Q993.883 245.515 995.712 244.149 Q997.541 242.761 997.541 240.168 Q997.541 237.506 995.643 236.094 Q993.768 234.659 990.249 234.659 Q988.328 234.659 986.129 235.075 Q983.93 235.492 981.291 236.372 L981.291 232.205 Q983.953 231.464 986.268 231.094 Q988.606 230.724 990.666 230.724 Q995.99 230.724 999.092 233.154 Q1002.19 235.562 1002.19 239.682 Q1002.19 242.552 1000.55 244.543 Q998.906 246.511 995.874 247.274 Z\" fill=\"#000000\" fill-rule=\"nonzero\" fill-opacity=\"1\" /><path clip-path=\"url(#clip200)\" d=\"M1036.57 229.937 Q1033.47 235.261 1031.96 240.469 Q1030.46 245.677 1030.46 251.024 Q1030.46 256.372 1031.96 261.626 Q1033.49 266.858 1036.57 272.159 L1032.86 272.159 Q1029.39 266.719 1027.66 261.464 Q1025.94 256.21 1025.94 251.024 Q1025.94 245.862 1027.66 240.631 Q1029.37 235.4 1032.86 229.937 L1036.57 229.937 Z\" fill=\"#000000\" fill-rule=\"nonzero\" fill-opacity=\"1\" /><path clip-path=\"url(#clip200)\" d=\"M1056.61 252.876 Q1051.45 252.876 1049.46 254.057 Q1047.47 255.237 1047.47 258.085 Q1047.47 260.353 1048.95 261.696 Q1050.46 263.015 1053.03 263.015 Q1056.57 263.015 1058.7 260.515 Q1060.85 257.992 1060.85 253.825 L1060.85 252.876 L1056.61 252.876 M1065.11 251.117 L1065.11 265.909 L1060.85 265.909 L1060.85 261.973 Q1059.39 264.335 1057.22 265.469 Q1055.04 266.58 1051.89 266.58 Q1047.91 266.58 1045.55 264.358 Q1043.21 262.112 1043.21 258.362 Q1043.21 253.987 1046.13 251.765 Q1049.07 249.543 1054.88 249.543 L1060.85 249.543 L1060.85 249.126 Q1060.85 246.187 1058.91 244.589 Q1056.98 242.969 1053.49 242.969 Q1051.27 242.969 1049.16 243.501 Q1047.05 244.034 1045.11 245.099 L1045.11 241.163 Q1047.45 240.261 1049.65 239.821 Q1051.85 239.358 1053.93 239.358 Q1059.55 239.358 1062.33 242.274 Q1065.11 245.191 1065.11 251.117 Z\" fill=\"#000000\" fill-rule=\"nonzero\" fill-opacity=\"1\" /><path clip-path=\"url(#clip200)\" d=\"M1092.54 240.978 L1092.54 244.96 Q1090.73 243.964 1088.91 243.478 Q1087.1 242.969 1085.25 242.969 Q1081.11 242.969 1078.81 245.608 Q1076.52 248.224 1076.52 252.969 Q1076.52 257.714 1078.81 260.353 Q1081.11 262.969 1085.25 262.969 Q1087.1 262.969 1088.91 262.483 Q1090.73 261.973 1092.54 260.978 L1092.54 264.913 Q1090.76 265.747 1088.84 266.163 Q1086.94 266.58 1084.79 266.58 Q1078.93 266.58 1075.48 262.899 Q1072.03 259.219 1072.03 252.969 Q1072.03 246.626 1075.5 242.992 Q1079 239.358 1085.06 239.358 Q1087.03 239.358 1088.91 239.775 Q1090.78 240.168 1092.54 240.978 Z\" fill=\"#000000\" fill-rule=\"nonzero\" fill-opacity=\"1\" /><path clip-path=\"url(#clip200)\" d=\"M1104.16 232.622 L1104.16 239.983 L1112.93 239.983 L1112.93 243.293 L1104.16 243.293 L1104.16 257.367 Q1104.16 260.538 1105.02 261.441 Q1105.9 262.344 1108.56 262.344 L1112.93 262.344 L1112.93 265.909 L1108.56 265.909 Q1103.63 265.909 1101.75 264.08 Q1099.88 262.228 1099.88 257.367 L1099.88 243.293 L1096.75 243.293 L1096.75 239.983 L1099.88 239.983 L1099.88 232.622 L1104.16 232.622 Z\" fill=\"#000000\" fill-rule=\"nonzero\" fill-opacity=\"1\" /><path clip-path=\"url(#clip200)\" d=\"M1118.1 255.677 L1118.1 239.983 L1122.35 239.983 L1122.35 255.515 Q1122.35 259.196 1123.79 261.048 Q1125.23 262.876 1128.1 262.876 Q1131.54 262.876 1133.54 260.677 Q1135.55 258.478 1135.55 254.682 L1135.55 239.983 L1139.81 239.983 L1139.81 265.909 L1135.55 265.909 L1135.55 261.927 Q1134 264.288 1131.94 265.446 Q1129.9 266.58 1127.19 266.58 Q1122.73 266.58 1120.41 263.802 Q1118.1 261.024 1118.1 255.677 M1128.81 239.358 L1128.81 239.358 Z\" fill=\"#000000\" fill-rule=\"nonzero\" fill-opacity=\"1\" /><path clip-path=\"url(#clip200)\" d=\"M1160.36 252.876 Q1155.2 252.876 1153.21 254.057 Q1151.22 255.237 1151.22 258.085 Q1151.22 260.353 1152.7 261.696 Q1154.21 263.015 1156.78 263.015 Q1160.32 263.015 1162.45 260.515 Q1164.6 257.992 1164.6 253.825 L1164.6 252.876 L1160.36 252.876 M1168.86 251.117 L1168.86 265.909 L1164.6 265.909 L1164.6 261.973 Q1163.14 264.335 1160.97 265.469 Q1158.79 266.58 1155.64 266.58 Q1151.66 266.58 1149.3 264.358 Q1146.96 262.112 1146.96 258.362 Q1146.96 253.987 1149.88 251.765 Q1152.82 249.543 1158.63 249.543 L1164.6 249.543 L1164.6 249.126 Q1164.6 246.187 1162.66 244.589 Q1160.73 242.969 1157.24 242.969 Q1155.02 242.969 1152.91 243.501 Q1150.8 244.034 1148.86 245.099 L1148.86 241.163 Q1151.2 240.261 1153.4 239.821 Q1155.6 239.358 1157.68 239.358 Q1163.3 239.358 1166.08 242.274 Q1168.86 245.191 1168.86 251.117 Z\" fill=\"#000000\" fill-rule=\"nonzero\" fill-opacity=\"1\" /><path clip-path=\"url(#clip200)\" d=\"M1177.63 229.89 L1181.89 229.89 L1181.89 265.909 L1177.63 265.909 L1177.63 229.89 Z\" fill=\"#000000\" fill-rule=\"nonzero\" fill-opacity=\"1\" /><path clip-path=\"url(#clip200)\" d=\"M1190.13 229.937 L1193.84 229.937 Q1197.31 235.4 1199.02 240.631 Q1200.76 245.862 1200.76 251.024 Q1200.76 256.21 1199.02 261.464 Q1197.31 266.719 1193.84 272.159 L1190.13 272.159 Q1193.21 266.858 1194.72 261.626 Q1196.24 256.372 1196.24 251.024 Q1196.24 245.677 1194.72 240.469 Q1193.21 235.261 1190.13 229.937 Z\" fill=\"#000000\" fill-rule=\"nonzero\" fill-opacity=\"1\" /></svg>\n"
      ],
      "text/html": [
       "<?xml version=\"1.0\" encoding=\"utf-8\"?>\n",
       "<svg xmlns=\"http://www.w3.org/2000/svg\" xmlns:xlink=\"http://www.w3.org/1999/xlink\" width=\"600\" height=\"400\" viewBox=\"0 0 2400 1600\">\n",
       "<defs>\n",
       "  <clipPath id=\"clip250\">\n",
       "    <rect x=\"0\" y=\"0\" width=\"2400\" height=\"1600\"/>\n",
       "  </clipPath>\n",
       "</defs>\n",
       "<path clip-path=\"url(#clip250)\" d=\"M0 1600 L2400 1600 L2400 0 L0 0  Z\" fill=\"#ffffff\" fill-rule=\"evenodd\" fill-opacity=\"1\"/>\n",
       "<defs>\n",
       "  <clipPath id=\"clip251\">\n",
       "    <rect x=\"480\" y=\"0\" width=\"1681\" height=\"1600\"/>\n",
       "  </clipPath>\n",
       "</defs>\n",
       "<path clip-path=\"url(#clip250)\" d=\"M217.783 1423.18 L2352.76 1423.18 L2352.76 47.2441 L217.783 47.2441  Z\" fill=\"#ffffff\" fill-rule=\"evenodd\" fill-opacity=\"1\"/>\n",
       "<defs>\n",
       "  <clipPath id=\"clip252\">\n",
       "    <rect x=\"217\" y=\"47\" width=\"2136\" height=\"1377\"/>\n",
       "  </clipPath>\n",
       "</defs>\n",
       "<polyline clip-path=\"url(#clip252)\" style=\"stroke:#000000; stroke-linecap:round; stroke-linejoin:round; stroke-width:2; stroke-opacity:0.1; fill:none\" points=\"261.281,1423.18 261.281,47.2441 \"/>\n",
       "<polyline clip-path=\"url(#clip252)\" style=\"stroke:#000000; stroke-linecap:round; stroke-linejoin:round; stroke-width:2; stroke-opacity:0.1; fill:none\" points=\"684.417,1423.18 684.417,47.2441 \"/>\n",
       "<polyline clip-path=\"url(#clip252)\" style=\"stroke:#000000; stroke-linecap:round; stroke-linejoin:round; stroke-width:2; stroke-opacity:0.1; fill:none\" points=\"1107.55,1423.18 1107.55,47.2441 \"/>\n",
       "<polyline clip-path=\"url(#clip252)\" style=\"stroke:#000000; stroke-linecap:round; stroke-linejoin:round; stroke-width:2; stroke-opacity:0.1; fill:none\" points=\"1530.69,1423.18 1530.69,47.2441 \"/>\n",
       "<polyline clip-path=\"url(#clip252)\" style=\"stroke:#000000; stroke-linecap:round; stroke-linejoin:round; stroke-width:2; stroke-opacity:0.1; fill:none\" points=\"1953.82,1423.18 1953.82,47.2441 \"/>\n",
       "<polyline clip-path=\"url(#clip250)\" style=\"stroke:#000000; stroke-linecap:round; stroke-linejoin:round; stroke-width:4; stroke-opacity:1; fill:none\" points=\"217.783,1423.18 2352.76,1423.18 \"/>\n",
       "<polyline clip-path=\"url(#clip250)\" style=\"stroke:#000000; stroke-linecap:round; stroke-linejoin:round; stroke-width:4; stroke-opacity:1; fill:none\" points=\"261.281,1423.18 261.281,1404.28 \"/>\n",
       "<polyline clip-path=\"url(#clip250)\" style=\"stroke:#000000; stroke-linecap:round; stroke-linejoin:round; stroke-width:4; stroke-opacity:1; fill:none\" points=\"684.417,1423.18 684.417,1404.28 \"/>\n",
       "<polyline clip-path=\"url(#clip250)\" style=\"stroke:#000000; stroke-linecap:round; stroke-linejoin:round; stroke-width:4; stroke-opacity:1; fill:none\" points=\"1107.55,1423.18 1107.55,1404.28 \"/>\n",
       "<polyline clip-path=\"url(#clip250)\" style=\"stroke:#000000; stroke-linecap:round; stroke-linejoin:round; stroke-width:4; stroke-opacity:1; fill:none\" points=\"1530.69,1423.18 1530.69,1404.28 \"/>\n",
       "<polyline clip-path=\"url(#clip250)\" style=\"stroke:#000000; stroke-linecap:round; stroke-linejoin:round; stroke-width:4; stroke-opacity:1; fill:none\" points=\"1953.82,1423.18 1953.82,1404.28 \"/>\n",
       "<path clip-path=\"url(#clip250)\" d=\"M261.281 1454.1 Q257.67 1454.1 255.841 1457.66 Q254.036 1461.2 254.036 1468.33 Q254.036 1475.44 255.841 1479.01 Q257.67 1482.55 261.281 1482.55 Q264.916 1482.55 266.721 1479.01 Q268.55 1475.44 268.55 1468.33 Q268.55 1461.2 266.721 1457.66 Q264.916 1454.1 261.281 1454.1 M261.281 1450.39 Q267.091 1450.39 270.147 1455 Q273.226 1459.58 273.226 1468.33 Q273.226 1477.06 270.147 1481.67 Q267.091 1486.25 261.281 1486.25 Q255.471 1486.25 252.392 1481.67 Q249.337 1477.06 249.337 1468.33 Q249.337 1459.58 252.392 1455 Q255.471 1450.39 261.281 1450.39 Z\" fill=\"#000000\" fill-rule=\"nonzero\" fill-opacity=\"1\" /><path clip-path=\"url(#clip250)\" d=\"M663.688 1481.64 L680.007 1481.64 L680.007 1485.58 L658.063 1485.58 L658.063 1481.64 Q660.725 1478.89 665.308 1474.26 Q669.915 1469.61 671.095 1468.27 Q673.341 1465.74 674.22 1464.01 Q675.123 1462.25 675.123 1460.56 Q675.123 1457.8 673.179 1456.07 Q671.257 1454.33 668.155 1454.33 Q665.956 1454.33 663.503 1455.09 Q661.072 1455.86 658.294 1457.41 L658.294 1452.69 Q661.118 1451.55 663.572 1450.97 Q666.026 1450.39 668.063 1450.39 Q673.433 1450.39 676.628 1453.08 Q679.822 1455.77 679.822 1460.26 Q679.822 1462.39 679.012 1464.31 Q678.225 1466.2 676.118 1468.8 Q675.54 1469.47 672.438 1472.69 Q669.336 1475.88 663.688 1481.64 Z\" fill=\"#000000\" fill-rule=\"nonzero\" fill-opacity=\"1\" /><path clip-path=\"url(#clip250)\" d=\"M689.868 1451.02 L708.225 1451.02 L708.225 1454.96 L694.151 1454.96 L694.151 1463.43 Q695.169 1463.08 696.188 1462.92 Q697.206 1462.73 698.225 1462.73 Q704.012 1462.73 707.391 1465.9 Q710.771 1469.08 710.771 1474.49 Q710.771 1480.07 707.299 1483.17 Q703.826 1486.25 697.507 1486.25 Q695.331 1486.25 693.063 1485.88 Q690.817 1485.51 688.41 1484.77 L688.41 1480.07 Q690.493 1481.2 692.715 1481.76 Q694.938 1482.32 697.414 1482.32 Q701.419 1482.32 703.757 1480.21 Q706.095 1478.1 706.095 1474.49 Q706.095 1470.88 703.757 1468.77 Q701.419 1466.67 697.414 1466.67 Q695.54 1466.67 693.665 1467.08 Q691.813 1467.5 689.868 1468.38 L689.868 1451.02 Z\" fill=\"#000000\" fill-rule=\"nonzero\" fill-opacity=\"1\" /><path clip-path=\"url(#clip250)\" d=\"M1082.25 1451.02 L1100.61 1451.02 L1100.61 1454.96 L1086.53 1454.96 L1086.53 1463.43 Q1087.55 1463.08 1088.57 1462.92 Q1089.59 1462.73 1090.61 1462.73 Q1096.4 1462.73 1099.77 1465.9 Q1103.15 1469.08 1103.15 1474.49 Q1103.15 1480.07 1099.68 1483.17 Q1096.21 1486.25 1089.89 1486.25 Q1087.71 1486.25 1085.45 1485.88 Q1083.2 1485.51 1080.79 1484.77 L1080.79 1480.07 Q1082.88 1481.2 1085.1 1481.76 Q1087.32 1482.32 1089.8 1482.32 Q1093.8 1482.32 1096.14 1480.21 Q1098.48 1478.1 1098.48 1474.49 Q1098.48 1470.88 1096.14 1468.77 Q1093.8 1466.67 1089.8 1466.67 Q1087.92 1466.67 1086.05 1467.08 Q1084.2 1467.5 1082.25 1468.38 L1082.25 1451.02 Z\" fill=\"#000000\" fill-rule=\"nonzero\" fill-opacity=\"1\" /><path clip-path=\"url(#clip250)\" d=\"M1122.37 1454.1 Q1118.76 1454.1 1116.93 1457.66 Q1115.12 1461.2 1115.12 1468.33 Q1115.12 1475.44 1116.93 1479.01 Q1118.76 1482.55 1122.37 1482.55 Q1126 1482.55 1127.81 1479.01 Q1129.64 1475.44 1129.64 1468.33 Q1129.64 1461.2 1127.81 1457.66 Q1126 1454.1 1122.37 1454.1 M1122.37 1450.39 Q1128.18 1450.39 1131.23 1455 Q1134.31 1459.58 1134.31 1468.33 Q1134.31 1477.06 1131.23 1481.67 Q1128.18 1486.25 1122.37 1486.25 Q1116.56 1486.25 1113.48 1481.67 Q1110.42 1477.06 1110.42 1468.33 Q1110.42 1459.58 1113.48 1455 Q1116.56 1450.39 1122.37 1450.39 Z\" fill=\"#000000\" fill-rule=\"nonzero\" fill-opacity=\"1\" /><path clip-path=\"url(#clip250)\" d=\"M1504.54 1451.02 L1526.76 1451.02 L1526.76 1453.01 L1514.22 1485.58 L1509.33 1485.58 L1521.14 1454.96 L1504.54 1454.96 L1504.54 1451.02 Z\" fill=\"#000000\" fill-rule=\"nonzero\" fill-opacity=\"1\" /><path clip-path=\"url(#clip250)\" d=\"M1535.93 1451.02 L1554.29 1451.02 L1554.29 1454.96 L1540.21 1454.96 L1540.21 1463.43 Q1541.23 1463.08 1542.25 1462.92 Q1543.27 1462.73 1544.29 1462.73 Q1550.07 1462.73 1553.45 1465.9 Q1556.83 1469.08 1556.83 1474.49 Q1556.83 1480.07 1553.36 1483.17 Q1549.89 1486.25 1543.57 1486.25 Q1541.39 1486.25 1539.13 1485.88 Q1536.88 1485.51 1534.47 1484.77 L1534.47 1480.07 Q1536.56 1481.2 1538.78 1481.76 Q1541 1482.32 1543.48 1482.32 Q1547.48 1482.32 1549.82 1480.21 Q1552.16 1478.1 1552.16 1474.49 Q1552.16 1470.88 1549.82 1468.77 Q1547.48 1466.67 1543.48 1466.67 Q1541.6 1466.67 1539.73 1467.08 Q1537.88 1467.5 1535.93 1468.38 L1535.93 1451.02 Z\" fill=\"#000000\" fill-rule=\"nonzero\" fill-opacity=\"1\" /><path clip-path=\"url(#clip250)\" d=\"M1913.43 1481.64 L1921.07 1481.64 L1921.07 1455.28 L1912.76 1456.95 L1912.76 1452.69 L1921.02 1451.02 L1925.7 1451.02 L1925.7 1481.64 L1933.34 1481.64 L1933.34 1485.58 L1913.43 1485.58 L1913.43 1481.64 Z\" fill=\"#000000\" fill-rule=\"nonzero\" fill-opacity=\"1\" /><path clip-path=\"url(#clip250)\" d=\"M1952.78 1454.1 Q1949.17 1454.1 1947.34 1457.66 Q1945.54 1461.2 1945.54 1468.33 Q1945.54 1475.44 1947.34 1479.01 Q1949.17 1482.55 1952.78 1482.55 Q1956.42 1482.55 1958.22 1479.01 Q1960.05 1475.44 1960.05 1468.33 Q1960.05 1461.2 1958.22 1457.66 Q1956.42 1454.1 1952.78 1454.1 M1952.78 1450.39 Q1958.59 1450.39 1961.65 1455 Q1964.73 1459.58 1964.73 1468.33 Q1964.73 1477.06 1961.65 1481.67 Q1958.59 1486.25 1952.78 1486.25 Q1946.97 1486.25 1943.89 1481.67 Q1940.84 1477.06 1940.84 1468.33 Q1940.84 1459.58 1943.89 1455 Q1946.97 1450.39 1952.78 1450.39 Z\" fill=\"#000000\" fill-rule=\"nonzero\" fill-opacity=\"1\" /><path clip-path=\"url(#clip250)\" d=\"M1982.94 1454.1 Q1979.33 1454.1 1977.5 1457.66 Q1975.7 1461.2 1975.7 1468.33 Q1975.7 1475.44 1977.5 1479.01 Q1979.33 1482.55 1982.94 1482.55 Q1986.58 1482.55 1988.38 1479.01 Q1990.21 1475.44 1990.21 1468.33 Q1990.21 1461.2 1988.38 1457.66 Q1986.58 1454.1 1982.94 1454.1 M1982.94 1450.39 Q1988.75 1450.39 1991.81 1455 Q1994.89 1459.58 1994.89 1468.33 Q1994.89 1477.06 1991.81 1481.67 Q1988.75 1486.25 1982.94 1486.25 Q1977.13 1486.25 1974.06 1481.67 Q1971 1477.06 1971 1468.33 Q1971 1459.58 1974.06 1455 Q1977.13 1450.39 1982.94 1450.39 Z\" fill=\"#000000\" fill-rule=\"nonzero\" fill-opacity=\"1\" /><path clip-path=\"url(#clip250)\" d=\"M874.856 1520.52 L915.056 1520.52 L915.056 1525.93 L898.187 1525.93 L898.187 1568.04 L891.726 1568.04 L891.726 1525.93 L874.856 1525.93 L874.856 1520.52 Z\" fill=\"#000000\" fill-rule=\"nonzero\" fill-opacity=\"1\" /><path clip-path=\"url(#clip250)\" d=\"M932.084 1537.87 Q931.097 1537.3 929.92 1537.04 Q928.774 1536.76 927.373 1536.76 Q922.408 1536.76 919.735 1540 Q917.093 1543.22 917.093 1549.27 L917.093 1568.04 L911.205 1568.04 L911.205 1532.4 L917.093 1532.4 L917.093 1537.93 Q918.939 1534.69 921.899 1533.13 Q924.859 1531.54 929.092 1531.54 Q929.697 1531.54 930.429 1531.63 Q931.161 1531.7 932.052 1531.85 L932.084 1537.87 Z\" fill=\"#000000\" fill-rule=\"nonzero\" fill-opacity=\"1\" /><path clip-path=\"url(#clip250)\" d=\"M954.428 1550.12 Q947.33 1550.12 944.593 1551.75 Q941.855 1553.37 941.855 1557.29 Q941.855 1560.4 943.892 1562.25 Q945.961 1564.07 949.494 1564.07 Q954.364 1564.07 957.292 1560.63 Q960.252 1557.16 960.252 1551.43 L960.252 1550.12 L954.428 1550.12 M966.109 1547.71 L966.109 1568.04 L960.252 1568.04 L960.252 1562.63 Q958.247 1565.88 955.255 1567.44 Q952.263 1568.97 947.935 1568.97 Q942.46 1568.97 939.214 1565.91 Q935.999 1562.82 935.999 1557.67 Q935.999 1551.65 940.009 1548.6 Q944.052 1545.54 952.041 1545.54 L960.252 1545.54 L960.252 1544.97 Q960.252 1540.93 957.579 1538.73 Q954.937 1536.5 950.131 1536.5 Q947.075 1536.5 944.179 1537.23 Q941.283 1537.97 938.609 1539.43 L938.609 1534.02 Q941.824 1532.78 944.847 1532.17 Q947.871 1531.54 950.736 1531.54 Q958.47 1531.54 962.289 1535.55 Q966.109 1539.56 966.109 1547.71 Z\" fill=\"#000000\" fill-rule=\"nonzero\" fill-opacity=\"1\" /><path clip-path=\"url(#clip250)\" d=\"M1001.63 1537.81 L1001.63 1518.52 L1007.49 1518.52 L1007.49 1568.04 L1001.63 1568.04 L1001.63 1562.7 Q999.783 1565.88 996.951 1567.44 Q994.15 1568.97 990.203 1568.97 Q983.742 1568.97 979.668 1563.81 Q975.626 1558.65 975.626 1550.25 Q975.626 1541.85 979.668 1536.69 Q983.742 1531.54 990.203 1531.54 Q994.15 1531.54 996.951 1533.1 Q999.783 1534.62 1001.63 1537.81 M981.673 1550.25 Q981.673 1556.71 984.315 1560.4 Q986.988 1564.07 991.635 1564.07 Q996.282 1564.07 998.956 1560.4 Q1001.63 1556.71 1001.63 1550.25 Q1001.63 1543.79 998.956 1540.13 Q996.282 1536.44 991.635 1536.44 Q986.988 1536.44 984.315 1540.13 Q981.673 1543.79 981.673 1550.25 Z\" fill=\"#000000\" fill-rule=\"nonzero\" fill-opacity=\"1\" /><path clip-path=\"url(#clip250)\" d=\"M1019.55 1532.4 L1025.41 1532.4 L1025.41 1568.04 L1019.55 1568.04 L1019.55 1532.4 M1019.55 1518.52 L1025.41 1518.52 L1025.41 1525.93 L1019.55 1525.93 L1019.55 1518.52 Z\" fill=\"#000000\" fill-rule=\"nonzero\" fill-opacity=\"1\" /><path clip-path=\"url(#clip250)\" d=\"M1067.29 1546.53 L1067.29 1568.04 L1061.44 1568.04 L1061.44 1546.72 Q1061.44 1541.66 1059.46 1539.14 Q1057.49 1536.63 1053.54 1536.63 Q1048.8 1536.63 1046.06 1539.65 Q1043.32 1542.68 1043.32 1547.9 L1043.32 1568.04 L1037.44 1568.04 L1037.44 1532.4 L1043.32 1532.4 L1043.32 1537.93 Q1045.43 1534.72 1048.26 1533.13 Q1051.12 1531.54 1054.85 1531.54 Q1060.99 1531.54 1064.14 1535.36 Q1067.29 1539.14 1067.29 1546.53 Z\" fill=\"#000000\" fill-rule=\"nonzero\" fill-opacity=\"1\" /><path clip-path=\"url(#clip250)\" d=\"M1102.43 1549.81 Q1102.43 1543.44 1099.79 1539.94 Q1097.18 1536.44 1092.44 1536.44 Q1087.73 1536.44 1085.08 1539.94 Q1082.47 1543.44 1082.47 1549.81 Q1082.47 1556.14 1085.08 1559.64 Q1087.73 1563.14 1092.44 1563.14 Q1097.18 1563.14 1099.79 1559.64 Q1102.43 1556.14 1102.43 1549.81 M1108.29 1563.62 Q1108.29 1572.72 1104.24 1577.15 Q1100.2 1581.6 1091.86 1581.6 Q1088.78 1581.6 1086.04 1581.13 Q1083.3 1580.68 1080.72 1579.72 L1080.72 1574.03 Q1083.3 1575.43 1085.82 1576.1 Q1088.33 1576.76 1090.94 1576.76 Q1096.7 1576.76 1099.57 1573.74 Q1102.43 1570.75 1102.43 1564.67 L1102.43 1561.77 Q1100.62 1564.92 1097.78 1566.48 Q1094.95 1568.04 1091 1568.04 Q1084.45 1568.04 1080.44 1563.05 Q1076.43 1558.05 1076.43 1549.81 Q1076.43 1541.53 1080.44 1536.53 Q1084.45 1531.54 1091 1531.54 Q1094.95 1531.54 1097.78 1533.1 Q1100.62 1534.66 1102.43 1537.81 L1102.43 1532.4 L1108.29 1532.4 L1108.29 1563.62 Z\" fill=\"#000000\" fill-rule=\"nonzero\" fill-opacity=\"1\" /><path clip-path=\"url(#clip250)\" d=\"M1147.75 1525.81 L1147.75 1562.76 L1155.52 1562.76 Q1165.36 1562.76 1169.91 1558.3 Q1174.49 1553.85 1174.49 1544.24 Q1174.49 1534.69 1169.91 1530.26 Q1165.36 1525.81 1155.52 1525.81 L1147.75 1525.81 M1141.32 1520.52 L1154.53 1520.52 Q1168.35 1520.52 1174.81 1526.28 Q1181.27 1532.01 1181.27 1544.24 Q1181.27 1556.52 1174.78 1562.28 Q1168.28 1568.04 1154.53 1568.04 L1141.32 1568.04 L1141.32 1520.52 Z\" fill=\"#000000\" fill-rule=\"nonzero\" fill-opacity=\"1\" /><path clip-path=\"url(#clip250)\" d=\"M1207.46 1550.12 Q1200.37 1550.12 1197.63 1551.75 Q1194.89 1553.37 1194.89 1557.29 Q1194.89 1560.4 1196.93 1562.25 Q1199 1564.07 1202.53 1564.07 Q1207.4 1564.07 1210.33 1560.63 Q1213.29 1557.16 1213.29 1551.43 L1213.29 1550.12 L1207.46 1550.12 M1219.15 1547.71 L1219.15 1568.04 L1213.29 1568.04 L1213.29 1562.63 Q1211.28 1565.88 1208.29 1567.44 Q1205.3 1568.97 1200.97 1568.97 Q1195.5 1568.97 1192.25 1565.91 Q1189.04 1562.82 1189.04 1557.67 Q1189.04 1551.65 1193.05 1548.6 Q1197.09 1545.54 1205.08 1545.54 L1213.29 1545.54 L1213.29 1544.97 Q1213.29 1540.93 1210.62 1538.73 Q1207.97 1536.5 1203.17 1536.5 Q1200.11 1536.5 1197.22 1537.23 Q1194.32 1537.97 1191.65 1539.43 L1191.65 1534.02 Q1194.86 1532.78 1197.88 1532.17 Q1200.91 1531.54 1203.77 1531.54 Q1211.51 1531.54 1215.33 1535.55 Q1219.15 1539.56 1219.15 1547.71 Z\" fill=\"#000000\" fill-rule=\"nonzero\" fill-opacity=\"1\" /><path clip-path=\"url(#clip250)\" d=\"M1246.04 1571.35 Q1243.56 1577.72 1241.2 1579.66 Q1238.85 1581.6 1234.9 1581.6 L1230.22 1581.6 L1230.22 1576.7 L1233.66 1576.7 Q1236.08 1576.7 1237.42 1575.56 Q1238.75 1574.41 1240.38 1570.14 L1241.43 1567.47 L1227.01 1532.4 L1233.21 1532.4 L1244.35 1560.28 L1255.49 1532.4 L1261.7 1532.4 L1246.04 1571.35 Z\" fill=\"#000000\" fill-rule=\"nonzero\" fill-opacity=\"1\" /><path clip-path=\"url(#clip250)\" d=\"M1290.76 1520.52 L1297.19 1520.52 L1297.19 1568.04 L1290.76 1568.04 L1290.76 1520.52 Z\" fill=\"#000000\" fill-rule=\"nonzero\" fill-opacity=\"1\" /><path clip-path=\"url(#clip250)\" d=\"M1339.36 1546.53 L1339.36 1568.04 L1333.51 1568.04 L1333.51 1546.72 Q1333.51 1541.66 1331.53 1539.14 Q1329.56 1536.63 1325.61 1536.63 Q1320.87 1536.63 1318.13 1539.65 Q1315.4 1542.68 1315.4 1547.9 L1315.4 1568.04 L1309.51 1568.04 L1309.51 1532.4 L1315.4 1532.4 L1315.4 1537.93 Q1317.5 1534.72 1320.33 1533.13 Q1323.19 1531.54 1326.92 1531.54 Q1333.06 1531.54 1336.21 1535.36 Q1339.36 1539.14 1339.36 1546.53 Z\" fill=\"#000000\" fill-rule=\"nonzero\" fill-opacity=\"1\" /><path clip-path=\"url(#clip250)\" d=\"M1374.5 1537.81 L1374.5 1518.52 L1380.36 1518.52 L1380.36 1568.04 L1374.5 1568.04 L1374.5 1562.7 Q1372.65 1565.88 1369.82 1567.44 Q1367.02 1568.97 1363.07 1568.97 Q1356.61 1568.97 1352.54 1563.81 Q1348.5 1558.65 1348.5 1550.25 Q1348.5 1541.85 1352.54 1536.69 Q1356.61 1531.54 1363.07 1531.54 Q1367.02 1531.54 1369.82 1533.1 Q1372.65 1534.62 1374.5 1537.81 M1354.54 1550.25 Q1354.54 1556.71 1357.19 1560.4 Q1359.86 1564.07 1364.51 1564.07 Q1369.15 1564.07 1371.83 1560.4 Q1374.5 1556.71 1374.5 1550.25 Q1374.5 1543.79 1371.83 1540.13 Q1369.15 1536.44 1364.51 1536.44 Q1359.86 1536.44 1357.19 1540.13 Q1354.54 1543.79 1354.54 1550.25 Z\" fill=\"#000000\" fill-rule=\"nonzero\" fill-opacity=\"1\" /><path clip-path=\"url(#clip250)\" d=\"M1422.91 1548.76 L1422.91 1551.62 L1395.98 1551.62 Q1396.37 1557.67 1399.61 1560.85 Q1402.89 1564 1408.72 1564 Q1412.09 1564 1415.24 1563.17 Q1418.42 1562.35 1421.54 1560.69 L1421.54 1566.23 Q1418.39 1567.57 1415.08 1568.27 Q1411.77 1568.97 1408.37 1568.97 Q1399.84 1568.97 1394.84 1564 Q1389.87 1559.04 1389.87 1550.57 Q1389.87 1541.82 1394.58 1536.69 Q1399.33 1531.54 1407.35 1531.54 Q1414.54 1531.54 1418.71 1536.18 Q1422.91 1540.8 1422.91 1548.76 M1417.06 1547.04 Q1416.99 1542.23 1414.35 1539.37 Q1411.74 1536.5 1407.41 1536.5 Q1402.51 1536.5 1399.55 1539.27 Q1396.62 1542.04 1396.18 1547.07 L1417.06 1547.04 Z\" fill=\"#000000\" fill-rule=\"nonzero\" fill-opacity=\"1\" /><path clip-path=\"url(#clip250)\" d=\"M1461.01 1532.4 L1448.12 1549.74 L1461.68 1568.04 L1454.77 1568.04 L1444.4 1554.04 L1434.02 1568.04 L1427.11 1568.04 L1440.96 1549.39 L1428.29 1532.4 L1435.2 1532.4 L1444.65 1545.1 L1454.1 1532.4 L1461.01 1532.4 Z\" fill=\"#000000\" fill-rule=\"nonzero\" fill-opacity=\"1\" /><path clip-path=\"url(#clip250)\" d=\"M1504.74 1518.58 Q1500.48 1525.9 1498.41 1533.06 Q1496.34 1540.23 1496.34 1547.58 Q1496.34 1554.93 1498.41 1562.16 Q1500.51 1569.35 1504.74 1576.64 L1499.65 1576.64 Q1494.88 1569.16 1492.49 1561.93 Q1490.13 1554.71 1490.13 1547.58 Q1490.13 1540.48 1492.49 1533.29 Q1494.84 1526.09 1499.65 1518.58 L1504.74 1518.58 Z\" fill=\"#000000\" fill-rule=\"nonzero\" fill-opacity=\"1\" /><path clip-path=\"url(#clip250)\" d=\"M1522.47 1562.63 L1544.91 1562.63 L1544.91 1568.04 L1514.74 1568.04 L1514.74 1562.63 Q1518.4 1558.85 1524.7 1552.48 Q1531.03 1546.08 1532.66 1544.24 Q1535.74 1540.77 1536.95 1538.38 Q1538.19 1535.96 1538.19 1533.64 Q1538.19 1529.85 1535.52 1527.46 Q1532.88 1525.08 1528.61 1525.08 Q1525.59 1525.08 1522.22 1526.13 Q1518.87 1527.18 1515.06 1529.31 L1515.06 1522.82 Q1518.94 1521.26 1522.31 1520.46 Q1525.69 1519.66 1528.49 1519.66 Q1535.87 1519.66 1540.26 1523.36 Q1544.66 1527.05 1544.66 1533.22 Q1544.66 1536.15 1543.54 1538.79 Q1542.46 1541.4 1539.56 1544.97 Q1538.77 1545.89 1534.5 1550.32 Q1530.24 1554.71 1522.47 1562.63 Z\" fill=\"#000000\" fill-rule=\"nonzero\" fill-opacity=\"1\" /><path clip-path=\"url(#clip250)\" d=\"M1572.16 1524.76 Q1567.19 1524.76 1564.68 1529.66 Q1562.19 1534.53 1562.19 1544.33 Q1562.19 1554.1 1564.68 1559 Q1567.19 1563.87 1572.16 1563.87 Q1577.15 1563.87 1579.64 1559 Q1582.15 1554.1 1582.15 1544.33 Q1582.15 1534.53 1579.64 1529.66 Q1577.15 1524.76 1572.16 1524.76 M1572.16 1519.66 Q1580.14 1519.66 1584.35 1526 Q1588.58 1532.3 1588.58 1544.33 Q1588.58 1556.33 1584.35 1562.66 Q1580.14 1568.97 1572.16 1568.97 Q1564.17 1568.97 1559.93 1562.66 Q1555.73 1556.33 1555.73 1544.33 Q1555.73 1532.3 1559.93 1526 Q1564.17 1519.66 1572.16 1519.66 Z\" fill=\"#000000\" fill-rule=\"nonzero\" fill-opacity=\"1\" /><path clip-path=\"url(#clip250)\" d=\"M1605.42 1562.63 L1627.86 1562.63 L1627.86 1568.04 L1597.68 1568.04 L1597.68 1562.63 Q1601.34 1558.85 1607.64 1552.48 Q1613.98 1546.08 1615.6 1544.24 Q1618.69 1540.77 1619.9 1538.38 Q1621.14 1535.96 1621.14 1533.64 Q1621.14 1529.85 1618.47 1527.46 Q1615.82 1525.08 1611.56 1525.08 Q1608.54 1525.08 1605.16 1526.13 Q1601.82 1527.18 1598 1529.31 L1598 1522.82 Q1601.88 1521.26 1605.26 1520.46 Q1608.63 1519.66 1611.43 1519.66 Q1618.82 1519.66 1623.21 1523.36 Q1627.6 1527.05 1627.6 1533.22 Q1627.6 1536.15 1626.49 1538.79 Q1625.41 1541.4 1622.51 1544.97 Q1621.71 1545.89 1617.45 1550.32 Q1613.18 1554.71 1605.42 1562.63 Z\" fill=\"#000000\" fill-rule=\"nonzero\" fill-opacity=\"1\" /><path clip-path=\"url(#clip250)\" d=\"M1660.83 1542.42 Q1665.45 1543.41 1668.02 1546.53 Q1670.63 1549.65 1670.63 1554.23 Q1670.63 1561.26 1665.8 1565.12 Q1660.96 1568.97 1652.05 1568.97 Q1649.05 1568.97 1645.87 1568.36 Q1642.72 1567.79 1639.35 1566.61 L1639.35 1560.4 Q1642.02 1561.96 1645.2 1562.76 Q1648.39 1563.56 1651.85 1563.56 Q1657.9 1563.56 1661.05 1561.17 Q1664.24 1558.78 1664.24 1554.23 Q1664.24 1550.03 1661.28 1547.67 Q1658.35 1545.29 1653.1 1545.29 L1647.56 1545.29 L1647.56 1540 L1653.35 1540 Q1658.09 1540 1660.61 1538.13 Q1663.12 1536.22 1663.12 1532.65 Q1663.12 1528.99 1660.51 1527.05 Q1657.93 1525.08 1653.1 1525.08 Q1650.45 1525.08 1647.43 1525.65 Q1644.41 1526.22 1640.78 1527.43 L1640.78 1521.7 Q1644.44 1520.68 1647.62 1520.17 Q1650.84 1519.66 1653.67 1519.66 Q1660.99 1519.66 1665.25 1523.01 Q1669.52 1526.32 1669.52 1531.98 Q1669.52 1535.93 1667.26 1538.67 Q1665 1541.37 1660.83 1542.42 Z\" fill=\"#000000\" fill-rule=\"nonzero\" fill-opacity=\"1\" /><path clip-path=\"url(#clip250)\" d=\"M1681.07 1518.58 L1686.17 1518.58 Q1690.94 1526.09 1693.3 1533.29 Q1695.68 1540.48 1695.68 1547.58 Q1695.68 1554.71 1693.3 1561.93 Q1690.94 1569.16 1686.17 1576.64 L1681.07 1576.64 Q1685.31 1569.35 1687.38 1562.16 Q1689.48 1554.93 1689.48 1547.58 Q1689.48 1540.23 1687.38 1533.06 Q1685.31 1525.9 1681.07 1518.58 Z\" fill=\"#000000\" fill-rule=\"nonzero\" fill-opacity=\"1\" /><polyline clip-path=\"url(#clip252)\" style=\"stroke:#000000; stroke-linecap:round; stroke-linejoin:round; stroke-width:2; stroke-opacity:0.1; fill:none\" points=\"217.783,1311.26 2352.76,1311.26 \"/>\n",
       "<polyline clip-path=\"url(#clip252)\" style=\"stroke:#000000; stroke-linecap:round; stroke-linejoin:round; stroke-width:2; stroke-opacity:0.1; fill:none\" points=\"217.783,1075.43 2352.76,1075.43 \"/>\n",
       "<polyline clip-path=\"url(#clip252)\" style=\"stroke:#000000; stroke-linecap:round; stroke-linejoin:round; stroke-width:2; stroke-opacity:0.1; fill:none\" points=\"217.783,839.606 2352.76,839.606 \"/>\n",
       "<polyline clip-path=\"url(#clip252)\" style=\"stroke:#000000; stroke-linecap:round; stroke-linejoin:round; stroke-width:2; stroke-opacity:0.1; fill:none\" points=\"217.783,603.781 2352.76,603.781 \"/>\n",
       "<polyline clip-path=\"url(#clip252)\" style=\"stroke:#000000; stroke-linecap:round; stroke-linejoin:round; stroke-width:2; stroke-opacity:0.1; fill:none\" points=\"217.783,367.956 2352.76,367.956 \"/>\n",
       "<polyline clip-path=\"url(#clip252)\" style=\"stroke:#000000; stroke-linecap:round; stroke-linejoin:round; stroke-width:2; stroke-opacity:0.1; fill:none\" points=\"217.783,132.131 2352.76,132.131 \"/>\n",
       "<polyline clip-path=\"url(#clip250)\" style=\"stroke:#000000; stroke-linecap:round; stroke-linejoin:round; stroke-width:4; stroke-opacity:1; fill:none\" points=\"217.783,1423.18 217.783,47.2441 \"/>\n",
       "<polyline clip-path=\"url(#clip250)\" style=\"stroke:#000000; stroke-linecap:round; stroke-linejoin:round; stroke-width:4; stroke-opacity:1; fill:none\" points=\"217.783,1311.26 236.681,1311.26 \"/>\n",
       "<polyline clip-path=\"url(#clip250)\" style=\"stroke:#000000; stroke-linecap:round; stroke-linejoin:round; stroke-width:4; stroke-opacity:1; fill:none\" points=\"217.783,1075.43 236.681,1075.43 \"/>\n",
       "<polyline clip-path=\"url(#clip250)\" style=\"stroke:#000000; stroke-linecap:round; stroke-linejoin:round; stroke-width:4; stroke-opacity:1; fill:none\" points=\"217.783,839.606 236.681,839.606 \"/>\n",
       "<polyline clip-path=\"url(#clip250)\" style=\"stroke:#000000; stroke-linecap:round; stroke-linejoin:round; stroke-width:4; stroke-opacity:1; fill:none\" points=\"217.783,603.781 236.681,603.781 \"/>\n",
       "<polyline clip-path=\"url(#clip250)\" style=\"stroke:#000000; stroke-linecap:round; stroke-linejoin:round; stroke-width:4; stroke-opacity:1; fill:none\" points=\"217.783,367.956 236.681,367.956 \"/>\n",
       "<polyline clip-path=\"url(#clip250)\" style=\"stroke:#000000; stroke-linecap:round; stroke-linejoin:round; stroke-width:4; stroke-opacity:1; fill:none\" points=\"217.783,132.131 236.681,132.131 \"/>\n",
       "<path clip-path=\"url(#clip250)\" d=\"M115.418 1324.6 L123.056 1324.6 L123.056 1298.24 L114.746 1299.9 L114.746 1295.64 L123.01 1293.98 L127.686 1293.98 L127.686 1324.6 L135.325 1324.6 L135.325 1328.54 L115.418 1328.54 L115.418 1324.6 Z\" fill=\"#000000\" fill-rule=\"nonzero\" fill-opacity=\"1\" /><path clip-path=\"url(#clip250)\" d=\"M144.769 1322.66 L149.653 1322.66 L149.653 1328.54 L144.769 1328.54 L144.769 1322.66 Z\" fill=\"#000000\" fill-rule=\"nonzero\" fill-opacity=\"1\" /><path clip-path=\"url(#clip250)\" d=\"M169.839 1297.06 Q166.227 1297.06 164.399 1300.62 Q162.593 1304.16 162.593 1311.29 Q162.593 1318.4 164.399 1321.96 Q166.227 1325.5 169.839 1325.5 Q173.473 1325.5 175.278 1321.96 Q177.107 1318.4 177.107 1311.29 Q177.107 1304.16 175.278 1300.62 Q173.473 1297.06 169.839 1297.06 M169.839 1293.35 Q175.649 1293.35 178.704 1297.96 Q181.783 1302.54 181.783 1311.29 Q181.783 1320.02 178.704 1324.62 Q175.649 1329.21 169.839 1329.21 Q164.028 1329.21 160.95 1324.62 Q157.894 1320.02 157.894 1311.29 Q157.894 1302.54 160.95 1297.96 Q164.028 1293.35 169.839 1293.35 Z\" fill=\"#000000\" fill-rule=\"nonzero\" fill-opacity=\"1\" /><path clip-path=\"url(#clip250)\" d=\"M116.644 1088.78 L124.283 1088.78 L124.283 1062.41 L115.973 1064.08 L115.973 1059.82 L124.237 1058.15 L128.913 1058.15 L128.913 1088.78 L136.552 1088.78 L136.552 1092.71 L116.644 1092.71 L116.644 1088.78 Z\" fill=\"#000000\" fill-rule=\"nonzero\" fill-opacity=\"1\" /><path clip-path=\"url(#clip250)\" d=\"M145.996 1086.83 L150.88 1086.83 L150.88 1092.71 L145.996 1092.71 L145.996 1086.83 Z\" fill=\"#000000\" fill-rule=\"nonzero\" fill-opacity=\"1\" /><path clip-path=\"url(#clip250)\" d=\"M161.876 1088.78 L169.514 1088.78 L169.514 1062.41 L161.204 1064.08 L161.204 1059.82 L169.468 1058.15 L174.144 1058.15 L174.144 1088.78 L181.783 1088.78 L181.783 1092.71 L161.876 1092.71 L161.876 1088.78 Z\" fill=\"#000000\" fill-rule=\"nonzero\" fill-opacity=\"1\" /><path clip-path=\"url(#clip250)\" d=\"M117.015 852.951 L124.654 852.951 L124.654 826.586 L116.343 828.252 L116.343 823.993 L124.607 822.326 L129.283 822.326 L129.283 852.951 L136.922 852.951 L136.922 856.886 L117.015 856.886 L117.015 852.951 Z\" fill=\"#000000\" fill-rule=\"nonzero\" fill-opacity=\"1\" /><path clip-path=\"url(#clip250)\" d=\"M146.366 851.007 L151.251 851.007 L151.251 856.886 L146.366 856.886 L146.366 851.007 Z\" fill=\"#000000\" fill-rule=\"nonzero\" fill-opacity=\"1\" /><path clip-path=\"url(#clip250)\" d=\"M165.464 852.951 L181.783 852.951 L181.783 856.886 L159.839 856.886 L159.839 852.951 Q162.501 850.197 167.084 845.567 Q171.69 840.914 172.871 839.572 Q175.116 837.049 175.996 835.312 Q176.899 833.553 176.899 831.863 Q176.899 829.109 174.954 827.373 Q173.033 825.637 169.931 825.637 Q167.732 825.637 165.278 826.4 Q162.848 827.164 160.07 828.715 L160.07 823.993 Q162.894 822.859 165.348 822.28 Q167.802 821.701 169.839 821.701 Q175.209 821.701 178.403 824.387 Q181.598 827.072 181.598 831.562 Q181.598 833.692 180.788 835.613 Q180.001 837.512 177.894 840.104 Q177.315 840.775 174.214 843.993 Q171.112 847.187 165.464 852.951 Z\" fill=\"#000000\" fill-rule=\"nonzero\" fill-opacity=\"1\" /><path clip-path=\"url(#clip250)\" d=\"M116.066 617.126 L123.705 617.126 L123.705 590.76 L115.394 592.427 L115.394 588.168 L123.658 586.501 L128.334 586.501 L128.334 617.126 L135.973 617.126 L135.973 621.061 L116.066 621.061 L116.066 617.126 Z\" fill=\"#000000\" fill-rule=\"nonzero\" fill-opacity=\"1\" /><path clip-path=\"url(#clip250)\" d=\"M145.417 615.182 L150.302 615.182 L150.302 621.061 L145.417 621.061 L145.417 615.182 Z\" fill=\"#000000\" fill-rule=\"nonzero\" fill-opacity=\"1\" /><path clip-path=\"url(#clip250)\" d=\"M174.653 602.427 Q178.01 603.145 179.885 605.413 Q181.783 607.682 181.783 611.015 Q181.783 616.131 178.264 618.932 Q174.746 621.732 168.264 621.732 Q166.089 621.732 163.774 621.293 Q161.482 620.876 159.028 620.019 L159.028 615.506 Q160.973 616.64 163.288 617.219 Q165.602 617.797 168.126 617.797 Q172.524 617.797 174.815 616.061 Q177.13 614.325 177.13 611.015 Q177.13 607.959 174.977 606.246 Q172.848 604.51 169.028 604.51 L165.001 604.51 L165.001 600.668 L169.214 600.668 Q172.663 600.668 174.491 599.302 Q176.32 597.913 176.32 595.321 Q176.32 592.659 174.422 591.246 Q172.547 589.811 169.028 589.811 Q167.107 589.811 164.908 590.228 Q162.709 590.645 160.07 591.524 L160.07 587.358 Q162.732 586.617 165.047 586.247 Q167.385 585.876 169.445 585.876 Q174.769 585.876 177.871 588.307 Q180.973 590.714 180.973 594.834 Q180.973 597.705 179.329 599.696 Q177.686 601.663 174.653 602.427 Z\" fill=\"#000000\" fill-rule=\"nonzero\" fill-opacity=\"1\" /><path clip-path=\"url(#clip250)\" d=\"M114.931 381.301 L122.57 381.301 L122.57 354.935 L114.26 356.602 L114.26 352.343 L122.524 350.676 L127.2 350.676 L127.2 381.301 L134.839 381.301 L134.839 385.236 L114.931 385.236 L114.931 381.301 Z\" fill=\"#000000\" fill-rule=\"nonzero\" fill-opacity=\"1\" /><path clip-path=\"url(#clip250)\" d=\"M144.283 379.356 L149.167 379.356 L149.167 385.236 L144.283 385.236 L144.283 379.356 Z\" fill=\"#000000\" fill-rule=\"nonzero\" fill-opacity=\"1\" /><path clip-path=\"url(#clip250)\" d=\"M172.2 354.75 L160.394 373.199 L172.2 373.199 L172.2 354.75 M170.973 350.676 L176.852 350.676 L176.852 373.199 L181.783 373.199 L181.783 377.088 L176.852 377.088 L176.852 385.236 L172.2 385.236 L172.2 377.088 L156.598 377.088 L156.598 372.574 L170.973 350.676 Z\" fill=\"#000000\" fill-rule=\"nonzero\" fill-opacity=\"1\" /><path clip-path=\"url(#clip250)\" d=\"M116.413 145.475 L124.052 145.475 L124.052 119.11 L115.742 120.776 L115.742 116.517 L124.005 114.851 L128.681 114.851 L128.681 145.475 L136.32 145.475 L136.32 149.411 L116.413 149.411 L116.413 145.475 Z\" fill=\"#000000\" fill-rule=\"nonzero\" fill-opacity=\"1\" /><path clip-path=\"url(#clip250)\" d=\"M145.765 143.531 L150.649 143.531 L150.649 149.411 L145.765 149.411 L145.765 143.531 Z\" fill=\"#000000\" fill-rule=\"nonzero\" fill-opacity=\"1\" /><path clip-path=\"url(#clip250)\" d=\"M160.88 114.851 L179.237 114.851 L179.237 118.786 L165.163 118.786 L165.163 127.258 Q166.181 126.911 167.2 126.749 Q168.218 126.563 169.237 126.563 Q175.024 126.563 178.403 129.735 Q181.783 132.906 181.783 138.323 Q181.783 143.901 178.311 147.003 Q174.839 150.082 168.519 150.082 Q166.343 150.082 164.075 149.712 Q161.829 149.341 159.422 148.6 L159.422 143.901 Q161.505 145.036 163.727 145.591 Q165.95 146.147 168.427 146.147 Q172.431 146.147 174.769 144.04 Q177.107 141.934 177.107 138.323 Q177.107 134.712 174.769 132.605 Q172.431 130.499 168.427 130.499 Q166.552 130.499 164.677 130.915 Q162.825 131.332 160.88 132.212 L160.88 114.851 Z\" fill=\"#000000\" fill-rule=\"nonzero\" fill-opacity=\"1\" /><path clip-path=\"url(#clip250)\" d=\"M16.4842 949.593 L16.4842 943.1 L56.6518 933.106 L16.4842 923.144 L16.4842 915.918 L56.6518 905.924 L16.4842 895.962 L16.4842 889.437 L64.0042 901.373 L64.0042 909.457 L22.7544 919.483 L64.0042 929.605 L64.0042 937.689 L16.4842 949.593 Z\" fill=\"#000000\" fill-rule=\"nonzero\" fill-opacity=\"1\" /><path clip-path=\"url(#clip250)\" d=\"M44.7161 854.489 L47.5806 854.489 L47.5806 881.416 Q53.6281 881.034 56.8109 877.788 Q59.9619 874.51 59.9619 868.685 Q59.9619 865.311 59.1344 862.16 Q58.3069 858.977 56.6518 855.858 L62.1899 855.858 Q63.5267 859.009 64.227 862.319 Q64.9272 865.629 64.9272 869.035 Q64.9272 877.565 59.9619 882.562 Q54.9967 887.527 46.5303 887.527 Q37.7774 887.527 32.6531 882.817 Q27.4968 878.074 27.4968 870.054 Q27.4968 862.86 32.1438 858.691 Q36.7589 854.489 44.7161 854.489 M42.9973 860.346 Q38.1912 860.41 35.3266 863.051 Q32.4621 865.661 32.4621 869.99 Q32.4621 874.891 35.2312 877.852 Q38.0002 880.78 43.0292 881.225 L42.9973 860.346 Z\" fill=\"#000000\" fill-rule=\"nonzero\" fill-opacity=\"1\" /><path clip-path=\"url(#clip250)\" d=\"M46.0847 828.676 Q46.0847 835.774 47.7079 838.511 Q49.3312 841.249 53.2461 841.249 Q56.3653 841.249 58.2114 839.212 Q60.0256 837.143 60.0256 833.61 Q60.0256 828.74 56.5881 825.812 Q53.1188 822.852 47.3897 822.852 L46.0847 822.852 L46.0847 828.676 M43.6657 816.995 L64.0042 816.995 L64.0042 822.852 L58.5933 822.852 Q61.8398 824.857 63.3994 827.849 Q64.9272 830.841 64.9272 835.169 Q64.9272 840.644 61.8716 843.89 Q58.7843 847.105 53.6281 847.105 Q47.6125 847.105 44.5569 843.095 Q41.5014 839.053 41.5014 831.064 L41.5014 822.852 L40.9285 822.852 Q36.8862 822.852 34.6901 825.525 Q32.4621 828.167 32.4621 832.973 Q32.4621 836.029 33.1941 838.925 Q33.9262 841.822 35.3903 844.495 L29.9795 844.495 Q28.7381 841.281 28.1334 838.257 Q27.4968 835.233 27.4968 832.369 Q27.4968 824.634 31.5072 820.815 Q35.5176 816.995 43.6657 816.995 Z\" fill=\"#000000\" fill-rule=\"nonzero\" fill-opacity=\"1\" /><path clip-path=\"url(#clip250)\" d=\"M14.479 804.932 L14.479 799.076 L64.0042 799.076 L64.0042 804.932 L14.479 804.932 Z\" fill=\"#000000\" fill-rule=\"nonzero\" fill-opacity=\"1\" /><path clip-path=\"url(#clip250)\" d=\"M18.2347 781.029 L28.3562 781.029 L28.3562 768.966 L32.9077 768.966 L32.9077 781.029 L52.2594 781.029 Q56.6199 781.029 57.8613 779.851 Q59.1026 778.642 59.1026 774.982 L59.1026 768.966 L64.0042 768.966 L64.0042 774.982 Q64.0042 781.761 61.4897 784.339 Q58.9434 786.917 52.2594 786.917 L32.9077 786.917 L32.9077 791.214 L28.3562 791.214 L28.3562 786.917 L18.2347 786.917 L18.2347 781.029 Z\" fill=\"#000000\" fill-rule=\"nonzero\" fill-opacity=\"1\" /><path clip-path=\"url(#clip250)\" d=\"M42.4881 731.631 L64.0042 731.631 L64.0042 737.488 L42.679 737.488 Q37.6183 737.488 35.1038 739.461 Q32.5894 741.434 32.5894 745.381 Q32.5894 750.124 35.6131 752.861 Q38.6368 755.598 43.8567 755.598 L64.0042 755.598 L64.0042 761.486 L14.479 761.486 L14.479 755.598 L33.8944 755.598 Q30.6797 753.497 29.0883 750.665 Q27.4968 747.8 27.4968 744.076 Q27.4968 737.933 31.3163 734.782 Q35.1038 731.631 42.4881 731.631 Z\" fill=\"#000000\" fill-rule=\"nonzero\" fill-opacity=\"1\" /><path clip-path=\"url(#clip250)\" d=\"M14.5426 685.162 Q21.8632 689.427 29.0246 691.495 Q36.186 693.564 43.5384 693.564 Q50.8908 693.564 58.1159 691.495 Q65.3091 689.395 72.5979 685.162 L72.5979 690.254 Q65.1182 695.028 57.8931 697.416 Q50.668 699.771 43.5384 699.771 Q36.4406 699.771 29.2474 697.416 Q22.0542 695.06 14.5426 690.254 L14.5426 685.162 Z\" fill=\"#000000\" fill-rule=\"nonzero\" fill-opacity=\"1\" /><path clip-path=\"url(#clip250)\" d=\"M16.4842 674.276 L16.4842 667.815 L45.3526 667.815 Q52.9915 667.815 56.3653 665.046 Q59.7073 662.277 59.7073 656.07 Q59.7073 649.896 56.3653 647.127 Q52.9915 644.357 45.3526 644.357 L16.4842 644.357 L16.4842 637.896 L46.1484 637.896 Q55.4423 637.896 60.1847 642.511 Q64.9272 647.095 64.9272 656.07 Q64.9272 665.078 60.1847 669.693 Q55.4423 674.276 46.1484 674.276 L16.4842 674.276 Z\" fill=\"#000000\" fill-rule=\"nonzero\" fill-opacity=\"1\" /><path clip-path=\"url(#clip250)\" d=\"M18.0438 597.347 L24.314 597.347 Q22.5634 601.007 21.704 604.253 Q20.8447 607.5 20.8447 610.524 Q20.8447 615.775 22.8817 618.64 Q24.9187 621.473 28.6745 621.473 Q31.8255 621.473 33.4488 619.595 Q35.0402 617.685 36.0269 612.402 L36.8226 608.518 Q38.1912 601.325 41.6605 597.92 Q45.098 594.482 50.8908 594.482 Q57.7976 594.482 61.3624 599.129 Q64.9272 603.744 64.9272 612.688 Q64.9272 616.062 64.1633 619.881 Q63.3994 623.669 61.9035 627.743 L55.2831 627.743 Q57.4793 623.828 58.5933 620.072 Q59.7073 616.316 59.7073 612.688 Q59.7073 607.182 57.543 604.19 Q55.3786 601.198 51.3682 601.198 Q47.8671 601.198 45.8937 603.362 Q43.9204 605.495 42.9337 610.396 L42.1698 614.311 Q40.7375 621.505 37.682 624.719 Q34.6264 627.934 29.1837 627.934 Q22.8817 627.934 19.2532 623.51 Q15.6248 619.054 15.6248 611.256 Q15.6248 607.914 16.2295 604.444 Q16.8343 600.975 18.0438 597.347 Z\" fill=\"#000000\" fill-rule=\"nonzero\" fill-opacity=\"1\" /><path clip-path=\"url(#clip250)\" d=\"M21.7677 578.027 L58.7206 578.027 L58.7206 570.261 Q58.7206 560.426 54.2646 555.874 Q49.8086 551.291 40.1964 551.291 Q30.6479 551.291 26.2237 555.874 Q21.7677 560.426 21.7677 570.261 L21.7677 578.027 M16.4842 584.456 L16.4842 571.247 Q16.4842 557.434 22.2451 550.973 Q27.9743 544.511 40.1964 544.511 Q52.4822 544.511 58.2432 551.004 Q64.0042 557.497 64.0042 571.247 L64.0042 584.456 L16.4842 584.456 Z\" fill=\"#000000\" fill-rule=\"nonzero\" fill-opacity=\"1\" /><path clip-path=\"url(#clip250)\" d=\"M14.5426 535.44 L14.5426 530.348 Q22.0542 525.573 29.2474 523.218 Q36.4406 520.831 43.5384 520.831 Q50.668 520.831 57.8931 523.218 Q65.1182 525.573 72.5979 530.348 L72.5979 535.44 Q65.3091 531.207 58.1159 529.138 Q50.8908 527.037 43.5384 527.037 Q36.186 527.037 29.0246 529.138 Q21.8632 531.207 14.5426 535.44 Z\" fill=\"#000000\" fill-rule=\"nonzero\" fill-opacity=\"1\" /><polyline clip-path=\"url(#clip252)\" style=\"stroke:#ff0000; stroke-linecap:round; stroke-linejoin:round; stroke-width:12; stroke-opacity:1; fill:none\" points=\"278.207,1311.26 295.132,1363.83 312.058,1313.59 328.983,1285.95 345.908,1263.55 362.834,1185.79 379.759,1169.22 396.685,1151.27 413.61,1166.8 430.536,1203.09 447.461,1217.59 464.386,1118.11 481.312,1077.63 498.237,1104.02 515.163,1127.51 532.088,1064.8 549.013,1070.07 565.939,1122.72 582.864,1072.47 599.79,1020.19 616.715,869.979 633.641,957.769 650.566,1006.03 667.491,922.47 684.417,1002.95 701.342,1063.07 718.268,1070.97 735.193,1015.89 752.119,1010.62 769.044,998.766 785.969,1060.44 802.895,1098.95 819.82,1173.5 836.746,1184.26 853.671,1173.22 870.597,1225.34 887.522,1218.59 904.447,1218.04 921.373,1232.24 938.298,1185.97 955.224,1142.04 972.149,1134.95 989.075,1164.22 1006,1154.57 1022.93,1174.25 1039.85,1196.23 1056.78,1166.1 1073.7,1092.85 1090.63,1045.5 1107.55,925.854 1124.48,912.062 1141.4,961.29 1158.33,926.069 1175.25,956.371 1192.18,905.483 1209.11,891.783 1226.03,933.931 1242.96,952.365 1259.88,880.667 1276.81,854.126 1293.73,803.242 1310.66,801.615 1327.58,791.109 1344.51,819.808 1361.43,757.348 1378.36,784.462 1395.28,829.887 1412.21,846.612 1429.14,778.713 1446.06,788.778 1462.99,794.148 1479.91,811.528 1496.84,814.131 1513.76,824.238 1530.69,821.559 1547.61,845.071 1564.54,913.663 1581.46,817.179 1598.39,717.721 1615.32,707.736 1632.24,743.446 1649.17,757.943 1666.09,748.053 1683.02,739.93 1699.94,707.565 1716.87,704.465 1733.79,720.538 1750.72,654.994 1767.64,640.579 1784.57,644.54 1801.49,632.774 1818.42,600.899 1835.35,578.329 1852.27,521.971 1869.2,528.436 1886.12,497.48 1903.05,552.627 1919.97,570.949 1936.9,530.959 1953.82,449.31 1970.75,441.14 1987.67,444.782 2004.6,415.732 2021.53,389.029 2038.45,394.364 2055.38,373.401 2072.3,469.106 2089.23,442.914 2106.15,445.369 2123.08,374.95 2140,351.013 2156.93,314.279 2173.85,251.895 2190.78,287.017 2207.71,326.175 2224.63,398.827 2241.56,335.836 2258.48,360.844 2275.41,418.9 2292.33,375.181 \"/>\n",
       "<polyline clip-path=\"url(#clip252)\" style=\"stroke:#0000ff; stroke-linecap:round; stroke-linejoin:round; stroke-width:12; stroke-opacity:1; fill:none\" points=\"278.207,1311.26 295.132,1297.69 312.058,1315.56 328.983,1284.71 345.908,1253.04 362.834,1260.96 379.759,1234.85 396.685,1216.21 413.61,1212.95 430.536,1204.54 447.461,1227.08 464.386,1259.82 481.312,1239.25 498.237,1194.8 515.163,1193.78 532.088,1206.66 549.013,1177.2 565.939,1157.54 582.864,1179.59 599.79,1167.62 616.715,1144.7 633.641,1097.29 650.566,1108.14 667.491,1131.53 684.417,1119.15 701.342,1119.56 718.268,1132.74 735.193,1149.99 752.119,1122.89 769.044,1118.33 785.969,1117.48 802.895,1129.49 819.82,1155.41 836.746,1186.3 853.671,1200.12 870.597,1195.73 887.522,1219.34 904.447,1201.86 921.373,1209.34 938.298,1223.48 955.224,1221.69 972.149,1180.63 989.075,1159.77 1006,1191.02 1022.93,1204.16 1039.85,1221.67 1056.78,1265.75 1073.7,1279.49 1090.63,1253.94 1107.55,1272.85 1124.48,1236.77 1141.4,1247.74 1158.33,1240.7 1175.25,1211.35 1192.18,1208.22 1209.11,1226.96 1226.03,1236.02 1242.96,1212.34 1259.88,1222.72 1276.81,1194.16 1293.73,1173.41 1310.66,1148.42 1327.58,1131.22 1344.51,1136.46 1361.43,1148.01 1378.36,1143.22 1395.28,1143.35 1412.21,1131.36 1429.14,1133.29 1446.06,1120.84 1462.99,1117.48 1479.91,1115.45 1496.84,1106.26 1513.76,1108.8 1530.69,1118.99 1547.61,1120.56 1564.54,1118.59 1581.46,1142.07 1598.39,1158.71 1615.32,1130.84 1632.24,1104.23 1649.17,1093.05 1666.09,1124.83 1683.02,1127.83 1699.94,1159.4 1716.87,1123.84 1733.79,1115.93 1750.72,1123.08 1767.64,1119.31 1784.57,1122.03 1801.49,1124.32 1818.42,1118.35 1835.35,1122.95 1852.27,1110.24 1869.2,1087.01 1886.12,1075.62 1903.05,1075.53 1919.97,1094.99 1936.9,1123.88 1953.82,1107.26 1970.75,1076.32 1987.67,1066.81 2004.6,1081.86 2021.53,1066.69 2038.45,1027.23 2055.38,1020.11 2072.3,1022.62 2089.23,1024.14 2106.15,1018.22 2123.08,1006.24 2140,995.556 2156.93,970.504 2173.85,966.036 2190.78,941.392 2207.71,939.733 2224.63,963.436 2241.56,973.22 2258.48,973.934 2275.41,983.811 2292.33,992.1 \"/>\n",
       "<polyline clip-path=\"url(#clip252)\" style=\"stroke:#008000; stroke-linecap:round; stroke-linejoin:round; stroke-width:12; stroke-opacity:1; fill:none\" points=\"278.207,1311.26 295.132,1384.24 312.058,1304.34 328.983,1221.44 345.908,1190.31 362.834,1122.1 379.759,1100.62 396.685,1076.69 413.61,1093.76 430.536,1130.61 447.461,1158.8 464.386,1044.33 481.312,1003.69 498.237,1030.08 515.163,1054.11 532.088,989.649 549.013,994.614 565.939,1048.71 582.864,995.192 599.79,941.21 616.715,787.802 633.641,874.732 650.566,924.034 667.491,837.373 684.417,918.589 701.342,980.867 718.268,988.989 735.193,931.52 752.119,926.202 769.044,912.71 785.969,975.895 802.895,1015.15 819.82,1087.14 836.746,1089.87 853.671,1044.71 870.597,1099.71 887.522,1087.91 904.447,1091.64 921.373,1120.68 938.298,1074.17 955.224,1024.76 972.149,1017.81 989.075,1046.44 1006,1031.7 1022.93,1062.18 1039.85,1096.83 1056.78,1066.38 1073.7,984.189 1090.63,936.161 1107.55,812.357 1124.48,798.021 1141.4,848.906 1158.33,812.501 1175.25,844.036 1192.18,790.621 1209.11,776.267 1226.03,819.714 1242.96,838.819 1259.88,763.389 1276.81,736.236 1293.73,682.828 1310.66,680.868 1327.58,669.87 1344.51,699.609 1361.43,633.943 1378.36,662.164 1395.28,709.393 1412.21,727.064 1429.14,655.591 1446.06,665.74 1462.99,671.257 1479.91,689.563 1496.84,692.185 1513.76,702.382 1530.69,699.873 1547.61,724.356 1564.54,795.795 1581.46,691.307 1598.39,587.587 1615.32,575.332 1632.24,613.38 1649.17,629.187 1666.09,617.354 1683.02,608.796 1699.94,575.834 1716.87,571.466 1733.79,588.664 1750.72,520.478 1767.64,506.568 1784.57,510.274 1801.49,495.721 1818.42,464.429 1835.35,442.562 1852.27,382.757 1869.2,388.447 1886.12,356.101 1903.05,414.167 1919.97,434.146 1936.9,398.845 1953.82,309.027 1970.75,296.559 1987.67,295.079 2004.6,266.276 2021.53,238.617 2038.45,248.303 2055.38,222.758 2072.3,318.636 2089.23,290.742 2106.15,294.213 2123.08,217.934 2140,191.666 2156.93,151.069 2173.85,86.1857 2190.78,121.897 2207.71,163.326 2224.63,241.371 2241.56,177.238 2258.48,202.064 2275.41,261.5 2292.33,215.852 \"/>\n",
       "<path clip-path=\"url(#clip250)\" d=\"M288.949 300.469 L1224.48 300.469 L1224.48 93.1086 L288.949 93.1086  Z\" fill=\"#ffffff\" fill-rule=\"evenodd\" fill-opacity=\"1\"/>\n",
       "<polyline clip-path=\"url(#clip250)\" style=\"stroke:#000000; stroke-linecap:round; stroke-linejoin:round; stroke-width:4; stroke-opacity:1; fill:none\" points=\"288.949,300.469 1224.48,300.469 1224.48,93.1086 288.949,93.1086 288.949,300.469 \"/>\n",
       "<polyline clip-path=\"url(#clip250)\" style=\"stroke:#ff0000; stroke-linecap:round; stroke-linejoin:round; stroke-width:12; stroke-opacity:1; fill:none\" points=\"312.671,144.949 455.002,144.949 \"/>\n",
       "<path clip-path=\"url(#clip250)\" d=\"M483.4 131.511 L483.4 144.497 L489.28 144.497 Q492.543 144.497 494.326 142.807 Q496.108 141.118 496.108 137.993 Q496.108 134.891 494.326 133.201 Q492.543 131.511 489.28 131.511 L483.4 131.511 M478.724 127.669 L489.28 127.669 Q495.09 127.669 498.053 130.307 Q501.039 132.923 501.039 137.993 Q501.039 143.108 498.053 145.724 Q495.09 148.34 489.28 148.34 L483.4 148.34 L483.4 162.229 L478.724 162.229 L478.724 127.669 Z\" fill=\"#000000\" fill-rule=\"nonzero\" fill-opacity=\"1\" /><path clip-path=\"url(#clip250)\" d=\"M515.483 139.289 Q512.057 139.289 510.067 141.974 Q508.076 144.636 508.076 149.289 Q508.076 153.942 510.043 156.627 Q512.034 159.289 515.483 159.289 Q518.886 159.289 520.877 156.604 Q522.867 153.918 522.867 149.289 Q522.867 144.682 520.877 141.997 Q518.886 139.289 515.483 139.289 M515.483 135.678 Q521.039 135.678 524.21 139.289 Q527.381 142.9 527.381 149.289 Q527.381 155.655 524.21 159.289 Q521.039 162.9 515.483 162.9 Q509.904 162.9 506.733 159.289 Q503.585 155.655 503.585 149.289 Q503.585 142.9 506.733 139.289 Q509.904 135.678 515.483 135.678 Z\" fill=\"#000000\" fill-rule=\"nonzero\" fill-opacity=\"1\" /><path clip-path=\"url(#clip250)\" d=\"M549.464 140.284 Q548.747 139.868 547.89 139.682 Q547.057 139.474 546.039 139.474 Q542.427 139.474 540.483 141.835 Q538.562 144.173 538.562 148.571 L538.562 162.229 L534.279 162.229 L534.279 136.303 L538.562 136.303 L538.562 140.331 Q539.904 137.969 542.057 136.835 Q544.21 135.678 547.289 135.678 Q547.728 135.678 548.261 135.747 Q548.793 135.794 549.441 135.909 L549.464 140.284 Z\" fill=\"#000000\" fill-rule=\"nonzero\" fill-opacity=\"1\" /><path clip-path=\"url(#clip250)\" d=\"M558.145 128.942 L558.145 136.303 L566.918 136.303 L566.918 139.613 L558.145 139.613 L558.145 153.687 Q558.145 156.858 559.001 157.761 Q559.881 158.664 562.543 158.664 L566.918 158.664 L566.918 162.229 L562.543 162.229 Q557.613 162.229 555.738 160.4 Q553.863 158.548 553.863 153.687 L553.863 139.613 L550.738 139.613 L550.738 136.303 L553.863 136.303 L553.863 128.942 L558.145 128.942 Z\" fill=\"#000000\" fill-rule=\"nonzero\" fill-opacity=\"1\" /><path clip-path=\"url(#clip250)\" d=\"M585.645 126.21 L585.645 129.752 L581.571 129.752 Q579.279 129.752 578.376 130.678 Q577.497 131.604 577.497 134.011 L577.497 136.303 L584.511 136.303 L584.511 139.613 L577.497 139.613 L577.497 162.229 L573.214 162.229 L573.214 139.613 L569.14 139.613 L569.14 136.303 L573.214 136.303 L573.214 134.497 Q573.214 130.169 575.228 128.201 Q577.242 126.21 581.617 126.21 L585.645 126.21 Z\" fill=\"#000000\" fill-rule=\"nonzero\" fill-opacity=\"1\" /><path clip-path=\"url(#clip250)\" d=\"M599.256 139.289 Q595.83 139.289 593.839 141.974 Q591.848 144.636 591.848 149.289 Q591.848 153.942 593.816 156.627 Q595.807 159.289 599.256 159.289 Q602.659 159.289 604.649 156.604 Q606.64 153.918 606.64 149.289 Q606.64 144.682 604.649 141.997 Q602.659 139.289 599.256 139.289 M599.256 135.678 Q604.811 135.678 607.983 139.289 Q611.154 142.9 611.154 149.289 Q611.154 155.655 607.983 159.289 Q604.811 162.9 599.256 162.9 Q593.677 162.9 590.506 159.289 Q587.358 155.655 587.358 149.289 Q587.358 142.9 590.506 139.289 Q593.677 135.678 599.256 135.678 Z\" fill=\"#000000\" fill-rule=\"nonzero\" fill-opacity=\"1\" /><path clip-path=\"url(#clip250)\" d=\"M618.214 126.21 L622.473 126.21 L622.473 162.229 L618.214 162.229 L618.214 126.21 Z\" fill=\"#000000\" fill-rule=\"nonzero\" fill-opacity=\"1\" /><path clip-path=\"url(#clip250)\" d=\"M631.385 136.303 L635.645 136.303 L635.645 162.229 L631.385 162.229 L631.385 136.303 M631.385 126.21 L635.645 126.21 L635.645 131.604 L631.385 131.604 L631.385 126.21 Z\" fill=\"#000000\" fill-rule=\"nonzero\" fill-opacity=\"1\" /><path clip-path=\"url(#clip250)\" d=\"M654.603 139.289 Q651.177 139.289 649.186 141.974 Q647.195 144.636 647.195 149.289 Q647.195 153.942 649.163 156.627 Q651.154 159.289 654.603 159.289 Q658.006 159.289 659.996 156.604 Q661.987 153.918 661.987 149.289 Q661.987 144.682 659.996 141.997 Q658.006 139.289 654.603 139.289 M654.603 135.678 Q660.158 135.678 663.33 139.289 Q666.501 142.9 666.501 149.289 Q666.501 155.655 663.33 159.289 Q660.158 162.9 654.603 162.9 Q649.024 162.9 645.853 159.289 Q642.705 155.655 642.705 149.289 Q642.705 142.9 645.853 139.289 Q649.024 135.678 654.603 135.678 Z\" fill=\"#000000\" fill-rule=\"nonzero\" fill-opacity=\"1\" /><path clip-path=\"url(#clip250)\" d=\"M690.042 158.293 L697.681 158.293 L697.681 131.928 L689.371 133.595 L689.371 129.335 L697.635 127.669 L702.311 127.669 L702.311 158.293 L709.95 158.293 L709.95 162.229 L690.042 162.229 L690.042 158.293 Z\" fill=\"#000000\" fill-rule=\"nonzero\" fill-opacity=\"1\" /><path clip-path=\"url(#clip250)\" d=\"M733.561 143.594 Q736.917 144.312 738.792 146.581 Q740.69 148.849 740.69 152.182 Q740.69 157.298 737.172 160.099 Q733.653 162.9 727.172 162.9 Q724.996 162.9 722.681 162.46 Q720.389 162.043 717.936 161.187 L717.936 156.673 Q719.88 157.807 722.195 158.386 Q724.51 158.965 727.033 158.965 Q731.431 158.965 733.723 157.229 Q736.038 155.493 736.038 152.182 Q736.038 149.127 733.885 147.414 Q731.755 145.678 727.936 145.678 L723.908 145.678 L723.908 141.835 L728.121 141.835 Q731.57 141.835 733.399 140.469 Q735.227 139.081 735.227 136.488 Q735.227 133.826 733.329 132.414 Q731.454 130.979 727.936 130.979 Q726.014 130.979 723.815 131.395 Q721.616 131.812 718.977 132.692 L718.977 128.525 Q721.639 127.784 723.954 127.414 Q726.292 127.044 728.352 127.044 Q733.676 127.044 736.778 129.474 Q739.88 131.882 739.88 136.002 Q739.88 138.872 738.237 140.863 Q736.593 142.831 733.561 143.594 Z\" fill=\"#000000\" fill-rule=\"nonzero\" fill-opacity=\"1\" /><path clip-path=\"url(#clip250)\" d=\"M774.255 126.257 Q771.153 131.581 769.648 136.789 Q768.144 141.997 768.144 147.344 Q768.144 152.692 769.648 157.946 Q771.176 163.178 774.255 168.479 L770.551 168.479 Q767.079 163.039 765.343 157.784 Q763.63 152.53 763.63 147.344 Q763.63 142.182 765.343 136.951 Q767.056 131.72 770.551 126.257 L774.255 126.257 Z\" fill=\"#000000\" fill-rule=\"nonzero\" fill-opacity=\"1\" /><path clip-path=\"url(#clip250)\" d=\"M794.301 149.196 Q789.139 149.196 787.148 150.377 Q785.158 151.557 785.158 154.405 Q785.158 156.673 786.639 158.016 Q788.144 159.335 790.713 159.335 Q794.255 159.335 796.384 156.835 Q798.537 154.312 798.537 150.145 L798.537 149.196 L794.301 149.196 M802.796 147.437 L802.796 162.229 L798.537 162.229 L798.537 158.293 Q797.079 160.655 794.903 161.789 Q792.727 162.9 789.579 162.9 Q785.597 162.9 783.236 160.678 Q780.898 158.432 780.898 154.682 Q780.898 150.307 783.815 148.085 Q786.755 145.863 792.565 145.863 L798.537 145.863 L798.537 145.446 Q798.537 142.507 796.593 140.909 Q794.671 139.289 791.176 139.289 Q788.954 139.289 786.847 139.821 Q784.741 140.354 782.797 141.419 L782.797 137.483 Q785.134 136.581 787.334 136.141 Q789.533 135.678 791.616 135.678 Q797.241 135.678 800.019 138.594 Q802.796 141.511 802.796 147.437 Z\" fill=\"#000000\" fill-rule=\"nonzero\" fill-opacity=\"1\" /><path clip-path=\"url(#clip250)\" d=\"M830.227 137.298 L830.227 141.28 Q828.421 140.284 826.593 139.798 Q824.787 139.289 822.935 139.289 Q818.792 139.289 816.5 141.928 Q814.208 144.544 814.208 149.289 Q814.208 154.034 816.5 156.673 Q818.792 159.289 822.935 159.289 Q824.787 159.289 826.593 158.803 Q828.421 158.293 830.227 157.298 L830.227 161.233 Q828.444 162.067 826.523 162.483 Q824.625 162.9 822.472 162.9 Q816.616 162.9 813.167 159.219 Q809.718 155.539 809.718 149.289 Q809.718 142.946 813.19 139.312 Q816.685 135.678 822.75 135.678 Q824.718 135.678 826.593 136.095 Q828.468 136.488 830.227 137.298 Z\" fill=\"#000000\" fill-rule=\"nonzero\" fill-opacity=\"1\" /><path clip-path=\"url(#clip250)\" d=\"M841.847 128.942 L841.847 136.303 L850.62 136.303 L850.62 139.613 L841.847 139.613 L841.847 153.687 Q841.847 156.858 842.704 157.761 Q843.583 158.664 846.245 158.664 L850.62 158.664 L850.62 162.229 L846.245 162.229 Q841.315 162.229 839.44 160.4 Q837.565 158.548 837.565 153.687 L837.565 139.613 L834.44 139.613 L834.44 136.303 L837.565 136.303 L837.565 128.942 L841.847 128.942 Z\" fill=\"#000000\" fill-rule=\"nonzero\" fill-opacity=\"1\" /><path clip-path=\"url(#clip250)\" d=\"M855.782 151.997 L855.782 136.303 L860.041 136.303 L860.041 151.835 Q860.041 155.516 861.477 157.368 Q862.912 159.196 865.782 159.196 Q869.231 159.196 871.222 156.997 Q873.236 154.798 873.236 151.002 L873.236 136.303 L877.495 136.303 L877.495 162.229 L873.236 162.229 L873.236 158.247 Q871.685 160.608 869.625 161.766 Q867.588 162.9 864.879 162.9 Q860.412 162.9 858.097 160.122 Q855.782 157.344 855.782 151.997 M866.5 135.678 L866.5 135.678 Z\" fill=\"#000000\" fill-rule=\"nonzero\" fill-opacity=\"1\" /><path clip-path=\"url(#clip250)\" d=\"M898.051 149.196 Q892.889 149.196 890.898 150.377 Q888.907 151.557 888.907 154.405 Q888.907 156.673 890.389 158.016 Q891.893 159.335 894.463 159.335 Q898.004 159.335 900.134 156.835 Q902.287 154.312 902.287 150.145 L902.287 149.196 L898.051 149.196 M906.546 147.437 L906.546 162.229 L902.287 162.229 L902.287 158.293 Q900.828 160.655 898.652 161.789 Q896.476 162.9 893.328 162.9 Q889.347 162.9 886.986 160.678 Q884.648 158.432 884.648 154.682 Q884.648 150.307 887.564 148.085 Q890.504 145.863 896.314 145.863 L902.287 145.863 L902.287 145.446 Q902.287 142.507 900.342 140.909 Q898.421 139.289 894.926 139.289 Q892.703 139.289 890.597 139.821 Q888.49 140.354 886.546 141.419 L886.546 137.483 Q888.884 136.581 891.083 136.141 Q893.282 135.678 895.365 135.678 Q900.99 135.678 903.768 138.594 Q906.546 141.511 906.546 147.437 Z\" fill=\"#000000\" fill-rule=\"nonzero\" fill-opacity=\"1\" /><path clip-path=\"url(#clip250)\" d=\"M915.319 126.21 L919.578 126.21 L919.578 162.229 L915.319 162.229 L915.319 126.21 Z\" fill=\"#000000\" fill-rule=\"nonzero\" fill-opacity=\"1\" /><path clip-path=\"url(#clip250)\" d=\"M927.819 126.257 L931.523 126.257 Q934.995 131.72 936.708 136.951 Q938.444 142.182 938.444 147.344 Q938.444 152.53 936.708 157.784 Q934.995 163.039 931.523 168.479 L927.819 168.479 Q930.898 163.178 932.402 157.946 Q933.93 152.692 933.93 147.344 Q933.93 141.997 932.402 136.789 Q930.898 131.581 927.819 126.257 Z\" fill=\"#000000\" fill-rule=\"nonzero\" fill-opacity=\"1\" /><polyline clip-path=\"url(#clip250)\" style=\"stroke:#0000ff; stroke-linecap:round; stroke-linejoin:round; stroke-width:12; stroke-opacity:1; fill:none\" points=\"312.671,196.789 455.002,196.789 \"/>\n",
       "<path clip-path=\"url(#clip250)\" d=\"M500.969 180.643 L500.969 185.203 Q498.307 183.93 495.946 183.305 Q493.585 182.68 491.386 182.68 Q487.567 182.68 485.483 184.161 Q483.423 185.643 483.423 188.374 Q483.423 190.666 484.789 191.847 Q486.178 193.004 490.02 193.722 L492.844 194.3 Q498.076 195.296 500.553 197.819 Q503.053 200.319 503.053 204.532 Q503.053 209.555 499.673 212.147 Q496.317 214.74 489.812 214.74 Q487.358 214.74 484.581 214.184 Q481.826 213.629 478.863 212.541 L478.863 207.726 Q481.71 209.323 484.442 210.133 Q487.173 210.944 489.812 210.944 Q493.817 210.944 495.993 209.37 Q498.168 207.796 498.168 204.879 Q498.168 202.333 496.594 200.897 Q495.043 199.462 491.479 198.745 L488.631 198.189 Q483.4 197.147 481.062 194.925 Q478.724 192.703 478.724 188.745 Q478.724 184.161 481.942 181.522 Q485.182 178.884 490.854 178.884 Q493.284 178.884 495.807 179.323 Q498.33 179.763 500.969 180.643 Z\" fill=\"#000000\" fill-rule=\"nonzero\" fill-opacity=\"1\" /><path clip-path=\"url(#clip250)\" d=\"M515.02 183.351 L515.02 196.337 L520.9 196.337 Q524.164 196.337 525.946 194.647 Q527.728 192.958 527.728 189.833 Q527.728 186.731 525.946 185.041 Q524.164 183.351 520.9 183.351 L515.02 183.351 M510.344 179.509 L520.9 179.509 Q526.71 179.509 529.673 182.147 Q532.659 184.763 532.659 189.833 Q532.659 194.948 529.673 197.564 Q526.71 200.18 520.9 200.18 L515.02 200.18 L515.02 214.069 L510.344 214.069 L510.344 179.509 Z\" fill=\"#000000\" fill-rule=\"nonzero\" fill-opacity=\"1\" /><path clip-path=\"url(#clip250)\" d=\"M533.145 179.509 L538.168 179.509 L547.751 193.722 L557.265 179.509 L562.288 179.509 L550.066 197.61 L550.066 214.069 L545.367 214.069 L545.367 197.61 L533.145 179.509 Z\" fill=\"#000000\" fill-rule=\"nonzero\" fill-opacity=\"1\" /><polyline clip-path=\"url(#clip250)\" style=\"stroke:#008000; stroke-linecap:round; stroke-linejoin:round; stroke-width:12; stroke-opacity:1; fill:none\" points=\"312.671,248.629 455.002,248.629 \"/>\n",
       "<path clip-path=\"url(#clip250)\" d=\"M495.113 249.705 Q496.618 250.214 498.03 251.881 Q499.465 253.548 500.9 256.464 L505.645 265.909 L500.622 265.909 L496.201 257.043 Q494.488 253.571 492.868 252.436 Q491.27 251.302 488.493 251.302 L483.4 251.302 L483.4 265.909 L478.724 265.909 L478.724 231.349 L489.28 231.349 Q495.205 231.349 498.122 233.825 Q501.039 236.302 501.039 241.302 Q501.039 244.566 499.511 246.719 Q498.006 248.872 495.113 249.705 M483.4 235.191 L483.4 247.46 L489.28 247.46 Q492.659 247.46 494.372 245.909 Q496.108 244.335 496.108 241.302 Q496.108 238.27 494.372 236.742 Q492.659 235.191 489.28 235.191 L483.4 235.191 Z\" fill=\"#000000\" fill-rule=\"nonzero\" fill-opacity=\"1\" /><path clip-path=\"url(#clip250)\" d=\"M531.525 251.881 L531.525 253.964 L511.941 253.964 Q512.219 258.362 514.58 260.677 Q516.965 262.969 521.201 262.969 Q523.654 262.969 525.946 262.367 Q528.261 261.765 530.529 260.561 L530.529 264.589 Q528.238 265.561 525.83 266.071 Q523.423 266.58 520.946 266.58 Q514.742 266.58 511.108 262.969 Q507.497 259.358 507.497 253.2 Q507.497 246.835 510.923 243.108 Q514.372 239.358 520.205 239.358 Q525.437 239.358 528.469 242.737 Q531.525 246.094 531.525 251.881 M527.265 250.631 Q527.219 247.136 525.298 245.052 Q523.4 242.969 520.252 242.969 Q516.687 242.969 514.534 244.983 Q512.404 246.997 512.08 250.654 L527.265 250.631 Z\" fill=\"#000000\" fill-rule=\"nonzero\" fill-opacity=\"1\" /><path clip-path=\"url(#clip250)\" d=\"M550.298 252.876 Q545.136 252.876 543.145 254.057 Q541.154 255.237 541.154 258.085 Q541.154 260.353 542.636 261.696 Q544.14 263.015 546.71 263.015 Q550.251 263.015 552.381 260.515 Q554.534 257.992 554.534 253.825 L554.534 252.876 L550.298 252.876 M558.793 251.117 L558.793 265.909 L554.534 265.909 L554.534 261.973 Q553.076 264.335 550.9 265.469 Q548.724 266.58 545.576 266.58 Q541.594 266.58 539.233 264.358 Q536.895 262.112 536.895 258.362 Q536.895 253.987 539.812 251.765 Q542.752 249.543 548.562 249.543 L554.534 249.543 L554.534 249.126 Q554.534 246.187 552.589 244.589 Q550.668 242.969 547.173 242.969 Q544.951 242.969 542.844 243.501 Q540.738 244.034 538.793 245.099 L538.793 241.163 Q541.131 240.261 543.33 239.821 Q545.529 239.358 547.613 239.358 Q553.238 239.358 556.015 242.274 Q558.793 245.191 558.793 251.117 Z\" fill=\"#000000\" fill-rule=\"nonzero\" fill-opacity=\"1\" /><path clip-path=\"url(#clip250)\" d=\"M567.566 229.89 L571.825 229.89 L571.825 265.909 L567.566 265.909 L567.566 229.89 Z\" fill=\"#000000\" fill-rule=\"nonzero\" fill-opacity=\"1\" /><path clip-path=\"url(#clip250)\" d=\"M580.737 229.89 L584.997 229.89 L584.997 265.909 L580.737 265.909 L580.737 229.89 Z\" fill=\"#000000\" fill-rule=\"nonzero\" fill-opacity=\"1\" /><path clip-path=\"url(#clip250)\" d=\"M603.955 242.969 Q600.529 242.969 598.538 245.654 Q596.548 248.316 596.548 252.969 Q596.548 257.622 598.515 260.307 Q600.506 262.969 603.955 262.969 Q607.358 262.969 609.348 260.284 Q611.339 257.598 611.339 252.969 Q611.339 248.362 609.348 245.677 Q607.358 242.969 603.955 242.969 M603.955 239.358 Q609.51 239.358 612.682 242.969 Q615.853 246.58 615.853 252.969 Q615.853 259.335 612.682 262.969 Q609.51 266.58 603.955 266.58 Q598.376 266.58 595.205 262.969 Q592.057 259.335 592.057 252.969 Q592.057 246.58 595.205 242.969 Q598.376 239.358 603.955 239.358 Z\" fill=\"#000000\" fill-rule=\"nonzero\" fill-opacity=\"1\" /><path clip-path=\"url(#clip250)\" d=\"M641.57 240.978 L641.57 244.96 Q639.765 243.964 637.936 243.478 Q636.131 242.969 634.279 242.969 Q630.135 242.969 627.844 245.608 Q625.552 248.224 625.552 252.969 Q625.552 257.714 627.844 260.353 Q630.135 262.969 634.279 262.969 Q636.131 262.969 637.936 262.483 Q639.765 261.973 641.57 260.978 L641.57 264.913 Q639.788 265.747 637.867 266.163 Q635.969 266.58 633.816 266.58 Q627.959 266.58 624.51 262.899 Q621.061 259.219 621.061 252.969 Q621.061 246.626 624.533 242.992 Q628.029 239.358 634.094 239.358 Q636.061 239.358 637.936 239.775 Q639.811 240.168 641.57 240.978 Z\" fill=\"#000000\" fill-rule=\"nonzero\" fill-opacity=\"1\" /><path clip-path=\"url(#clip250)\" d=\"M660.76 252.876 Q655.598 252.876 653.607 254.057 Q651.617 255.237 651.617 258.085 Q651.617 260.353 653.098 261.696 Q654.603 263.015 657.172 263.015 Q660.714 263.015 662.843 260.515 Q664.996 257.992 664.996 253.825 L664.996 252.876 L660.76 252.876 M669.255 251.117 L669.255 265.909 L664.996 265.909 L664.996 261.973 Q663.538 264.335 661.362 265.469 Q659.186 266.58 656.038 266.58 Q652.056 266.58 649.695 264.358 Q647.357 262.112 647.357 258.362 Q647.357 253.987 650.274 251.765 Q653.214 249.543 659.024 249.543 L664.996 249.543 L664.996 249.126 Q664.996 246.187 663.052 244.589 Q661.131 242.969 657.635 242.969 Q655.413 242.969 653.306 243.501 Q651.2 244.034 649.256 245.099 L649.256 241.163 Q651.594 240.261 653.793 239.821 Q655.992 239.358 658.075 239.358 Q663.7 239.358 666.478 242.274 Q669.255 245.191 669.255 251.117 Z\" fill=\"#000000\" fill-rule=\"nonzero\" fill-opacity=\"1\" /><path clip-path=\"url(#clip250)\" d=\"M682.242 232.622 L682.242 239.983 L691.015 239.983 L691.015 243.293 L682.242 243.293 L682.242 257.367 Q682.242 260.538 683.098 261.441 Q683.978 262.344 686.64 262.344 L691.015 262.344 L691.015 265.909 L686.64 265.909 Q681.709 265.909 679.834 264.08 Q677.959 262.228 677.959 257.367 L677.959 243.293 L674.834 243.293 L674.834 239.983 L677.959 239.983 L677.959 232.622 L682.242 232.622 Z\" fill=\"#000000\" fill-rule=\"nonzero\" fill-opacity=\"1\" /><path clip-path=\"url(#clip250)\" d=\"M718.792 251.881 L718.792 253.964 L699.209 253.964 Q699.487 258.362 701.848 260.677 Q704.232 262.969 708.468 262.969 Q710.922 262.969 713.214 262.367 Q715.528 261.765 717.797 260.561 L717.797 264.589 Q715.505 265.561 713.098 266.071 Q710.69 266.58 708.214 266.58 Q702.01 266.58 698.376 262.969 Q694.765 259.358 694.765 253.2 Q694.765 246.835 698.191 243.108 Q701.64 239.358 707.473 239.358 Q712.704 239.358 715.737 242.737 Q718.792 246.094 718.792 251.881 M714.533 250.631 Q714.487 247.136 712.565 245.052 Q710.667 242.969 707.519 242.969 Q703.954 242.969 701.802 244.983 Q699.672 246.997 699.348 250.654 L714.533 250.631 Z\" fill=\"#000000\" fill-rule=\"nonzero\" fill-opacity=\"1\" /><path clip-path=\"url(#clip250)\" d=\"M745.713 235.191 L745.713 248.177 L751.593 248.177 Q754.857 248.177 756.639 246.487 Q758.422 244.798 758.422 241.673 Q758.422 238.571 756.639 236.881 Q754.857 235.191 751.593 235.191 L745.713 235.191 M741.037 231.349 L751.593 231.349 Q757.403 231.349 760.366 233.987 Q763.352 236.603 763.352 241.673 Q763.352 246.788 760.366 249.404 Q757.403 252.02 751.593 252.02 L745.713 252.02 L745.713 265.909 L741.037 265.909 L741.037 231.349 Z\" fill=\"#000000\" fill-rule=\"nonzero\" fill-opacity=\"1\" /><path clip-path=\"url(#clip250)\" d=\"M777.797 242.969 Q774.371 242.969 772.38 245.654 Q770.389 248.316 770.389 252.969 Q770.389 257.622 772.357 260.307 Q774.347 262.969 777.797 262.969 Q781.199 262.969 783.19 260.284 Q785.181 257.598 785.181 252.969 Q785.181 248.362 783.19 245.677 Q781.199 242.969 777.797 242.969 M777.797 239.358 Q783.352 239.358 786.523 242.969 Q789.695 246.58 789.695 252.969 Q789.695 259.335 786.523 262.969 Q783.352 266.58 777.797 266.58 Q772.218 266.58 769.047 262.969 Q765.898 259.335 765.898 252.969 Q765.898 246.58 769.047 242.969 Q772.218 239.358 777.797 239.358 Z\" fill=\"#000000\" fill-rule=\"nonzero\" fill-opacity=\"1\" /><path clip-path=\"url(#clip250)\" d=\"M811.778 243.964 Q811.06 243.548 810.204 243.362 Q809.37 243.154 808.352 243.154 Q804.741 243.154 802.796 245.515 Q800.875 247.853 800.875 252.251 L800.875 265.909 L796.593 265.909 L796.593 239.983 L800.875 239.983 L800.875 244.011 Q802.218 241.649 804.37 240.515 Q806.523 239.358 809.602 239.358 Q810.042 239.358 810.574 239.427 Q811.107 239.474 811.755 239.589 L811.778 243.964 Z\" fill=\"#000000\" fill-rule=\"nonzero\" fill-opacity=\"1\" /><path clip-path=\"url(#clip250)\" d=\"M820.458 232.622 L820.458 239.983 L829.231 239.983 L829.231 243.293 L820.458 243.293 L820.458 257.367 Q820.458 260.538 821.315 261.441 Q822.194 262.344 824.856 262.344 L829.231 262.344 L829.231 265.909 L824.856 265.909 Q819.926 265.909 818.051 264.08 Q816.176 262.228 816.176 257.367 L816.176 243.293 L813.051 243.293 L813.051 239.983 L816.176 239.983 L816.176 232.622 L820.458 232.622 Z\" fill=\"#000000\" fill-rule=\"nonzero\" fill-opacity=\"1\" /><path clip-path=\"url(#clip250)\" d=\"M847.958 229.89 L847.958 233.432 L843.884 233.432 Q841.593 233.432 840.69 234.358 Q839.81 235.284 839.81 237.691 L839.81 239.983 L846.824 239.983 L846.824 243.293 L839.81 243.293 L839.81 265.909 L835.528 265.909 L835.528 243.293 L831.454 243.293 L831.454 239.983 L835.528 239.983 L835.528 238.177 Q835.528 233.849 837.542 231.881 Q839.555 229.89 843.93 229.89 L847.958 229.89 Z\" fill=\"#000000\" fill-rule=\"nonzero\" fill-opacity=\"1\" /><path clip-path=\"url(#clip250)\" d=\"M861.569 242.969 Q858.143 242.969 856.153 245.654 Q854.162 248.316 854.162 252.969 Q854.162 257.622 856.129 260.307 Q858.12 262.969 861.569 262.969 Q864.972 262.969 866.963 260.284 Q868.953 257.598 868.953 252.969 Q868.953 248.362 866.963 245.677 Q864.972 242.969 861.569 242.969 M861.569 239.358 Q867.125 239.358 870.296 242.969 Q873.467 246.58 873.467 252.969 Q873.467 259.335 870.296 262.969 Q867.125 266.58 861.569 266.58 Q855.991 266.58 852.819 262.969 Q849.671 259.335 849.671 252.969 Q849.671 246.58 852.819 242.969 Q855.991 239.358 861.569 239.358 Z\" fill=\"#000000\" fill-rule=\"nonzero\" fill-opacity=\"1\" /><path clip-path=\"url(#clip250)\" d=\"M880.527 229.89 L884.787 229.89 L884.787 265.909 L880.527 265.909 L880.527 229.89 Z\" fill=\"#000000\" fill-rule=\"nonzero\" fill-opacity=\"1\" /><path clip-path=\"url(#clip250)\" d=\"M893.699 239.983 L897.958 239.983 L897.958 265.909 L893.699 265.909 L893.699 239.983 M893.699 229.89 L897.958 229.89 L897.958 235.284 L893.699 235.284 L893.699 229.89 Z\" fill=\"#000000\" fill-rule=\"nonzero\" fill-opacity=\"1\" /><path clip-path=\"url(#clip250)\" d=\"M916.916 242.969 Q913.49 242.969 911.5 245.654 Q909.509 248.316 909.509 252.969 Q909.509 257.622 911.476 260.307 Q913.467 262.969 916.916 262.969 Q920.319 262.969 922.31 260.284 Q924.3 257.598 924.3 252.969 Q924.3 248.362 922.31 245.677 Q920.319 242.969 916.916 242.969 M916.916 239.358 Q922.472 239.358 925.643 242.969 Q928.814 246.58 928.814 252.969 Q928.814 259.335 925.643 262.969 Q922.472 266.58 916.916 266.58 Q911.338 266.58 908.166 262.969 Q905.018 259.335 905.018 252.969 Q905.018 246.58 908.166 242.969 Q911.338 239.358 916.916 239.358 Z\" fill=\"#000000\" fill-rule=\"nonzero\" fill-opacity=\"1\" /><path clip-path=\"url(#clip250)\" d=\"M952.356 261.973 L959.995 261.973 L959.995 235.608 L951.685 237.275 L951.685 233.015 L959.948 231.349 L964.624 231.349 L964.624 261.973 L972.263 261.973 L972.263 265.909 L952.356 265.909 L952.356 261.973 Z\" fill=\"#000000\" fill-rule=\"nonzero\" fill-opacity=\"1\" /><path clip-path=\"url(#clip250)\" d=\"M995.874 247.274 Q999.231 247.992 1001.11 250.261 Q1003 252.529 1003 255.862 Q1003 260.978 999.485 263.779 Q995.967 266.58 989.485 266.58 Q987.309 266.58 984.995 266.14 Q982.703 265.723 980.249 264.867 L980.249 260.353 Q982.194 261.487 984.508 262.066 Q986.823 262.645 989.346 262.645 Q993.744 262.645 996.036 260.909 Q998.351 259.173 998.351 255.862 Q998.351 252.807 996.198 251.094 Q994.069 249.358 990.249 249.358 L986.221 249.358 L986.221 245.515 L990.434 245.515 Q993.883 245.515 995.712 244.149 Q997.541 242.761 997.541 240.168 Q997.541 237.506 995.643 236.094 Q993.768 234.659 990.249 234.659 Q988.328 234.659 986.129 235.075 Q983.93 235.492 981.291 236.372 L981.291 232.205 Q983.953 231.464 986.268 231.094 Q988.606 230.724 990.666 230.724 Q995.99 230.724 999.092 233.154 Q1002.19 235.562 1002.19 239.682 Q1002.19 242.552 1000.55 244.543 Q998.906 246.511 995.874 247.274 Z\" fill=\"#000000\" fill-rule=\"nonzero\" fill-opacity=\"1\" /><path clip-path=\"url(#clip250)\" d=\"M1036.57 229.937 Q1033.47 235.261 1031.96 240.469 Q1030.46 245.677 1030.46 251.024 Q1030.46 256.372 1031.96 261.626 Q1033.49 266.858 1036.57 272.159 L1032.86 272.159 Q1029.39 266.719 1027.66 261.464 Q1025.94 256.21 1025.94 251.024 Q1025.94 245.862 1027.66 240.631 Q1029.37 235.4 1032.86 229.937 L1036.57 229.937 Z\" fill=\"#000000\" fill-rule=\"nonzero\" fill-opacity=\"1\" /><path clip-path=\"url(#clip250)\" d=\"M1056.61 252.876 Q1051.45 252.876 1049.46 254.057 Q1047.47 255.237 1047.47 258.085 Q1047.47 260.353 1048.95 261.696 Q1050.46 263.015 1053.03 263.015 Q1056.57 263.015 1058.7 260.515 Q1060.85 257.992 1060.85 253.825 L1060.85 252.876 L1056.61 252.876 M1065.11 251.117 L1065.11 265.909 L1060.85 265.909 L1060.85 261.973 Q1059.39 264.335 1057.22 265.469 Q1055.04 266.58 1051.89 266.58 Q1047.91 266.58 1045.55 264.358 Q1043.21 262.112 1043.21 258.362 Q1043.21 253.987 1046.13 251.765 Q1049.07 249.543 1054.88 249.543 L1060.85 249.543 L1060.85 249.126 Q1060.85 246.187 1058.91 244.589 Q1056.98 242.969 1053.49 242.969 Q1051.27 242.969 1049.16 243.501 Q1047.05 244.034 1045.11 245.099 L1045.11 241.163 Q1047.45 240.261 1049.65 239.821 Q1051.85 239.358 1053.93 239.358 Q1059.55 239.358 1062.33 242.274 Q1065.11 245.191 1065.11 251.117 Z\" fill=\"#000000\" fill-rule=\"nonzero\" fill-opacity=\"1\" /><path clip-path=\"url(#clip250)\" d=\"M1092.54 240.978 L1092.54 244.96 Q1090.73 243.964 1088.91 243.478 Q1087.1 242.969 1085.25 242.969 Q1081.11 242.969 1078.81 245.608 Q1076.52 248.224 1076.52 252.969 Q1076.52 257.714 1078.81 260.353 Q1081.11 262.969 1085.25 262.969 Q1087.1 262.969 1088.91 262.483 Q1090.73 261.973 1092.54 260.978 L1092.54 264.913 Q1090.76 265.747 1088.84 266.163 Q1086.94 266.58 1084.79 266.58 Q1078.93 266.58 1075.48 262.899 Q1072.03 259.219 1072.03 252.969 Q1072.03 246.626 1075.5 242.992 Q1079 239.358 1085.06 239.358 Q1087.03 239.358 1088.91 239.775 Q1090.78 240.168 1092.54 240.978 Z\" fill=\"#000000\" fill-rule=\"nonzero\" fill-opacity=\"1\" /><path clip-path=\"url(#clip250)\" d=\"M1104.16 232.622 L1104.16 239.983 L1112.93 239.983 L1112.93 243.293 L1104.16 243.293 L1104.16 257.367 Q1104.16 260.538 1105.02 261.441 Q1105.9 262.344 1108.56 262.344 L1112.93 262.344 L1112.93 265.909 L1108.56 265.909 Q1103.63 265.909 1101.75 264.08 Q1099.88 262.228 1099.88 257.367 L1099.88 243.293 L1096.75 243.293 L1096.75 239.983 L1099.88 239.983 L1099.88 232.622 L1104.16 232.622 Z\" fill=\"#000000\" fill-rule=\"nonzero\" fill-opacity=\"1\" /><path clip-path=\"url(#clip250)\" d=\"M1118.1 255.677 L1118.1 239.983 L1122.35 239.983 L1122.35 255.515 Q1122.35 259.196 1123.79 261.048 Q1125.23 262.876 1128.1 262.876 Q1131.54 262.876 1133.54 260.677 Q1135.55 258.478 1135.55 254.682 L1135.55 239.983 L1139.81 239.983 L1139.81 265.909 L1135.55 265.909 L1135.55 261.927 Q1134 264.288 1131.94 265.446 Q1129.9 266.58 1127.19 266.58 Q1122.73 266.58 1120.41 263.802 Q1118.1 261.024 1118.1 255.677 M1128.81 239.358 L1128.81 239.358 Z\" fill=\"#000000\" fill-rule=\"nonzero\" fill-opacity=\"1\" /><path clip-path=\"url(#clip250)\" d=\"M1160.36 252.876 Q1155.2 252.876 1153.21 254.057 Q1151.22 255.237 1151.22 258.085 Q1151.22 260.353 1152.7 261.696 Q1154.21 263.015 1156.78 263.015 Q1160.32 263.015 1162.45 260.515 Q1164.6 257.992 1164.6 253.825 L1164.6 252.876 L1160.36 252.876 M1168.86 251.117 L1168.86 265.909 L1164.6 265.909 L1164.6 261.973 Q1163.14 264.335 1160.97 265.469 Q1158.79 266.58 1155.64 266.58 Q1151.66 266.58 1149.3 264.358 Q1146.96 262.112 1146.96 258.362 Q1146.96 253.987 1149.88 251.765 Q1152.82 249.543 1158.63 249.543 L1164.6 249.543 L1164.6 249.126 Q1164.6 246.187 1162.66 244.589 Q1160.73 242.969 1157.24 242.969 Q1155.02 242.969 1152.91 243.501 Q1150.8 244.034 1148.86 245.099 L1148.86 241.163 Q1151.2 240.261 1153.4 239.821 Q1155.6 239.358 1157.68 239.358 Q1163.3 239.358 1166.08 242.274 Q1168.86 245.191 1168.86 251.117 Z\" fill=\"#000000\" fill-rule=\"nonzero\" fill-opacity=\"1\" /><path clip-path=\"url(#clip250)\" d=\"M1177.63 229.89 L1181.89 229.89 L1181.89 265.909 L1177.63 265.909 L1177.63 229.89 Z\" fill=\"#000000\" fill-rule=\"nonzero\" fill-opacity=\"1\" /><path clip-path=\"url(#clip250)\" d=\"M1190.13 229.937 L1193.84 229.937 Q1197.31 235.4 1199.02 240.631 Q1200.76 245.862 1200.76 251.024 Q1200.76 256.21 1199.02 261.464 Q1197.31 266.719 1193.84 272.159 L1190.13 272.159 Q1193.21 266.858 1194.72 261.626 Q1196.24 256.372 1196.24 251.024 Q1196.24 245.677 1194.72 240.469 Q1193.21 235.261 1190.13 229.937 Z\" fill=\"#000000\" fill-rule=\"nonzero\" fill-opacity=\"1\" /></svg>\n"
      ]
     },
     "metadata": {},
     "output_type": "display_data"
    }
   ],
   "source": [
    "plot((1/portfolio_performance_array_original[1,end]).*portfolio_performance_array_original[:,end], \n",
    "    lw=3, c=:red, label=\"Portfolio $(portfolio_index) (actual)\")\n",
    "plot!((1/SPY_df[1,:volume_weighted_average_price]).*SPY_df[1:number_of_trading_days,:volume_weighted_average_price], lw=3, \n",
    "    c=:blue, label=\"SPY\")\n",
    "plot!((1/portfolio_performance_array_reallocate[1,end]).*portfolio_performance_array_reallocate[:,end], lw=3, \n",
    "    c=:green, label=\"Reallocate Portfolio $(portfolio_index) (actual)\")\n",
    "xlabel!(\"Trading Day Index (2023)\", fontsize=18)\n",
    "ylabel!(\"Wealth (USD)\", fontsize=18)"
   ]
  },
  {
   "cell_type": "markdown",
   "id": "02e61973-65e8-4b59-8027-fe1299c7d29a",
   "metadata": {},
   "source": [
    "### Compute `share_volume_array` "
   ]
  },
  {
   "cell_type": "code",
   "execution_count": 32,
   "id": "282fea4c-250b-4628-9cb4-d75cd301f0cd",
   "metadata": {
    "tags": []
   },
   "outputs": [
    {
     "name": "stdout",
     "output_type": "stream",
     "text": [
      "┌───────┬────────┬────────┬──────────┬───────┬───────┬──────────┐\n",
      "│\u001b[1m index \u001b[0m│\u001b[1m    PFE \u001b[0m│\u001b[1m    MRK \u001b[0m│\u001b[1m      AMD \u001b[0m│\u001b[1m    MU \u001b[0m│\u001b[1m  INTC \u001b[0m│\u001b[1m      SPY \u001b[0m│\n",
      "├───────┼────────┼────────┼──────────┼───────┼───────┼──────────┤\n",
      "│   0.0 │ 3.5834 │ 3.7533 │ 0.445861 │   0.0 │   0.0 │ 0.973237 │\n",
      "│   1.0 │    0.0 │  2.291 │     7.48 │ 4.838 │   0.0 │      0.0 │\n",
      "│   2.0 │    0.0 │  0.204 │    7.106 │ 9.598 │   0.0 │      0.0 │\n",
      "│   3.0 │    0.0 │  3.497 │    3.714 │ 6.759 │   0.0 │      0.0 │\n",
      "│   4.0 │    0.0 │  1.654 │    4.508 │ 4.069 │ 7.262 │    0.229 │\n",
      "│   5.0 │    0.0 │  1.527 │    3.961 │ 3.819 │ 5.643 │    0.519 │\n",
      "│   6.0 │    0.0 │  0.882 │    3.184 │ 3.009 │ 4.787 │    1.019 │\n",
      "│   7.0 │    0.0 │  1.287 │    3.212 │ 1.556 │ 5.897 │    1.025 │\n",
      "│   8.0 │    0.0 │  1.198 │    3.426 │ 1.236 │ 4.515 │    1.162 │\n",
      "│   9.0 │    0.0 │  0.169 │    3.546 │ 1.088 │  1.56 │    1.667 │\n",
      "│  10.0 │    0.0 │    0.0 │     4.45 │ 2.256 │   0.0 │    1.498 │\n",
      "│  11.0 │    0.0 │  0.789 │    5.439 │ 4.695 │   0.0 │    0.749 │\n",
      "│  12.0 │    0.0 │  0.039 │    3.405 │ 3.183 │ 0.132 │     1.53 │\n",
      "│  13.0 │    0.0 │  1.081 │    2.055 │ 1.651 │ 1.605 │    1.628 │\n",
      "│  14.0 │    0.0 │  0.195 │    2.147 │  1.91 │ 0.787 │    1.872 │\n",
      "│  15.0 │    0.0 │  0.246 │    2.149 │ 1.998 │   0.0 │    1.903 │\n",
      "│  16.0 │    0.0 │    0.0 │    1.528 │ 1.682 │   0.0 │    2.132 │\n",
      "│  17.0 │    0.0 │    0.0 │    1.287 │ 1.732 │   0.0 │    2.169 │\n",
      "│  18.0 │    0.0 │    0.0 │    2.146 │ 2.915 │   0.0 │    1.832 │\n",
      "│  19.0 │    0.0 │    0.0 │    2.157 │ 0.993 │   0.0 │    2.115 │\n",
      "│  20.0 │    0.0 │  0.476 │    1.272 │   0.0 │   0.0 │    2.324 │\n",
      "│  21.0 │    0.0 │  0.337 │    0.596 │   0.0 │   0.0 │    2.502 │\n",
      "│  22.0 │    0.0 │    0.0 │    0.954 │   0.0 │   0.0 │    2.511 │\n",
      "│  23.0 │    0.0 │    0.0 │    1.406 │   0.0 │   0.0 │    2.419 │\n",
      "│  24.0 │    0.0 │   0.27 │    0.922 │   0.0 │   0.0 │     2.45 │\n",
      "│  25.0 │    0.0 │  0.235 │    1.473 │   0.0 │   0.0 │    2.346 │\n",
      "│  26.0 │    0.0 │  0.048 │    1.938 │   0.0 │   0.0 │      2.3 │\n",
      "│  27.0 │    0.0 │  0.223 │     2.17 │   0.0 │   0.0 │    2.207 │\n",
      "│  28.0 │    0.0 │  0.597 │    1.664 │   0.0 │   0.0 │     2.21 │\n",
      "│  29.0 │    0.0 │  0.746 │    1.567 │   0.0 │   0.0 │    2.191 │\n",
      "│  30.0 │    0.0 │  0.311 │    1.409 │   0.0 │   0.0 │    2.336 │\n",
      "│  31.0 │    0.0 │    0.0 │    2.542 │ 0.193 │   0.0 │    2.167 │\n",
      "│  32.0 │    0.0 │    0.0 │    3.106 │ 0.115 │   0.0 │    2.069 │\n",
      "│  33.0 │    0.0 │  0.075 │    4.613 │ 0.686 │   0.0 │    1.676 │\n",
      "│  34.0 │    0.0 │  0.099 │    4.943 │ 0.232 │   0.0 │    1.672 │\n",
      "│  35.0 │    0.0 │  1.575 │    3.931 │ 0.771 │   0.0 │    1.386 │\n",
      "│  36.0 │    0.0 │  1.687 │    4.744 │ 1.446 │   0.0 │    1.096 │\n",
      "│  37.0 │    0.0 │   1.04 │    4.603 │ 0.777 │   0.0 │    1.399 │\n",
      "│  38.0 │    0.0 │    0.0 │    4.639 │ 0.836 │   0.0 │    1.663 │\n",
      "│  39.0 │    0.0 │    0.0 │    4.999 │ 0.741 │   0.0 │    1.605 │\n",
      "│  40.0 │    0.0 │    0.0 │    4.263 │   0.0 │   0.0 │    1.859 │\n",
      "│  41.0 │    0.0 │    0.0 │    3.423 │   0.0 │   0.0 │    2.028 │\n",
      "│  42.0 │    0.0 │  1.356 │    3.819 │   0.0 │   0.0 │    1.576 │\n",
      "│  43.0 │    0.0 │  2.649 │    4.226 │   0.0 │   0.0 │    1.131 │\n",
      "│  44.0 │    0.0 │  1.243 │    3.586 │   0.0 │   0.0 │     1.65 │\n",
      "│  45.0 │    0.0 │  1.782 │    4.486 │   0.0 │   0.0 │    1.309 │\n",
      "│  46.0 │    0.0 │  2.752 │    5.224 │   0.0 │   0.0 │     0.88 │\n",
      "│  47.0 │    0.0 │  1.376 │    5.505 │   0.0 │   0.0 │    1.197 │\n",
      "│  48.0 │    0.0 │  1.776 │    3.967 │   0.0 │   0.0 │    1.431 │\n",
      "│  49.0 │    0.0 │  2.605 │    3.779 │   0.0 │ 0.455 │    1.212 │\n",
      "│  50.0 │    0.0 │  2.227 │    2.536 │   0.0 │ 3.161 │    1.412 │\n",
      "│  51.0 │    0.0 │  1.771 │    2.767 │   0.0 │  3.43 │    1.455 │\n",
      "│  52.0 │    0.0 │  1.882 │    2.837 │   0.0 │ 0.972 │     1.59 │\n",
      "│  53.0 │    0.0 │  1.214 │     2.65 │   0.0 │   0.0 │    1.881 │\n",
      "│  54.0 │    0.0 │  1.541 │    2.927 │   0.0 │   0.0 │    1.725 │\n",
      "│  55.0 │    0.0 │  1.631 │    2.652 │ 0.151 │ 0.427 │    1.716 │\n",
      "│  56.0 │    0.0 │  1.405 │     2.72 │  0.13 │ 1.055 │    1.716 │\n",
      "│  57.0 │    0.0 │  1.956 │    2.902 │   0.0 │ 0.536 │    1.581 │\n",
      "│  58.0 │    0.0 │  1.296 │    3.151 │   0.0 │ 1.439 │     1.63 │\n",
      "│  59.0 │    0.0 │  1.068 │    2.116 │ 0.485 │ 5.437 │    1.547 │\n",
      "│  60.0 │    0.0 │   1.36 │    1.945 │ 0.008 │ 5.692 │    1.566 │\n",
      "│  61.0 │    0.0 │  1.188 │    1.588 │   0.0 │ 5.331 │    1.726 │\n",
      "│  62.0 │    0.0 │    1.7 │     1.57 │   0.0 │ 5.807 │    1.557 │\n",
      "│  63.0 │    0.0 │  1.844 │    1.632 │   0.0 │ 6.811 │    1.423 │\n",
      "│  64.0 │    0.0 │  2.703 │    1.824 │   0.0 │ 7.782 │    1.065 │\n",
      "│  65.0 │    0.0 │  2.677 │    1.818 │   0.0 │  7.55 │    1.092 │\n",
      "│  66.0 │    0.0 │  2.809 │    1.831 │ 0.107 │ 5.964 │    1.162 │\n",
      "│  67.0 │    0.0 │  2.733 │    1.943 │ 0.425 │ 6.185 │    1.091 │\n",
      "│  68.0 │    0.0 │  3.283 │    2.242 │ 0.207 │ 6.677 │    0.864 │\n",
      "│  69.0 │    0.0 │  3.328 │    1.936 │ 0.264 │ 5.438 │    1.007 │\n",
      "│  70.0 │    0.0 │  3.366 │    2.173 │ 0.343 │ 5.462 │     0.93 │\n",
      "│  71.0 │    0.0 │  3.054 │    2.206 │  0.46 │ 6.826 │    0.886 │\n",
      "│  72.0 │    0.0 │  2.907 │    2.534 │ 0.301 │ 6.287 │    0.921 │\n",
      "│  73.0 │    0.0 │  2.458 │    3.105 │   0.0 │ 3.941 │    1.141 │\n",
      "│  74.0 │    0.0 │  2.917 │    3.275 │ 0.559 │ 3.314 │     0.94 │\n",
      "│  75.0 │    0.0 │  3.582 │    3.658 │ 0.817 │ 0.395 │    0.848 │\n",
      "│  76.0 │    0.0 │  3.884 │    4.022 │   0.0 │   0.0 │    0.832 │\n",
      "│  77.0 │    0.0 │  5.853 │    5.317 │   0.0 │   0.0 │      0.0 │\n",
      "│  78.0 │    0.0 │  4.115 │    4.808 │ 3.007 │   0.0 │    0.142 │\n",
      "│  79.0 │    0.0 │  3.442 │     3.92 │ 1.976 │   0.0 │    0.673 │\n",
      "│  80.0 │    0.0 │  3.022 │    2.692 │ 2.151 │ 2.803 │    0.817 │\n",
      "│  81.0 │    0.0 │  3.551 │    3.283 │ 1.114 │   0.0 │    0.902 │\n",
      "│  82.0 │    0.0 │  5.066 │    3.043 │ 1.008 │   0.0 │    0.535 │\n",
      "│  83.0 │    0.0 │  3.364 │    6.499 │ 3.266 │   0.0 │      0.0 │\n",
      "│  84.0 │    0.0 │  4.771 │    3.817 │ 0.373 │ 7.754 │      0.0 │\n",
      "│  85.0 │    0.0 │  4.812 │    3.282 │ 0.419 │ 4.211 │    0.364 │\n",
      "│  86.0 │    0.0 │  4.535 │    2.555 │   0.0 │ 1.287 │    0.891 │\n",
      "│  87.0 │    0.0 │  4.491 │    2.918 │   0.0 │   0.0 │    0.913 │\n",
      "│  88.0 │    0.0 │  4.289 │    2.567 │   0.0 │   0.0 │    1.054 │\n",
      "│  89.0 │    0.0 │  4.283 │    2.705 │   0.0 │   0.0 │    1.023 │\n",
      "│  90.0 │    0.0 │  4.358 │    3.131 │   0.0 │   0.0 │    0.903 │\n",
      "│  91.0 │    0.0 │  3.796 │    2.637 │ 1.145 │   0.0 │    0.998 │\n",
      "│  92.0 │    0.0 │  3.902 │    2.559 │ 0.388 │   0.0 │    1.105 │\n",
      "│  93.0 │    0.0 │  2.943 │    2.318 │ 0.276 │   0.0 │    1.448 │\n",
      "│  94.0 │    0.0 │  2.515 │    1.824 │ 0.382 │   0.0 │    1.675 │\n",
      "│  95.0 │    0.0 │  2.968 │    1.845 │  0.78 │   0.0 │     1.48 │\n",
      "│  96.0 │    0.0 │  2.641 │    1.979 │ 0.077 │   0.0 │    1.646 │\n",
      "│  97.0 │    0.0 │  2.697 │    2.242 │ 0.359 │   0.0 │    1.516 │\n",
      "│  98.0 │    0.0 │  3.117 │    2.295 │  0.71 │   0.0 │     1.33 │\n",
      "│  99.0 │    0.0 │  2.764 │    1.633 │ 0.257 │   0.0 │    1.694 │\n",
      "│ 100.0 │    0.0 │  2.446 │    1.235 │ 0.326 │   0.0 │    1.886 │\n",
      "│ 101.0 │    0.0 │   2.13 │    1.371 │ 0.113 │   0.0 │    1.964 │\n",
      "│ 102.0 │    0.0 │  1.975 │    1.764 │   0.0 │  0.63 │    1.865 │\n",
      "│ 103.0 │    0.0 │  1.927 │    1.566 │   0.0 │   0.0 │     1.98 │\n",
      "│ 104.0 │    0.0 │  1.914 │    1.338 │   0.0 │   0.0 │    2.047 │\n",
      "│ 105.0 │    0.0 │  2.087 │     1.41 │   0.0 │   0.0 │    1.981 │\n",
      "│ 106.0 │    0.0 │  1.649 │    1.203 │   0.0 │   0.0 │    2.154 │\n",
      "│ 107.0 │    0.0 │  0.898 │    1.433 │   0.0 │   0.0 │    2.281 │\n",
      "│ 108.0 │    0.0 │  1.453 │    1.283 │   0.0 │   0.0 │    2.181 │\n",
      "│ 109.0 │    0.0 │  1.725 │    1.182 │   0.0 │   0.0 │     2.14 │\n",
      "│ 110.0 │    0.0 │  1.659 │    0.926 │   0.0 │ 0.459 │    2.198 │\n",
      "│ 111.0 │    0.0 │  1.414 │    0.831 │   0.0 │ 1.492 │    2.207 │\n",
      "│ 112.0 │    0.0 │  1.466 │    0.646 │   0.0 │ 2.937 │     2.13 │\n",
      "│ 113.0 │    0.0 │  1.382 │    0.445 │   0.0 │ 2.576 │    2.236 │\n",
      "│ 114.0 │    0.0 │   1.28 │    0.488 │   0.0 │ 3.999 │    2.132 │\n",
      "│ 115.0 │    0.0 │  1.148 │    0.824 │   0.0 │ 3.543 │    2.111 │\n",
      "│ 116.0 │    0.0 │   0.39 │    1.398 │   0.0 │ 1.394 │    2.319 │\n",
      "│ 117.0 │    0.0 │  0.919 │    1.547 │   0.0 │ 0.818 │    2.186 │\n",
      "│ 118.0 │    0.0 │  1.477 │    1.882 │   0.0 │ 3.064 │    1.783 │\n",
      "│ 119.0 │    0.0 │  0.699 │     1.97 │   0.0 │ 5.494 │    1.777 │\n",
      "│ 120.0 │    0.0 │  0.947 │    1.369 │   0.0 │ 4.861 │    1.914 │\n",
      "└───────┴────────┴────────┴──────────┴───────┴───────┴──────────┘\n"
     ]
    }
   ],
   "source": [
    "share_volume_array = Array{Float64,2}(undef, number_of_trading_days+1, length(w)+1)\n",
    "\n",
    "# initial (tday = 0)\n",
    "share_volume_array[1,1] = 0;\n",
    "for i ∈ eachindex(my_list_of_tickers)\n",
    "    share_volume_array[1,i+1] = Nₒ[i]\n",
    "end\n",
    "\n",
    "for i ∈ 1:number_of_trading_days\n",
    "    n_vector = my_results_df[i,:N_new]\n",
    "    share_volume_array[i+1,1] = i;\n",
    "    for j ∈ eachindex(n_vector)\n",
    "        share_volume_array[i+1,j+1] = n_vector[j] |> x-> round(x,digits=3) |> abs\n",
    "    end\n",
    "end\n",
    "header_data = Array{String,1}()\n",
    "push!(header_data,\"index\");\n",
    "[push!(header_data, ticker) for ticker ∈ my_list_of_tickers]\n",
    "pretty_table(share_volume_array, header=header_data)"
   ]
  },
  {
   "cell_type": "markdown",
   "id": "3d8f1ebd-a1bd-4190-a9b8-0d4ea9e6a4c4",
   "metadata": {},
   "source": [
    "## Disclaimer and Risks\n",
    "__This content is offered solely for training and  informational purposes__. No offer or solicitation to buy or sell securities or derivative products, or any investment or trading advice or strategy,  is made, given, or endorsed by the teaching team. \n",
    "\n",
    "__Trading involves risk__. Carefully review your financial situation before investing in securities, futures contracts, options, or commodity interests. Past performance, whether actual or indicated by historical tests of strategies, is no guarantee of future performance or success. Trading is generally inappropriate for someone with limited resources, investment or trading experience, or a low-risk tolerance.  Only risk capital that is not required for living expenses.\n",
    "\n",
    "__You are fully responsible for any investment or trading decisions you make__. Such decisions should be based solely on your evaluation of your financial circumstances, investment or trading objectives, risk tolerance, and liquidity needs."
   ]
  }
 ],
 "metadata": {
  "kernelspec": {
   "display_name": "Julia 1.9.2",
   "language": "julia",
   "name": "julia-1.9"
  },
  "language_info": {
   "file_extension": ".jl",
   "mimetype": "application/julia",
   "name": "julia",
   "version": "1.9.2"
  }
 },
 "nbformat": 4,
 "nbformat_minor": 5
}
